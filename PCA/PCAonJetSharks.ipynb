{
 "cells": [
  {
   "cell_type": "markdown",
   "metadata": {},
   "source": [
    "# PCA on Jet and Sharks"
   ]
  },
  {
   "cell_type": "code",
   "execution_count": 1,
   "metadata": {},
   "outputs": [],
   "source": [
    "import pandas as pd\n",
    "import numpy as np\n",
    "\n",
    "import matplotlib.pyplot as plt\n",
    "import seaborn as sns\n",
    "import plotly.express as px\n",
    "import plotly.graph_objects as go\n",
    "import networkx as nx\n",
    "from pyvis.network import Network\n",
    "sns.set()\n",
    "\n",
    "from scipy.spatial.distance import euclidean\n",
    "from sklearn.decomposition import PCA"
   ]
  },
  {
   "cell_type": "code",
   "execution_count": 2,
   "metadata": {},
   "outputs": [
    {
     "data": {
      "text/html": [
       "<div>\n",
       "<style scoped>\n",
       "    .dataframe tbody tr th:only-of-type {\n",
       "        vertical-align: middle;\n",
       "    }\n",
       "\n",
       "    .dataframe tbody tr th {\n",
       "        vertical-align: top;\n",
       "    }\n",
       "\n",
       "    .dataframe thead th {\n",
       "        text-align: right;\n",
       "    }\n",
       "</style>\n",
       "<table border=\"1\" class=\"dataframe\">\n",
       "  <thead>\n",
       "    <tr style=\"text-align: right;\">\n",
       "      <th></th>\n",
       "      <th>Jet</th>\n",
       "      <th>Sharks</th>\n",
       "      <th>20s</th>\n",
       "      <th>30s</th>\n",
       "      <th>40s</th>\n",
       "      <th>JH</th>\n",
       "      <th>COL</th>\n",
       "      <th>HS</th>\n",
       "      <th>Single</th>\n",
       "      <th>Married</th>\n",
       "      <th>Divorced</th>\n",
       "      <th>Pusher</th>\n",
       "      <th>Bookie</th>\n",
       "      <th>Burglar</th>\n",
       "    </tr>\n",
       "    <tr>\n",
       "      <th>Name</th>\n",
       "      <th></th>\n",
       "      <th></th>\n",
       "      <th></th>\n",
       "      <th></th>\n",
       "      <th></th>\n",
       "      <th></th>\n",
       "      <th></th>\n",
       "      <th></th>\n",
       "      <th></th>\n",
       "      <th></th>\n",
       "      <th></th>\n",
       "      <th></th>\n",
       "      <th></th>\n",
       "      <th></th>\n",
       "    </tr>\n",
       "  </thead>\n",
       "  <tbody>\n",
       "    <tr>\n",
       "      <th>ART</th>\n",
       "      <td>1</td>\n",
       "      <td>0</td>\n",
       "      <td>0</td>\n",
       "      <td>0</td>\n",
       "      <td>1</td>\n",
       "      <td>1</td>\n",
       "      <td>0</td>\n",
       "      <td>0</td>\n",
       "      <td>1</td>\n",
       "      <td>0</td>\n",
       "      <td>0</td>\n",
       "      <td>1</td>\n",
       "      <td>0</td>\n",
       "      <td>0</td>\n",
       "    </tr>\n",
       "    <tr>\n",
       "      <th>AL</th>\n",
       "      <td>1</td>\n",
       "      <td>0</td>\n",
       "      <td>0</td>\n",
       "      <td>1</td>\n",
       "      <td>0</td>\n",
       "      <td>1</td>\n",
       "      <td>0</td>\n",
       "      <td>0</td>\n",
       "      <td>0</td>\n",
       "      <td>1</td>\n",
       "      <td>0</td>\n",
       "      <td>0</td>\n",
       "      <td>0</td>\n",
       "      <td>1</td>\n",
       "    </tr>\n",
       "    <tr>\n",
       "      <th>SAM</th>\n",
       "      <td>1</td>\n",
       "      <td>0</td>\n",
       "      <td>1</td>\n",
       "      <td>0</td>\n",
       "      <td>0</td>\n",
       "      <td>0</td>\n",
       "      <td>1</td>\n",
       "      <td>0</td>\n",
       "      <td>1</td>\n",
       "      <td>0</td>\n",
       "      <td>0</td>\n",
       "      <td>0</td>\n",
       "      <td>1</td>\n",
       "      <td>0</td>\n",
       "    </tr>\n",
       "    <tr>\n",
       "      <th>CLYDE</th>\n",
       "      <td>1</td>\n",
       "      <td>0</td>\n",
       "      <td>0</td>\n",
       "      <td>0</td>\n",
       "      <td>1</td>\n",
       "      <td>1</td>\n",
       "      <td>0</td>\n",
       "      <td>0</td>\n",
       "      <td>1</td>\n",
       "      <td>0</td>\n",
       "      <td>0</td>\n",
       "      <td>0</td>\n",
       "      <td>1</td>\n",
       "      <td>0</td>\n",
       "    </tr>\n",
       "    <tr>\n",
       "      <th>MIKE</th>\n",
       "      <td>1</td>\n",
       "      <td>0</td>\n",
       "      <td>0</td>\n",
       "      <td>1</td>\n",
       "      <td>0</td>\n",
       "      <td>1</td>\n",
       "      <td>0</td>\n",
       "      <td>0</td>\n",
       "      <td>1</td>\n",
       "      <td>0</td>\n",
       "      <td>0</td>\n",
       "      <td>0</td>\n",
       "      <td>1</td>\n",
       "      <td>0</td>\n",
       "    </tr>\n",
       "    <tr>\n",
       "      <th>JIM</th>\n",
       "      <td>1</td>\n",
       "      <td>0</td>\n",
       "      <td>1</td>\n",
       "      <td>0</td>\n",
       "      <td>0</td>\n",
       "      <td>1</td>\n",
       "      <td>0</td>\n",
       "      <td>0</td>\n",
       "      <td>0</td>\n",
       "      <td>0</td>\n",
       "      <td>1</td>\n",
       "      <td>0</td>\n",
       "      <td>0</td>\n",
       "      <td>1</td>\n",
       "    </tr>\n",
       "    <tr>\n",
       "      <th>GREG</th>\n",
       "      <td>1</td>\n",
       "      <td>0</td>\n",
       "      <td>1</td>\n",
       "      <td>0</td>\n",
       "      <td>0</td>\n",
       "      <td>0</td>\n",
       "      <td>0</td>\n",
       "      <td>1</td>\n",
       "      <td>0</td>\n",
       "      <td>1</td>\n",
       "      <td>0</td>\n",
       "      <td>1</td>\n",
       "      <td>0</td>\n",
       "      <td>0</td>\n",
       "    </tr>\n",
       "    <tr>\n",
       "      <th>JOHN</th>\n",
       "      <td>1</td>\n",
       "      <td>0</td>\n",
       "      <td>1</td>\n",
       "      <td>0</td>\n",
       "      <td>0</td>\n",
       "      <td>1</td>\n",
       "      <td>0</td>\n",
       "      <td>0</td>\n",
       "      <td>0</td>\n",
       "      <td>1</td>\n",
       "      <td>0</td>\n",
       "      <td>0</td>\n",
       "      <td>0</td>\n",
       "      <td>1</td>\n",
       "    </tr>\n",
       "    <tr>\n",
       "      <th>DOUG</th>\n",
       "      <td>1</td>\n",
       "      <td>0</td>\n",
       "      <td>0</td>\n",
       "      <td>1</td>\n",
       "      <td>0</td>\n",
       "      <td>0</td>\n",
       "      <td>0</td>\n",
       "      <td>1</td>\n",
       "      <td>1</td>\n",
       "      <td>0</td>\n",
       "      <td>0</td>\n",
       "      <td>0</td>\n",
       "      <td>1</td>\n",
       "      <td>0</td>\n",
       "    </tr>\n",
       "    <tr>\n",
       "      <th>LANCE</th>\n",
       "      <td>1</td>\n",
       "      <td>0</td>\n",
       "      <td>1</td>\n",
       "      <td>0</td>\n",
       "      <td>0</td>\n",
       "      <td>1</td>\n",
       "      <td>0</td>\n",
       "      <td>0</td>\n",
       "      <td>0</td>\n",
       "      <td>1</td>\n",
       "      <td>0</td>\n",
       "      <td>0</td>\n",
       "      <td>0</td>\n",
       "      <td>1</td>\n",
       "    </tr>\n",
       "    <tr>\n",
       "      <th>GEORGE</th>\n",
       "      <td>1</td>\n",
       "      <td>0</td>\n",
       "      <td>1</td>\n",
       "      <td>0</td>\n",
       "      <td>0</td>\n",
       "      <td>1</td>\n",
       "      <td>0</td>\n",
       "      <td>0</td>\n",
       "      <td>0</td>\n",
       "      <td>0</td>\n",
       "      <td>1</td>\n",
       "      <td>0</td>\n",
       "      <td>0</td>\n",
       "      <td>1</td>\n",
       "    </tr>\n",
       "    <tr>\n",
       "      <th>PETE</th>\n",
       "      <td>1</td>\n",
       "      <td>0</td>\n",
       "      <td>1</td>\n",
       "      <td>0</td>\n",
       "      <td>0</td>\n",
       "      <td>0</td>\n",
       "      <td>0</td>\n",
       "      <td>1</td>\n",
       "      <td>1</td>\n",
       "      <td>0</td>\n",
       "      <td>0</td>\n",
       "      <td>0</td>\n",
       "      <td>1</td>\n",
       "      <td>0</td>\n",
       "    </tr>\n",
       "    <tr>\n",
       "      <th>FRED</th>\n",
       "      <td>1</td>\n",
       "      <td>0</td>\n",
       "      <td>1</td>\n",
       "      <td>0</td>\n",
       "      <td>0</td>\n",
       "      <td>0</td>\n",
       "      <td>0</td>\n",
       "      <td>1</td>\n",
       "      <td>1</td>\n",
       "      <td>0</td>\n",
       "      <td>0</td>\n",
       "      <td>1</td>\n",
       "      <td>0</td>\n",
       "      <td>0</td>\n",
       "    </tr>\n",
       "    <tr>\n",
       "      <th>GENE</th>\n",
       "      <td>1</td>\n",
       "      <td>0</td>\n",
       "      <td>1</td>\n",
       "      <td>0</td>\n",
       "      <td>0</td>\n",
       "      <td>0</td>\n",
       "      <td>1</td>\n",
       "      <td>0</td>\n",
       "      <td>1</td>\n",
       "      <td>0</td>\n",
       "      <td>0</td>\n",
       "      <td>1</td>\n",
       "      <td>0</td>\n",
       "      <td>0</td>\n",
       "    </tr>\n",
       "    <tr>\n",
       "      <th>RALPH</th>\n",
       "      <td>1</td>\n",
       "      <td>0</td>\n",
       "      <td>0</td>\n",
       "      <td>1</td>\n",
       "      <td>0</td>\n",
       "      <td>1</td>\n",
       "      <td>0</td>\n",
       "      <td>0</td>\n",
       "      <td>1</td>\n",
       "      <td>0</td>\n",
       "      <td>0</td>\n",
       "      <td>1</td>\n",
       "      <td>0</td>\n",
       "      <td>0</td>\n",
       "    </tr>\n",
       "    <tr>\n",
       "      <th>PHIL</th>\n",
       "      <td>0</td>\n",
       "      <td>1</td>\n",
       "      <td>0</td>\n",
       "      <td>1</td>\n",
       "      <td>0</td>\n",
       "      <td>0</td>\n",
       "      <td>1</td>\n",
       "      <td>0</td>\n",
       "      <td>0</td>\n",
       "      <td>1</td>\n",
       "      <td>0</td>\n",
       "      <td>1</td>\n",
       "      <td>0</td>\n",
       "      <td>0</td>\n",
       "    </tr>\n",
       "    <tr>\n",
       "      <th>IKE</th>\n",
       "      <td>0</td>\n",
       "      <td>1</td>\n",
       "      <td>0</td>\n",
       "      <td>1</td>\n",
       "      <td>0</td>\n",
       "      <td>1</td>\n",
       "      <td>0</td>\n",
       "      <td>0</td>\n",
       "      <td>1</td>\n",
       "      <td>0</td>\n",
       "      <td>0</td>\n",
       "      <td>0</td>\n",
       "      <td>1</td>\n",
       "      <td>0</td>\n",
       "    </tr>\n",
       "    <tr>\n",
       "      <th>NICK</th>\n",
       "      <td>0</td>\n",
       "      <td>1</td>\n",
       "      <td>0</td>\n",
       "      <td>1</td>\n",
       "      <td>0</td>\n",
       "      <td>0</td>\n",
       "      <td>0</td>\n",
       "      <td>1</td>\n",
       "      <td>1</td>\n",
       "      <td>0</td>\n",
       "      <td>0</td>\n",
       "      <td>1</td>\n",
       "      <td>0</td>\n",
       "      <td>0</td>\n",
       "    </tr>\n",
       "    <tr>\n",
       "      <th>DON</th>\n",
       "      <td>0</td>\n",
       "      <td>1</td>\n",
       "      <td>0</td>\n",
       "      <td>1</td>\n",
       "      <td>0</td>\n",
       "      <td>0</td>\n",
       "      <td>1</td>\n",
       "      <td>0</td>\n",
       "      <td>0</td>\n",
       "      <td>1</td>\n",
       "      <td>0</td>\n",
       "      <td>0</td>\n",
       "      <td>0</td>\n",
       "      <td>1</td>\n",
       "    </tr>\n",
       "    <tr>\n",
       "      <th>NED</th>\n",
       "      <td>0</td>\n",
       "      <td>1</td>\n",
       "      <td>0</td>\n",
       "      <td>1</td>\n",
       "      <td>0</td>\n",
       "      <td>0</td>\n",
       "      <td>1</td>\n",
       "      <td>0</td>\n",
       "      <td>0</td>\n",
       "      <td>1</td>\n",
       "      <td>0</td>\n",
       "      <td>0</td>\n",
       "      <td>1</td>\n",
       "      <td>0</td>\n",
       "    </tr>\n",
       "    <tr>\n",
       "      <th>KARL</th>\n",
       "      <td>0</td>\n",
       "      <td>1</td>\n",
       "      <td>0</td>\n",
       "      <td>0</td>\n",
       "      <td>1</td>\n",
       "      <td>0</td>\n",
       "      <td>0</td>\n",
       "      <td>1</td>\n",
       "      <td>0</td>\n",
       "      <td>1</td>\n",
       "      <td>0</td>\n",
       "      <td>0</td>\n",
       "      <td>1</td>\n",
       "      <td>0</td>\n",
       "    </tr>\n",
       "    <tr>\n",
       "      <th>KEN</th>\n",
       "      <td>0</td>\n",
       "      <td>1</td>\n",
       "      <td>1</td>\n",
       "      <td>0</td>\n",
       "      <td>0</td>\n",
       "      <td>0</td>\n",
       "      <td>0</td>\n",
       "      <td>1</td>\n",
       "      <td>1</td>\n",
       "      <td>0</td>\n",
       "      <td>0</td>\n",
       "      <td>0</td>\n",
       "      <td>0</td>\n",
       "      <td>1</td>\n",
       "    </tr>\n",
       "    <tr>\n",
       "      <th>EARL</th>\n",
       "      <td>0</td>\n",
       "      <td>1</td>\n",
       "      <td>0</td>\n",
       "      <td>0</td>\n",
       "      <td>1</td>\n",
       "      <td>0</td>\n",
       "      <td>0</td>\n",
       "      <td>1</td>\n",
       "      <td>0</td>\n",
       "      <td>1</td>\n",
       "      <td>0</td>\n",
       "      <td>0</td>\n",
       "      <td>0</td>\n",
       "      <td>1</td>\n",
       "    </tr>\n",
       "    <tr>\n",
       "      <th>RICK</th>\n",
       "      <td>0</td>\n",
       "      <td>1</td>\n",
       "      <td>0</td>\n",
       "      <td>1</td>\n",
       "      <td>0</td>\n",
       "      <td>0</td>\n",
       "      <td>0</td>\n",
       "      <td>1</td>\n",
       "      <td>0</td>\n",
       "      <td>0</td>\n",
       "      <td>1</td>\n",
       "      <td>0</td>\n",
       "      <td>0</td>\n",
       "      <td>1</td>\n",
       "    </tr>\n",
       "    <tr>\n",
       "      <th>OL</th>\n",
       "      <td>0</td>\n",
       "      <td>1</td>\n",
       "      <td>0</td>\n",
       "      <td>1</td>\n",
       "      <td>0</td>\n",
       "      <td>0</td>\n",
       "      <td>1</td>\n",
       "      <td>0</td>\n",
       "      <td>0</td>\n",
       "      <td>1</td>\n",
       "      <td>0</td>\n",
       "      <td>1</td>\n",
       "      <td>0</td>\n",
       "      <td>0</td>\n",
       "    </tr>\n",
       "    <tr>\n",
       "      <th>NEAL</th>\n",
       "      <td>0</td>\n",
       "      <td>1</td>\n",
       "      <td>0</td>\n",
       "      <td>1</td>\n",
       "      <td>0</td>\n",
       "      <td>0</td>\n",
       "      <td>0</td>\n",
       "      <td>1</td>\n",
       "      <td>1</td>\n",
       "      <td>0</td>\n",
       "      <td>0</td>\n",
       "      <td>0</td>\n",
       "      <td>1</td>\n",
       "      <td>0</td>\n",
       "    </tr>\n",
       "    <tr>\n",
       "      <th>DAVE</th>\n",
       "      <td>0</td>\n",
       "      <td>1</td>\n",
       "      <td>0</td>\n",
       "      <td>1</td>\n",
       "      <td>0</td>\n",
       "      <td>0</td>\n",
       "      <td>0</td>\n",
       "      <td>1</td>\n",
       "      <td>0</td>\n",
       "      <td>0</td>\n",
       "      <td>1</td>\n",
       "      <td>1</td>\n",
       "      <td>0</td>\n",
       "      <td>0</td>\n",
       "    </tr>\n",
       "  </tbody>\n",
       "</table>\n",
       "</div>"
      ],
      "text/plain": [
       "        Jet   Sharks   20s  30s  40s  JH   COL   HS   Single   Married   \\\n",
       "Name                                                                      \n",
       "ART        1        0    0    0    1    1     0    0        1         0   \n",
       "AL         1        0    0    1    0    1     0    0        0         1   \n",
       "SAM        1        0    1    0    0    0     1    0        1         0   \n",
       "CLYDE      1        0    0    0    1    1     0    0        1         0   \n",
       "MIKE       1        0    0    1    0    1     0    0        1         0   \n",
       "JIM        1        0    1    0    0    1     0    0        0         0   \n",
       "GREG       1        0    1    0    0    0     0    1        0         1   \n",
       "JOHN       1        0    1    0    0    1     0    0        0         1   \n",
       "DOUG       1        0    0    1    0    0     0    1        1         0   \n",
       "LANCE      1        0    1    0    0    1     0    0        0         1   \n",
       "GEORGE     1        0    1    0    0    1     0    0        0         0   \n",
       "PETE       1        0    1    0    0    0     0    1        1         0   \n",
       "FRED       1        0    1    0    0    0     0    1        1         0   \n",
       "GENE       1        0    1    0    0    0     1    0        1         0   \n",
       "RALPH      1        0    0    1    0    1     0    0        1         0   \n",
       "PHIL       0        1    0    1    0    0     1    0        0         1   \n",
       "IKE        0        1    0    1    0    1     0    0        1         0   \n",
       "NICK       0        1    0    1    0    0     0    1        1         0   \n",
       "DON        0        1    0    1    0    0     1    0        0         1   \n",
       "NED        0        1    0    1    0    0     1    0        0         1   \n",
       "KARL       0        1    0    0    1    0     0    1        0         1   \n",
       "KEN        0        1    1    0    0    0     0    1        1         0   \n",
       "EARL       0        1    0    0    1    0     0    1        0         1   \n",
       "RICK       0        1    0    1    0    0     0    1        0         0   \n",
       "OL         0        1    0    1    0    0     1    0        0         1   \n",
       "NEAL       0        1    0    1    0    0     0    1        1         0   \n",
       "DAVE       0        1    0    1    0    0     0    1        0         0   \n",
       "\n",
       "        Divorced   Pusher   Bookie   Burglar   \n",
       "Name                                           \n",
       "ART             0        1        0         0  \n",
       "AL              0        0        0         1  \n",
       "SAM             0        0        1         0  \n",
       "CLYDE           0        0        1         0  \n",
       "MIKE            0        0        1         0  \n",
       "JIM             1        0        0         1  \n",
       "GREG            0        1        0         0  \n",
       "JOHN            0        0        0         1  \n",
       "DOUG            0        0        1         0  \n",
       "LANCE           0        0        0         1  \n",
       "GEORGE          1        0        0         1  \n",
       "PETE            0        0        1         0  \n",
       "FRED            0        1        0         0  \n",
       "GENE            0        1        0         0  \n",
       "RALPH           0        1        0         0  \n",
       "PHIL            0        1        0         0  \n",
       "IKE             0        0        1         0  \n",
       "NICK            0        1        0         0  \n",
       "DON             0        0        0         1  \n",
       "NED             0        0        1         0  \n",
       "KARL            0        0        1         0  \n",
       "KEN             0        0        0         1  \n",
       "EARL            0        0        0         1  \n",
       "RICK            1        0        0         1  \n",
       "OL              0        1        0         0  \n",
       "NEAL            0        0        1         0  \n",
       "DAVE            1        1        0         0  "
      ]
     },
     "execution_count": 2,
     "metadata": {},
     "output_type": "execute_result"
    }
   ],
   "source": [
    "df = pd.read_excel(\"DBgang27x14.xlsx\")\n",
    "df.rename(columns={\"Unnamed: 0\":\"Name\"},inplace=True)\n",
    "df.set_index(\"Name\",inplace=True)\n",
    "df"
   ]
  },
  {
   "cell_type": "code",
   "execution_count": 3,
   "metadata": {},
   "outputs": [
    {
     "data": {
      "text/html": [
       "<div>\n",
       "<style scoped>\n",
       "    .dataframe tbody tr th:only-of-type {\n",
       "        vertical-align: middle;\n",
       "    }\n",
       "\n",
       "    .dataframe tbody tr th {\n",
       "        vertical-align: top;\n",
       "    }\n",
       "\n",
       "    .dataframe thead th {\n",
       "        text-align: right;\n",
       "    }\n",
       "</style>\n",
       "<table border=\"1\" class=\"dataframe\">\n",
       "  <thead>\n",
       "    <tr style=\"text-align: right;\">\n",
       "      <th></th>\n",
       "      <th>20s</th>\n",
       "      <th>30s</th>\n",
       "      <th>40s</th>\n",
       "      <th>JH</th>\n",
       "      <th>COL</th>\n",
       "      <th>HS</th>\n",
       "      <th>Single</th>\n",
       "      <th>Married</th>\n",
       "      <th>Divorced</th>\n",
       "      <th>Pusher</th>\n",
       "      <th>Bookie</th>\n",
       "      <th>Burglar</th>\n",
       "    </tr>\n",
       "    <tr>\n",
       "      <th>Name</th>\n",
       "      <th></th>\n",
       "      <th></th>\n",
       "      <th></th>\n",
       "      <th></th>\n",
       "      <th></th>\n",
       "      <th></th>\n",
       "      <th></th>\n",
       "      <th></th>\n",
       "      <th></th>\n",
       "      <th></th>\n",
       "      <th></th>\n",
       "      <th></th>\n",
       "    </tr>\n",
       "  </thead>\n",
       "  <tbody>\n",
       "    <tr>\n",
       "      <th>ART</th>\n",
       "      <td>0</td>\n",
       "      <td>0</td>\n",
       "      <td>1</td>\n",
       "      <td>1</td>\n",
       "      <td>0</td>\n",
       "      <td>0</td>\n",
       "      <td>1</td>\n",
       "      <td>0</td>\n",
       "      <td>0</td>\n",
       "      <td>1</td>\n",
       "      <td>0</td>\n",
       "      <td>0</td>\n",
       "    </tr>\n",
       "    <tr>\n",
       "      <th>AL</th>\n",
       "      <td>0</td>\n",
       "      <td>1</td>\n",
       "      <td>0</td>\n",
       "      <td>1</td>\n",
       "      <td>0</td>\n",
       "      <td>0</td>\n",
       "      <td>0</td>\n",
       "      <td>1</td>\n",
       "      <td>0</td>\n",
       "      <td>0</td>\n",
       "      <td>0</td>\n",
       "      <td>1</td>\n",
       "    </tr>\n",
       "    <tr>\n",
       "      <th>SAM</th>\n",
       "      <td>1</td>\n",
       "      <td>0</td>\n",
       "      <td>0</td>\n",
       "      <td>0</td>\n",
       "      <td>1</td>\n",
       "      <td>0</td>\n",
       "      <td>1</td>\n",
       "      <td>0</td>\n",
       "      <td>0</td>\n",
       "      <td>0</td>\n",
       "      <td>1</td>\n",
       "      <td>0</td>\n",
       "    </tr>\n",
       "    <tr>\n",
       "      <th>CLYDE</th>\n",
       "      <td>0</td>\n",
       "      <td>0</td>\n",
       "      <td>1</td>\n",
       "      <td>1</td>\n",
       "      <td>0</td>\n",
       "      <td>0</td>\n",
       "      <td>1</td>\n",
       "      <td>0</td>\n",
       "      <td>0</td>\n",
       "      <td>0</td>\n",
       "      <td>1</td>\n",
       "      <td>0</td>\n",
       "    </tr>\n",
       "    <tr>\n",
       "      <th>MIKE</th>\n",
       "      <td>0</td>\n",
       "      <td>1</td>\n",
       "      <td>0</td>\n",
       "      <td>1</td>\n",
       "      <td>0</td>\n",
       "      <td>0</td>\n",
       "      <td>1</td>\n",
       "      <td>0</td>\n",
       "      <td>0</td>\n",
       "      <td>0</td>\n",
       "      <td>1</td>\n",
       "      <td>0</td>\n",
       "    </tr>\n",
       "  </tbody>\n",
       "</table>\n",
       "</div>"
      ],
      "text/plain": [
       "       20s  30s  40s  JH   COL   HS   Single   Married   Divorced   Pusher   \\\n",
       "Name                                                                          \n",
       "ART      0    0    1    1     0    0        1         0          0        1   \n",
       "AL       0    1    0    1     0    0        0         1          0        0   \n",
       "SAM      1    0    0    0     1    0        1         0          0        0   \n",
       "CLYDE    0    0    1    1     0    0        1         0          0        0   \n",
       "MIKE     0    1    0    1     0    0        1         0          0        0   \n",
       "\n",
       "       Bookie   Burglar   \n",
       "Name                      \n",
       "ART          0         0  \n",
       "AL           0         1  \n",
       "SAM          1         0  \n",
       "CLYDE        1         0  \n",
       "MIKE         1         0  "
      ]
     },
     "execution_count": 3,
     "metadata": {},
     "output_type": "execute_result"
    }
   ],
   "source": [
    "df_features = df[df.columns[2:]]\n",
    "df_features.head()"
   ]
  },
  {
   "cell_type": "markdown",
   "metadata": {},
   "source": [
    "## PCA"
   ]
  },
  {
   "cell_type": "markdown",
   "metadata": {},
   "source": [
    "### PCA scelta ed analisi componenti"
   ]
  },
  {
   "cell_type": "code",
   "execution_count": 4,
   "metadata": {},
   "outputs": [
    {
     "data": {
      "text/plain": [
       "array([2.36455169e+01, 1.92744693e+01, 1.55842001e+01, 1.29943273e+01,\n",
       "       1.15713146e+01, 8.75363490e+00, 4.53033929e+00, 3.64619752e+00,\n",
       "       1.11116627e-30, 4.98377362e-31, 2.01313618e-31, 6.12125114e-32])"
      ]
     },
     "execution_count": 4,
     "metadata": {},
     "output_type": "execute_result"
    }
   ],
   "source": [
    "pca = PCA()\n",
    "pca.fit(df_features.values)\n",
    "pca.explained_variance_ratio_*100"
   ]
  },
  {
   "cell_type": "markdown",
   "metadata": {},
   "source": [
    "#### Component 1 ~ 23.64%\n",
    "#### Component 2 ~ 19.27%\n",
    "#### Component 3 ~ 15.58%\n",
    "#### Component 4 ~ 12.99%\n",
    "#### Component 5 ~ 11.57%\n",
    "#### Component 6 ~ 8.75%\n",
    "#### Component 7 ~ 4.53%\n",
    "#### Component 8 ~ 3.64%\n",
    "####  ...\n",
    "#### Sum 8 ~ 99.97%\n",
    "#### Sum 6 ~ 91.80%\n",
    "#### Decido di usare 6 componenti"
   ]
  },
  {
   "cell_type": "code",
   "execution_count": 5,
   "metadata": {},
   "outputs": [
    {
     "data": {
      "text/html": [
       "<div>\n",
       "<style scoped>\n",
       "    .dataframe tbody tr th:only-of-type {\n",
       "        vertical-align: middle;\n",
       "    }\n",
       "\n",
       "    .dataframe tbody tr th {\n",
       "        vertical-align: top;\n",
       "    }\n",
       "\n",
       "    .dataframe thead th {\n",
       "        text-align: right;\n",
       "    }\n",
       "</style>\n",
       "<table border=\"1\" class=\"dataframe\">\n",
       "  <thead>\n",
       "    <tr style=\"text-align: right;\">\n",
       "      <th></th>\n",
       "      <th>20s</th>\n",
       "      <th>30s</th>\n",
       "      <th>40s</th>\n",
       "      <th>JH</th>\n",
       "      <th>COL</th>\n",
       "      <th>HS</th>\n",
       "      <th>Single</th>\n",
       "      <th>Married</th>\n",
       "      <th>Divorced</th>\n",
       "      <th>Pusher</th>\n",
       "      <th>Bookie</th>\n",
       "      <th>Burglar</th>\n",
       "    </tr>\n",
       "  </thead>\n",
       "  <tbody>\n",
       "    <tr>\n",
       "      <th>Component 1</th>\n",
       "      <td>0.224932</td>\n",
       "      <td>-0.207233</td>\n",
       "      <td>-0.017699</td>\n",
       "      <td>0.197360</td>\n",
       "      <td>0.007593</td>\n",
       "      <td>-0.204953</td>\n",
       "      <td>-0.509372</td>\n",
       "      <td>0.354590</td>\n",
       "      <td>0.154782</td>\n",
       "      <td>-0.145186</td>\n",
       "      <td>-0.365792</td>\n",
       "      <td>0.510978</td>\n",
       "    </tr>\n",
       "    <tr>\n",
       "      <th>Component 2</th>\n",
       "      <td>-0.441155</td>\n",
       "      <td>0.508036</td>\n",
       "      <td>-0.066881</td>\n",
       "      <td>-0.277506</td>\n",
       "      <td>0.341222</td>\n",
       "      <td>-0.063717</td>\n",
       "      <td>-0.330921</td>\n",
       "      <td>0.406264</td>\n",
       "      <td>-0.075343</td>\n",
       "      <td>0.207540</td>\n",
       "      <td>-0.088585</td>\n",
       "      <td>-0.118954</td>\n",
       "    </tr>\n",
       "    <tr>\n",
       "      <th>Component 3</th>\n",
       "      <td>0.302642</td>\n",
       "      <td>-0.242462</td>\n",
       "      <td>-0.060180</td>\n",
       "      <td>-0.548845</td>\n",
       "      <td>0.006209</td>\n",
       "      <td>0.542636</td>\n",
       "      <td>-0.074950</td>\n",
       "      <td>0.010245</td>\n",
       "      <td>0.064705</td>\n",
       "      <td>0.363430</td>\n",
       "      <td>-0.327049</td>\n",
       "      <td>-0.036381</td>\n",
       "    </tr>\n",
       "    <tr>\n",
       "      <th>Component 4</th>\n",
       "      <td>0.243601</td>\n",
       "      <td>-0.091153</td>\n",
       "      <td>-0.152448</td>\n",
       "      <td>0.217165</td>\n",
       "      <td>0.296551</td>\n",
       "      <td>-0.513716</td>\n",
       "      <td>0.191982</td>\n",
       "      <td>-0.104176</td>\n",
       "      <td>-0.087806</td>\n",
       "      <td>0.547928</td>\n",
       "      <td>-0.320575</td>\n",
       "      <td>-0.227353</td>\n",
       "    </tr>\n",
       "    <tr>\n",
       "      <th>Component 5</th>\n",
       "      <td>-0.243754</td>\n",
       "      <td>0.411836</td>\n",
       "      <td>-0.168082</td>\n",
       "      <td>0.230319</td>\n",
       "      <td>-0.368646</td>\n",
       "      <td>0.138327</td>\n",
       "      <td>-0.011125</td>\n",
       "      <td>-0.393429</td>\n",
       "      <td>0.404554</td>\n",
       "      <td>0.210277</td>\n",
       "      <td>-0.378766</td>\n",
       "      <td>0.168489</td>\n",
       "    </tr>\n",
       "    <tr>\n",
       "      <th>Component 6</th>\n",
       "      <td>-0.341960</td>\n",
       "      <td>-0.267421</td>\n",
       "      <td>0.609381</td>\n",
       "      <td>0.253843</td>\n",
       "      <td>-0.347035</td>\n",
       "      <td>0.093192</td>\n",
       "      <td>-0.035610</td>\n",
       "      <td>0.233986</td>\n",
       "      <td>-0.198376</td>\n",
       "      <td>0.317554</td>\n",
       "      <td>-0.161828</td>\n",
       "      <td>-0.155726</td>\n",
       "    </tr>\n",
       "  </tbody>\n",
       "</table>\n",
       "</div>"
      ],
      "text/plain": [
       "                  20s       30s       40s       JH       COL        HS   \\\n",
       "Component 1  0.224932 -0.207233 -0.017699  0.197360  0.007593 -0.204953   \n",
       "Component 2 -0.441155  0.508036 -0.066881 -0.277506  0.341222 -0.063717   \n",
       "Component 3  0.302642 -0.242462 -0.060180 -0.548845  0.006209  0.542636   \n",
       "Component 4  0.243601 -0.091153 -0.152448  0.217165  0.296551 -0.513716   \n",
       "Component 5 -0.243754  0.411836 -0.168082  0.230319 -0.368646  0.138327   \n",
       "Component 6 -0.341960 -0.267421  0.609381  0.253843 -0.347035  0.093192   \n",
       "\n",
       "              Single   Married   Divorced    Pusher    Bookie   Burglar   \n",
       "Component 1 -0.509372  0.354590   0.154782 -0.145186 -0.365792  0.510978  \n",
       "Component 2 -0.330921  0.406264  -0.075343  0.207540 -0.088585 -0.118954  \n",
       "Component 3 -0.074950  0.010245   0.064705  0.363430 -0.327049 -0.036381  \n",
       "Component 4  0.191982 -0.104176  -0.087806  0.547928 -0.320575 -0.227353  \n",
       "Component 5 -0.011125 -0.393429   0.404554  0.210277 -0.378766  0.168489  \n",
       "Component 6 -0.035610  0.233986  -0.198376  0.317554 -0.161828 -0.155726  "
      ]
     },
     "execution_count": 5,
     "metadata": {},
     "output_type": "execute_result"
    }
   ],
   "source": [
    "pca = PCA(n_components=6)\n",
    "pca.fit(df_features.values)\n",
    "df_pca_comp = pd.DataFrame(data = pca.components_,\n",
    "                           columns = df_features.columns.values,\n",
    "                           index = ['Component 1', 'Component 2', 'Component 3','Component 4', 'Component 5', 'Component 6'])\n",
    "df_pca_comp"
   ]
  },
  {
   "cell_type": "code",
   "execution_count": 6,
   "metadata": {},
   "outputs": [],
   "source": [
    "title = \"Heatmap componenti pca\"\n",
    "fig = px.imshow(df_pca_comp,color_continuous_scale='RdBu_r',aspect=\"auto\", title=title)\n",
    "fig.write_html(title+'.html')\n",
    "fig.show()"
   ]
  },
  {
   "cell_type": "code",
   "execution_count": 7,
   "metadata": {},
   "outputs": [],
   "source": [
    "cod_componenti = []"
   ]
  },
  {
   "cell_type": "code",
   "execution_count": 8,
   "metadata": {},
   "outputs": [
    {
     "data": {
      "text/plain": [
       "20s         0.224932\n",
       "30s        -0.207233\n",
       "HS         -0.204953\n",
       "Single     -0.509372\n",
       "Married     0.354590\n",
       "Bookie     -0.365792\n",
       "Burglar     0.510978\n",
       "Name: Component 1, dtype: float64"
      ]
     },
     "execution_count": 8,
     "metadata": {},
     "output_type": "execute_result"
    }
   ],
   "source": [
    "descrittori_componente1 = df_pca_comp.iloc[0][abs(df_pca_comp.iloc[0])>0.2]\n",
    "descrittori_componente1"
   ]
  },
  {
   "cell_type": "code",
   "execution_count": 9,
   "metadata": {},
   "outputs": [],
   "source": [
    "# ventenne istruzione bassa sposato scassinatore\n",
    "cod_componenti.append(\"(1)20s JH Married Burglar\")"
   ]
  },
  {
   "cell_type": "code",
   "execution_count": 10,
   "metadata": {},
   "outputs": [
    {
     "data": {
      "text/plain": [
       "20s        -0.441155\n",
       "30s         0.508036\n",
       "JH         -0.277506\n",
       "COL         0.341222\n",
       "Single     -0.330921\n",
       "Married     0.406264\n",
       "Pusher      0.207540\n",
       "Name: Component 2, dtype: float64"
      ]
     },
     "execution_count": 10,
     "metadata": {},
     "output_type": "execute_result"
    }
   ],
   "source": [
    "descrittori_componente2 = df_pca_comp.iloc[1][abs(df_pca_comp.iloc[1])>0.2]\n",
    "descrittori_componente2"
   ]
  },
  {
   "cell_type": "code",
   "execution_count": 11,
   "metadata": {},
   "outputs": [],
   "source": [
    "#trentenne istruzione alta sposato spacciatore\n",
    "cod_componenti.append(\"(2)30s COL Married Pusher\")"
   ]
  },
  {
   "cell_type": "code",
   "execution_count": 12,
   "metadata": {},
   "outputs": [
    {
     "data": {
      "text/plain": [
       "20s        0.302642\n",
       "30s       -0.242462\n",
       "JH        -0.548845\n",
       "HS         0.542636\n",
       "Pusher     0.363430\n",
       "Bookie    -0.327049\n",
       "Name: Component 3, dtype: float64"
      ]
     },
     "execution_count": 12,
     "metadata": {},
     "output_type": "execute_result"
    }
   ],
   "source": [
    "descrittori_componente3 = df_pca_comp.iloc[2][abs(df_pca_comp.iloc[2])>0.2]\n",
    "descrittori_componente3"
   ]
  },
  {
   "cell_type": "code",
   "execution_count": 13,
   "metadata": {},
   "outputs": [],
   "source": [
    "#ventenne istruzione media spacciatore\n",
    "cod_componenti.append(\"(3)20s HS Pusher\")"
   ]
  },
  {
   "cell_type": "code",
   "execution_count": 14,
   "metadata": {},
   "outputs": [
    {
     "data": {
      "text/plain": [
       "20s         0.243601\n",
       "JH          0.217165\n",
       "COL         0.296551\n",
       "HS         -0.513716\n",
       "Pusher      0.547928\n",
       "Bookie     -0.320575\n",
       "Burglar    -0.227353\n",
       "Name: Component 4, dtype: float64"
      ]
     },
     "execution_count": 14,
     "metadata": {},
     "output_type": "execute_result"
    }
   ],
   "source": [
    "descrittori_componente4 = df_pca_comp.iloc[3][abs(df_pca_comp.iloc[3])>0.2]\n",
    "descrittori_componente4"
   ]
  },
  {
   "cell_type": "code",
   "execution_count": 15,
   "metadata": {},
   "outputs": [],
   "source": [
    "# ventenne istruzione bassa o alta single spacciatore\n",
    "cod_componenti.append(\"(4)20s JH/COL Single Pusher\")"
   ]
  },
  {
   "cell_type": "code",
   "execution_count": 16,
   "metadata": {},
   "outputs": [
    {
     "data": {
      "text/plain": [
       "20s         -0.243754\n",
       "30s          0.411836\n",
       "JH           0.230319\n",
       "COL         -0.368646\n",
       "Married     -0.393429\n",
       "Divorced     0.404554\n",
       "Pusher       0.210277\n",
       "Bookie      -0.378766\n",
       "Name: Component 5, dtype: float64"
      ]
     },
     "execution_count": 16,
     "metadata": {},
     "output_type": "execute_result"
    }
   ],
   "source": [
    "descrittori_componente5 = df_pca_comp.iloc[4][abs(df_pca_comp.iloc[4])>0.2]\n",
    "descrittori_componente5"
   ]
  },
  {
   "cell_type": "code",
   "execution_count": 17,
   "metadata": {},
   "outputs": [],
   "source": [
    "# trentenne istruzione medio bassa divorziato spacciatore o scassinatore\n",
    "cod_componenti.append(\"(5)30s JH/HS Divorced Pusher/Burglar\")"
   ]
  },
  {
   "cell_type": "code",
   "execution_count": 18,
   "metadata": {},
   "outputs": [
    {
     "data": {
      "text/plain": [
       "20s        -0.341960\n",
       "30s        -0.267421\n",
       "40s         0.609381\n",
       "JH          0.253843\n",
       "COL        -0.347035\n",
       "Married     0.233986\n",
       "Pusher      0.317554\n",
       "Name: Component 6, dtype: float64"
      ]
     },
     "execution_count": 18,
     "metadata": {},
     "output_type": "execute_result"
    }
   ],
   "source": [
    "descrittori_componente6 = df_pca_comp.iloc[5][abs(df_pca_comp.iloc[5])>0.2]\n",
    "descrittori_componente6"
   ]
  },
  {
   "cell_type": "code",
   "execution_count": 19,
   "metadata": {},
   "outputs": [],
   "source": [
    "# quarantenne istruzione medio bassa sposato spacciatore\n",
    "cod_componenti.append(\"(6)40s JH/HS Married Pusher\")"
   ]
  },
  {
   "cell_type": "markdown",
   "metadata": {},
   "source": [
    "### Riduzione dimensionale"
   ]
  },
  {
   "cell_type": "code",
   "execution_count": 20,
   "metadata": {},
   "outputs": [
    {
     "name": "stderr",
     "output_type": "stream",
     "text": [
      "/home/davide/.local/lib/python3.8/site-packages/sklearn/base.py:443: UserWarning:\n",
      "\n",
      "X has feature names, but PCA was fitted without feature names\n",
      "\n"
     ]
    },
    {
     "data": {
      "text/html": [
       "<div>\n",
       "<style scoped>\n",
       "    .dataframe tbody tr th:only-of-type {\n",
       "        vertical-align: middle;\n",
       "    }\n",
       "\n",
       "    .dataframe tbody tr th {\n",
       "        vertical-align: top;\n",
       "    }\n",
       "\n",
       "    .dataframe thead th {\n",
       "        text-align: right;\n",
       "    }\n",
       "</style>\n",
       "<table border=\"1\" class=\"dataframe\">\n",
       "  <thead>\n",
       "    <tr style=\"text-align: right;\">\n",
       "      <th></th>\n",
       "      <th>(1)20s JH Married Burglar</th>\n",
       "      <th>(2)30s COL Married Pusher</th>\n",
       "      <th>(3)20s HS Pusher</th>\n",
       "      <th>(4)20s JH/COL Single Pusher</th>\n",
       "      <th>(5)30s JH/HS Divorced Pusher/Burglar</th>\n",
       "      <th>(6)40s JH/HS Married Pusher</th>\n",
       "      <th>Jet</th>\n",
       "      <th>Sharks</th>\n",
       "    </tr>\n",
       "    <tr>\n",
       "      <th>Name</th>\n",
       "      <th></th>\n",
       "      <th></th>\n",
       "      <th></th>\n",
       "      <th></th>\n",
       "      <th></th>\n",
       "      <th></th>\n",
       "      <th></th>\n",
       "      <th></th>\n",
       "    </tr>\n",
       "  </thead>\n",
       "  <tbody>\n",
       "    <tr>\n",
       "      <th>ART</th>\n",
       "      <td>-0.356095</td>\n",
       "      <td>-0.466142</td>\n",
       "      <td>-0.303449</td>\n",
       "      <td>0.802994</td>\n",
       "      <td>0.209677</td>\n",
       "      <td>1.215309</td>\n",
       "      <td>1</td>\n",
       "      <td>0</td>\n",
       "    </tr>\n",
       "    <tr>\n",
       "      <th>AL</th>\n",
       "      <td>0.974496</td>\n",
       "      <td>0.519467</td>\n",
       "      <td>-0.800347</td>\n",
       "      <td>-0.207149</td>\n",
       "      <td>0.365502</td>\n",
       "      <td>0.134822</td>\n",
       "      <td>1</td>\n",
       "      <td>0</td>\n",
       "    </tr>\n",
       "    <tr>\n",
       "      <th>SAM</th>\n",
       "      <td>-0.523838</td>\n",
       "      <td>-0.517813</td>\n",
       "      <td>-0.076053</td>\n",
       "      <td>0.409925</td>\n",
       "      <td>-1.054002</td>\n",
       "      <td>-0.816292</td>\n",
       "      <td>1</td>\n",
       "      <td>0</td>\n",
       "    </tr>\n",
       "    <tr>\n",
       "      <th>CLYDE</th>\n",
       "      <td>-0.576702</td>\n",
       "      <td>-0.762267</td>\n",
       "      <td>-0.993928</td>\n",
       "      <td>-0.065509</td>\n",
       "      <td>-0.379366</td>\n",
       "      <td>0.735927</td>\n",
       "      <td>1</td>\n",
       "      <td>0</td>\n",
       "    </tr>\n",
       "    <tr>\n",
       "      <th>MIKE</th>\n",
       "      <td>-0.766236</td>\n",
       "      <td>-0.187350</td>\n",
       "      <td>-1.176210</td>\n",
       "      <td>-0.004213</td>\n",
       "      <td>0.200552</td>\n",
       "      <td>-0.140875</td>\n",
       "      <td>1</td>\n",
       "      <td>0</td>\n",
       "    </tr>\n",
       "  </tbody>\n",
       "</table>\n",
       "</div>"
      ],
      "text/plain": [
       "       (1)20s JH Married Burglar  (2)30s COL Married Pusher  (3)20s HS Pusher  \\\n",
       "Name                                                                            \n",
       "ART                    -0.356095                  -0.466142         -0.303449   \n",
       "AL                      0.974496                   0.519467         -0.800347   \n",
       "SAM                    -0.523838                  -0.517813         -0.076053   \n",
       "CLYDE                  -0.576702                  -0.762267         -0.993928   \n",
       "MIKE                   -0.766236                  -0.187350         -1.176210   \n",
       "\n",
       "       (4)20s JH/COL Single Pusher  (5)30s JH/HS Divorced Pusher/Burglar  \\\n",
       "Name                                                                       \n",
       "ART                       0.802994                              0.209677   \n",
       "AL                       -0.207149                              0.365502   \n",
       "SAM                       0.409925                             -1.054002   \n",
       "CLYDE                    -0.065509                             -0.379366   \n",
       "MIKE                     -0.004213                              0.200552   \n",
       "\n",
       "       (6)40s JH/HS Married Pusher  Jet   Sharks   \n",
       "Name                                               \n",
       "ART                       1.215309     1        0  \n",
       "AL                        0.134822     1        0  \n",
       "SAM                      -0.816292     1        0  \n",
       "CLYDE                     0.735927     1        0  \n",
       "MIKE                     -0.140875     1        0  "
      ]
     },
     "execution_count": 20,
     "metadata": {},
     "output_type": "execute_result"
    }
   ],
   "source": [
    "scores_pca = pca.transform(df_features)\n",
    "df_pca = pd.DataFrame(data=scores_pca, index=df_features.index, columns=cod_componenti)\n",
    "df_pca = pd.concat([df_pca,df[df.columns[:2]]],axis=1)\n",
    "df_pca.head()"
   ]
  },
  {
   "cell_type": "code",
   "execution_count": 21,
   "metadata": {},
   "outputs": [
    {
     "data": {
      "application/vnd.plotly.v1+json": {
       "config": {
        "plotlyServerURL": "https://plot.ly"
       },
       "data": [
        {
         "coloraxis": "coloraxis",
         "hovertemplate": "x: %{x}<br>Name: %{y}<br>color: %{z}<extra></extra>",
         "name": "0",
         "type": "heatmap",
         "x": [
          "(1)20s JH Married Burglar",
          "(2)30s COL Married Pusher",
          "(3)20s HS Pusher",
          "(4)20s JH/COL Single Pusher",
          "(5)30s JH/HS Divorced Pusher/Burglar",
          "(6)40s JH/HS Married Pusher"
         ],
         "xaxis": "x",
         "y": [
          "ART",
          "AL",
          "SAM",
          "CLYDE",
          "MIKE",
          "JIM",
          "GREG",
          "JOHN",
          "DOUG",
          "LANCE",
          "GEORGE",
          "PETE",
          "FRED",
          "GENE",
          "RALPH",
          "PHIL",
          "IKE",
          "NICK",
          "DON",
          "NED",
          "KARL",
          "KEN",
          "EARL",
          "RICK",
          "OL",
          "NEAL",
          "DAVE"
         ],
         "yaxis": "y",
         "z": [
          [
           -0.3560954998839552,
           -0.46614215842279716,
           -0.30344862083628016,
           0.8029940635277434,
           0.2096768938262485,
           1.2153088230811648
          ],
          [
           0.9744962460607834,
           0.5194672024325644,
           -0.8003470632425476,
           -0.20714934234091714,
           0.3655024601130409,
           0.13482233794423618
          ],
          [
           -0.5238379909746651,
           -0.5178130498604221,
           -0.0760530281885982,
           0.4099254636561553,
           -1.0540021004855067,
           -0.8162924004611049
          ],
          [
           -0.5767017781153394,
           -0.7622672076856891,
           -0.9939277652911731,
           -0.06550883156245463,
           -0.37936580964229544,
           0.7359266515679668
          ],
          [
           -0.7662355112167649,
           -0.1873495552884313,
           -1.176210428575822,
           -0.004213484788285112,
           0.2005520304176095,
           -0.14087515976320725
          ],
          [
           1.206853629025359,
           -0.9113313634629493,
           -0.20078303623558877,
           0.14397392082175495,
           0.5078965385154339,
           -0.37207799550230614
          ],
          [
           0.34818469509566435,
           0.11055867892595429,
           1.2360490191410647,
           0.1720032090511643,
           -0.3402898401110689,
           0.37291239224709
          ],
          [
           1.4066610276100935,
           -0.42972424583527685,
           -0.2552432133366913,
           0.12760390380908546,
           -0.2900868930959257,
           0.06028358075202683
          ],
          [
           -1.1685486504006015,
           0.026439512118071176,
           -0.08472950304528412,
           -0.7350947127501672,
           0.10856084979074127,
           -0.30152697062601735
          ],
          [
           1.4066610276100935,
           -0.42972424583527685,
           -0.2552432133366913,
           0.12760390380908546,
           -0.2900868930959257,
           0.06028358075202683
          ],
          [
           1.206853629025359,
           -0.9113313634629493,
           -0.20078303623558877,
           0.14397392082175495,
           0.5078965385154339,
           -0.37207799550230614
          ],
          [
           -0.7363838688512911,
           -0.9227519361497699,
           0.46037434686057216,
           -0.4003414666001648,
           -0.5470285034182254,
           -0.3760657278182267
          ],
          [
           -0.515777590619907,
           -0.626626886886878,
           1.1508534913154653,
           0.4681614284900333,
           0.04201420005031858,
           0.10331644369497128
          ],
          [
           -0.303231712743281,
           -0.22168800059753002,
           0.6144261162662947,
           1.2784283587463534,
           -0.4649593970169628,
           -0.33691022894790673
          ],
          [
           -0.5456292329853807,
           0.10877549397446078,
           -0.4857312841209289,
           0.8642894103019129,
           0.7895947338861533,
           0.3385070117499908
          ],
          [
           0.12856579142298025,
           1.4646890134831434,
           0.154517794186038,
           0.6475168931574818,
           -0.1916740839693837,
           0.007224476796421206
          ],
          [
           -0.7662355112167649,
           -0.1873495552884313,
           -1.176210428575822,
           -0.004213484788285112,
           0.2005520304176095,
           -0.14087515976320725
          ],
          [
           -0.9479423721692174,
           0.32256456138096323,
           0.6057496414096089,
           0.13340818234003074,
           0.6976035532592851,
           0.1778552008871806
          ],
          [
           0.784728984753573,
           1.1381951561284147,
           -0.24529351276118008,
           -0.12776364004647914,
           -0.23346231758110872,
           -0.4660561455614521
          ],
          [
           -0.09204048680840392,
           1.1685639642202512,
           -0.535961350268855,
           -0.22098600193271614,
           -0.7807167874379276,
           -0.47215769471677677
          ],
          [
           -0.11505263158360444,
           0.1887074255336454,
           0.18274868806496428,
           -1.0925482789632057,
           -0.8536610304305512,
           0.8448707892572751
          ],
          [
           0.14038560271068581,
           -0.9531207442416065,
           0.7510421843682471,
           -0.3071191047139278,
           0.00022596643859351995,
           -0.36996417866290204
          ],
          [
           0.7617168399783725,
           0.15833861744180883,
           0.47341652557263914,
           -0.9993259170769688,
           -0.3064065605737323,
           0.8509723384125998
          ],
          [
           0.3723757082922125,
           0.25164915221139433,
           0.3455940393890928,
           -0.9216605532901299,
           1.0714947110975321,
           -0.45819104917290704
          ],
          [
           0.12856579142298025,
           1.4646890134831434,
           0.154517794186038,
           0.6475168931574818,
           -0.1916740839693837,
           0.007224476796421206
          ],
          [
           -1.1685486504006015,
           0.026439512118071176,
           -0.08472950304528412,
           -0.7350947127501672,
           0.10856084979074127,
           -0.30152697062601735
          ],
          [
           -0.28378748503838025,
           0.578143009566123,
           0.7454053463363108,
           -0.1463800200861687,
           1.1132829447092571,
           0.015089573184966253
          ]
         ]
        }
       ],
       "layout": {
        "coloraxis": {
         "colorscale": [
          [
           0,
           "rgb(5,48,97)"
          ],
          [
           0.1,
           "rgb(33,102,172)"
          ],
          [
           0.2,
           "rgb(67,147,195)"
          ],
          [
           0.3,
           "rgb(146,197,222)"
          ],
          [
           0.4,
           "rgb(209,229,240)"
          ],
          [
           0.5,
           "rgb(247,247,247)"
          ],
          [
           0.6,
           "rgb(253,219,199)"
          ],
          [
           0.7,
           "rgb(244,165,130)"
          ],
          [
           0.8,
           "rgb(214,96,77)"
          ],
          [
           0.9,
           "rgb(178,24,43)"
          ],
          [
           1,
           "rgb(103,0,31)"
          ]
         ]
        },
        "height": 700,
        "template": {
         "data": {
          "bar": [
           {
            "error_x": {
             "color": "#2a3f5f"
            },
            "error_y": {
             "color": "#2a3f5f"
            },
            "marker": {
             "line": {
              "color": "#E5ECF6",
              "width": 0.5
             },
             "pattern": {
              "fillmode": "overlay",
              "size": 10,
              "solidity": 0.2
             }
            },
            "type": "bar"
           }
          ],
          "barpolar": [
           {
            "marker": {
             "line": {
              "color": "#E5ECF6",
              "width": 0.5
             },
             "pattern": {
              "fillmode": "overlay",
              "size": 10,
              "solidity": 0.2
             }
            },
            "type": "barpolar"
           }
          ],
          "carpet": [
           {
            "aaxis": {
             "endlinecolor": "#2a3f5f",
             "gridcolor": "white",
             "linecolor": "white",
             "minorgridcolor": "white",
             "startlinecolor": "#2a3f5f"
            },
            "baxis": {
             "endlinecolor": "#2a3f5f",
             "gridcolor": "white",
             "linecolor": "white",
             "minorgridcolor": "white",
             "startlinecolor": "#2a3f5f"
            },
            "type": "carpet"
           }
          ],
          "choropleth": [
           {
            "colorbar": {
             "outlinewidth": 0,
             "ticks": ""
            },
            "type": "choropleth"
           }
          ],
          "contour": [
           {
            "colorbar": {
             "outlinewidth": 0,
             "ticks": ""
            },
            "colorscale": [
             [
              0,
              "#0d0887"
             ],
             [
              0.1111111111111111,
              "#46039f"
             ],
             [
              0.2222222222222222,
              "#7201a8"
             ],
             [
              0.3333333333333333,
              "#9c179e"
             ],
             [
              0.4444444444444444,
              "#bd3786"
             ],
             [
              0.5555555555555556,
              "#d8576b"
             ],
             [
              0.6666666666666666,
              "#ed7953"
             ],
             [
              0.7777777777777778,
              "#fb9f3a"
             ],
             [
              0.8888888888888888,
              "#fdca26"
             ],
             [
              1,
              "#f0f921"
             ]
            ],
            "type": "contour"
           }
          ],
          "contourcarpet": [
           {
            "colorbar": {
             "outlinewidth": 0,
             "ticks": ""
            },
            "type": "contourcarpet"
           }
          ],
          "heatmap": [
           {
            "colorbar": {
             "outlinewidth": 0,
             "ticks": ""
            },
            "colorscale": [
             [
              0,
              "#0d0887"
             ],
             [
              0.1111111111111111,
              "#46039f"
             ],
             [
              0.2222222222222222,
              "#7201a8"
             ],
             [
              0.3333333333333333,
              "#9c179e"
             ],
             [
              0.4444444444444444,
              "#bd3786"
             ],
             [
              0.5555555555555556,
              "#d8576b"
             ],
             [
              0.6666666666666666,
              "#ed7953"
             ],
             [
              0.7777777777777778,
              "#fb9f3a"
             ],
             [
              0.8888888888888888,
              "#fdca26"
             ],
             [
              1,
              "#f0f921"
             ]
            ],
            "type": "heatmap"
           }
          ],
          "heatmapgl": [
           {
            "colorbar": {
             "outlinewidth": 0,
             "ticks": ""
            },
            "colorscale": [
             [
              0,
              "#0d0887"
             ],
             [
              0.1111111111111111,
              "#46039f"
             ],
             [
              0.2222222222222222,
              "#7201a8"
             ],
             [
              0.3333333333333333,
              "#9c179e"
             ],
             [
              0.4444444444444444,
              "#bd3786"
             ],
             [
              0.5555555555555556,
              "#d8576b"
             ],
             [
              0.6666666666666666,
              "#ed7953"
             ],
             [
              0.7777777777777778,
              "#fb9f3a"
             ],
             [
              0.8888888888888888,
              "#fdca26"
             ],
             [
              1,
              "#f0f921"
             ]
            ],
            "type": "heatmapgl"
           }
          ],
          "histogram": [
           {
            "marker": {
             "pattern": {
              "fillmode": "overlay",
              "size": 10,
              "solidity": 0.2
             }
            },
            "type": "histogram"
           }
          ],
          "histogram2d": [
           {
            "colorbar": {
             "outlinewidth": 0,
             "ticks": ""
            },
            "colorscale": [
             [
              0,
              "#0d0887"
             ],
             [
              0.1111111111111111,
              "#46039f"
             ],
             [
              0.2222222222222222,
              "#7201a8"
             ],
             [
              0.3333333333333333,
              "#9c179e"
             ],
             [
              0.4444444444444444,
              "#bd3786"
             ],
             [
              0.5555555555555556,
              "#d8576b"
             ],
             [
              0.6666666666666666,
              "#ed7953"
             ],
             [
              0.7777777777777778,
              "#fb9f3a"
             ],
             [
              0.8888888888888888,
              "#fdca26"
             ],
             [
              1,
              "#f0f921"
             ]
            ],
            "type": "histogram2d"
           }
          ],
          "histogram2dcontour": [
           {
            "colorbar": {
             "outlinewidth": 0,
             "ticks": ""
            },
            "colorscale": [
             [
              0,
              "#0d0887"
             ],
             [
              0.1111111111111111,
              "#46039f"
             ],
             [
              0.2222222222222222,
              "#7201a8"
             ],
             [
              0.3333333333333333,
              "#9c179e"
             ],
             [
              0.4444444444444444,
              "#bd3786"
             ],
             [
              0.5555555555555556,
              "#d8576b"
             ],
             [
              0.6666666666666666,
              "#ed7953"
             ],
             [
              0.7777777777777778,
              "#fb9f3a"
             ],
             [
              0.8888888888888888,
              "#fdca26"
             ],
             [
              1,
              "#f0f921"
             ]
            ],
            "type": "histogram2dcontour"
           }
          ],
          "mesh3d": [
           {
            "colorbar": {
             "outlinewidth": 0,
             "ticks": ""
            },
            "type": "mesh3d"
           }
          ],
          "parcoords": [
           {
            "line": {
             "colorbar": {
              "outlinewidth": 0,
              "ticks": ""
             }
            },
            "type": "parcoords"
           }
          ],
          "pie": [
           {
            "automargin": true,
            "type": "pie"
           }
          ],
          "scatter": [
           {
            "marker": {
             "colorbar": {
              "outlinewidth": 0,
              "ticks": ""
             }
            },
            "type": "scatter"
           }
          ],
          "scatter3d": [
           {
            "line": {
             "colorbar": {
              "outlinewidth": 0,
              "ticks": ""
             }
            },
            "marker": {
             "colorbar": {
              "outlinewidth": 0,
              "ticks": ""
             }
            },
            "type": "scatter3d"
           }
          ],
          "scattercarpet": [
           {
            "marker": {
             "colorbar": {
              "outlinewidth": 0,
              "ticks": ""
             }
            },
            "type": "scattercarpet"
           }
          ],
          "scattergeo": [
           {
            "marker": {
             "colorbar": {
              "outlinewidth": 0,
              "ticks": ""
             }
            },
            "type": "scattergeo"
           }
          ],
          "scattergl": [
           {
            "marker": {
             "colorbar": {
              "outlinewidth": 0,
              "ticks": ""
             }
            },
            "type": "scattergl"
           }
          ],
          "scattermapbox": [
           {
            "marker": {
             "colorbar": {
              "outlinewidth": 0,
              "ticks": ""
             }
            },
            "type": "scattermapbox"
           }
          ],
          "scatterpolar": [
           {
            "marker": {
             "colorbar": {
              "outlinewidth": 0,
              "ticks": ""
             }
            },
            "type": "scatterpolar"
           }
          ],
          "scatterpolargl": [
           {
            "marker": {
             "colorbar": {
              "outlinewidth": 0,
              "ticks": ""
             }
            },
            "type": "scatterpolargl"
           }
          ],
          "scatterternary": [
           {
            "marker": {
             "colorbar": {
              "outlinewidth": 0,
              "ticks": ""
             }
            },
            "type": "scatterternary"
           }
          ],
          "surface": [
           {
            "colorbar": {
             "outlinewidth": 0,
             "ticks": ""
            },
            "colorscale": [
             [
              0,
              "#0d0887"
             ],
             [
              0.1111111111111111,
              "#46039f"
             ],
             [
              0.2222222222222222,
              "#7201a8"
             ],
             [
              0.3333333333333333,
              "#9c179e"
             ],
             [
              0.4444444444444444,
              "#bd3786"
             ],
             [
              0.5555555555555556,
              "#d8576b"
             ],
             [
              0.6666666666666666,
              "#ed7953"
             ],
             [
              0.7777777777777778,
              "#fb9f3a"
             ],
             [
              0.8888888888888888,
              "#fdca26"
             ],
             [
              1,
              "#f0f921"
             ]
            ],
            "type": "surface"
           }
          ],
          "table": [
           {
            "cells": {
             "fill": {
              "color": "#EBF0F8"
             },
             "line": {
              "color": "white"
             }
            },
            "header": {
             "fill": {
              "color": "#C8D4E3"
             },
             "line": {
              "color": "white"
             }
            },
            "type": "table"
           }
          ]
         },
         "layout": {
          "annotationdefaults": {
           "arrowcolor": "#2a3f5f",
           "arrowhead": 0,
           "arrowwidth": 1
          },
          "autotypenumbers": "strict",
          "coloraxis": {
           "colorbar": {
            "outlinewidth": 0,
            "ticks": ""
           }
          },
          "colorscale": {
           "diverging": [
            [
             0,
             "#8e0152"
            ],
            [
             0.1,
             "#c51b7d"
            ],
            [
             0.2,
             "#de77ae"
            ],
            [
             0.3,
             "#f1b6da"
            ],
            [
             0.4,
             "#fde0ef"
            ],
            [
             0.5,
             "#f7f7f7"
            ],
            [
             0.6,
             "#e6f5d0"
            ],
            [
             0.7,
             "#b8e186"
            ],
            [
             0.8,
             "#7fbc41"
            ],
            [
             0.9,
             "#4d9221"
            ],
            [
             1,
             "#276419"
            ]
           ],
           "sequential": [
            [
             0,
             "#0d0887"
            ],
            [
             0.1111111111111111,
             "#46039f"
            ],
            [
             0.2222222222222222,
             "#7201a8"
            ],
            [
             0.3333333333333333,
             "#9c179e"
            ],
            [
             0.4444444444444444,
             "#bd3786"
            ],
            [
             0.5555555555555556,
             "#d8576b"
            ],
            [
             0.6666666666666666,
             "#ed7953"
            ],
            [
             0.7777777777777778,
             "#fb9f3a"
            ],
            [
             0.8888888888888888,
             "#fdca26"
            ],
            [
             1,
             "#f0f921"
            ]
           ],
           "sequentialminus": [
            [
             0,
             "#0d0887"
            ],
            [
             0.1111111111111111,
             "#46039f"
            ],
            [
             0.2222222222222222,
             "#7201a8"
            ],
            [
             0.3333333333333333,
             "#9c179e"
            ],
            [
             0.4444444444444444,
             "#bd3786"
            ],
            [
             0.5555555555555556,
             "#d8576b"
            ],
            [
             0.6666666666666666,
             "#ed7953"
            ],
            [
             0.7777777777777778,
             "#fb9f3a"
            ],
            [
             0.8888888888888888,
             "#fdca26"
            ],
            [
             1,
             "#f0f921"
            ]
           ]
          },
          "colorway": [
           "#636efa",
           "#EF553B",
           "#00cc96",
           "#ab63fa",
           "#FFA15A",
           "#19d3f3",
           "#FF6692",
           "#B6E880",
           "#FF97FF",
           "#FECB52"
          ],
          "font": {
           "color": "#2a3f5f"
          },
          "geo": {
           "bgcolor": "white",
           "lakecolor": "white",
           "landcolor": "#E5ECF6",
           "showlakes": true,
           "showland": true,
           "subunitcolor": "white"
          },
          "hoverlabel": {
           "align": "left"
          },
          "hovermode": "closest",
          "mapbox": {
           "style": "light"
          },
          "paper_bgcolor": "white",
          "plot_bgcolor": "#E5ECF6",
          "polar": {
           "angularaxis": {
            "gridcolor": "white",
            "linecolor": "white",
            "ticks": ""
           },
           "bgcolor": "#E5ECF6",
           "radialaxis": {
            "gridcolor": "white",
            "linecolor": "white",
            "ticks": ""
           }
          },
          "scene": {
           "xaxis": {
            "backgroundcolor": "#E5ECF6",
            "gridcolor": "white",
            "gridwidth": 2,
            "linecolor": "white",
            "showbackground": true,
            "ticks": "",
            "zerolinecolor": "white"
           },
           "yaxis": {
            "backgroundcolor": "#E5ECF6",
            "gridcolor": "white",
            "gridwidth": 2,
            "linecolor": "white",
            "showbackground": true,
            "ticks": "",
            "zerolinecolor": "white"
           },
           "zaxis": {
            "backgroundcolor": "#E5ECF6",
            "gridcolor": "white",
            "gridwidth": 2,
            "linecolor": "white",
            "showbackground": true,
            "ticks": "",
            "zerolinecolor": "white"
           }
          },
          "shapedefaults": {
           "line": {
            "color": "#2a3f5f"
           }
          },
          "ternary": {
           "aaxis": {
            "gridcolor": "white",
            "linecolor": "white",
            "ticks": ""
           },
           "baxis": {
            "gridcolor": "white",
            "linecolor": "white",
            "ticks": ""
           },
           "bgcolor": "#E5ECF6",
           "caxis": {
            "gridcolor": "white",
            "linecolor": "white",
            "ticks": ""
           }
          },
          "title": {
           "x": 0.05
          },
          "xaxis": {
           "automargin": true,
           "gridcolor": "white",
           "linecolor": "white",
           "ticks": "",
           "title": {
            "standoff": 15
           },
           "zerolinecolor": "white",
           "zerolinewidth": 2
          },
          "yaxis": {
           "automargin": true,
           "gridcolor": "white",
           "linecolor": "white",
           "ticks": "",
           "title": {
            "standoff": 15
           },
           "zerolinecolor": "white",
           "zerolinewidth": 2
          }
         }
        },
        "title": {
         "text": "Heatmap sulle componenti pca"
        },
        "xaxis": {
         "anchor": "y",
         "domain": [
          0,
          1
         ]
        },
        "yaxis": {
         "anchor": "x",
         "autorange": "reversed",
         "domain": [
          0,
          1
         ],
         "title": {
          "text": "Name"
         }
        }
       }
      }
     },
     "metadata": {},
     "output_type": "display_data"
    }
   ],
   "source": [
    "title = \"Heatmap sulle componenti pca\"\n",
    "fig = px.imshow(df_pca[df_pca.columns[:-2]],color_continuous_scale='RdBu_r',aspect='Auto',title=title,height=700)\n",
    "fig.write_html(title+'.html')\n",
    "fig.show()"
   ]
  },
  {
   "cell_type": "code",
   "execution_count": 22,
   "metadata": {},
   "outputs": [
    {
     "data": {
      "application/vnd.plotly.v1+json": {
       "config": {
        "plotlyServerURL": "https://plot.ly"
       },
       "data": [
        {
         "coloraxis": "coloraxis",
         "hovertemplate": "x: %{x}<br>Name: %{y}<br>color: %{z}<extra></extra>",
         "name": "0",
         "type": "heatmap",
         "x": [
          "(1)20s JH Married Burglar",
          "(2)30s COL Married Pusher",
          "(3)20s HS Pusher",
          "(4)20s JH/COL Single Pusher",
          "(5)30s JH/HS Divorced Pusher/Burglar",
          "(6)40s JH/HS Married Pusher"
         ],
         "xaxis": "x",
         "y": [
          "ART",
          "AL",
          "SAM",
          "CLYDE",
          "MIKE",
          "JIM",
          "GREG",
          "JOHN",
          "DOUG",
          "LANCE",
          "GEORGE",
          "PETE",
          "FRED",
          "GENE",
          "RALPH"
         ],
         "yaxis": "y",
         "z": [
          [
           -0.3560954998839552,
           -0.46614215842279716,
           -0.30344862083628016,
           0.8029940635277434,
           0.2096768938262485,
           1.2153088230811648
          ],
          [
           0.9744962460607834,
           0.5194672024325644,
           -0.8003470632425476,
           -0.20714934234091714,
           0.3655024601130409,
           0.13482233794423618
          ],
          [
           -0.5238379909746651,
           -0.5178130498604221,
           -0.0760530281885982,
           0.4099254636561553,
           -1.0540021004855067,
           -0.8162924004611049
          ],
          [
           -0.5767017781153394,
           -0.7622672076856891,
           -0.9939277652911731,
           -0.06550883156245463,
           -0.37936580964229544,
           0.7359266515679668
          ],
          [
           -0.7662355112167649,
           -0.1873495552884313,
           -1.176210428575822,
           -0.004213484788285112,
           0.2005520304176095,
           -0.14087515976320725
          ],
          [
           1.206853629025359,
           -0.9113313634629493,
           -0.20078303623558877,
           0.14397392082175495,
           0.5078965385154339,
           -0.37207799550230614
          ],
          [
           0.34818469509566435,
           0.11055867892595429,
           1.2360490191410647,
           0.1720032090511643,
           -0.3402898401110689,
           0.37291239224709
          ],
          [
           1.4066610276100935,
           -0.42972424583527685,
           -0.2552432133366913,
           0.12760390380908546,
           -0.2900868930959257,
           0.06028358075202683
          ],
          [
           -1.1685486504006015,
           0.026439512118071176,
           -0.08472950304528412,
           -0.7350947127501672,
           0.10856084979074127,
           -0.30152697062601735
          ],
          [
           1.4066610276100935,
           -0.42972424583527685,
           -0.2552432133366913,
           0.12760390380908546,
           -0.2900868930959257,
           0.06028358075202683
          ],
          [
           1.206853629025359,
           -0.9113313634629493,
           -0.20078303623558877,
           0.14397392082175495,
           0.5078965385154339,
           -0.37207799550230614
          ],
          [
           -0.7363838688512911,
           -0.9227519361497699,
           0.46037434686057216,
           -0.4003414666001648,
           -0.5470285034182254,
           -0.3760657278182267
          ],
          [
           -0.515777590619907,
           -0.626626886886878,
           1.1508534913154653,
           0.4681614284900333,
           0.04201420005031858,
           0.10331644369497128
          ],
          [
           -0.303231712743281,
           -0.22168800059753002,
           0.6144261162662947,
           1.2784283587463534,
           -0.4649593970169628,
           -0.33691022894790673
          ],
          [
           -0.5456292329853807,
           0.10877549397446078,
           -0.4857312841209289,
           0.8642894103019129,
           0.7895947338861533,
           0.3385070117499908
          ]
         ]
        }
       ],
       "layout": {
        "coloraxis": {
         "colorscale": [
          [
           0,
           "rgb(5,48,97)"
          ],
          [
           0.1,
           "rgb(33,102,172)"
          ],
          [
           0.2,
           "rgb(67,147,195)"
          ],
          [
           0.3,
           "rgb(146,197,222)"
          ],
          [
           0.4,
           "rgb(209,229,240)"
          ],
          [
           0.5,
           "rgb(247,247,247)"
          ],
          [
           0.6,
           "rgb(253,219,199)"
          ],
          [
           0.7,
           "rgb(244,165,130)"
          ],
          [
           0.8,
           "rgb(214,96,77)"
          ],
          [
           0.9,
           "rgb(178,24,43)"
          ],
          [
           1,
           "rgb(103,0,31)"
          ]
         ]
        },
        "template": {
         "data": {
          "bar": [
           {
            "error_x": {
             "color": "#2a3f5f"
            },
            "error_y": {
             "color": "#2a3f5f"
            },
            "marker": {
             "line": {
              "color": "#E5ECF6",
              "width": 0.5
             },
             "pattern": {
              "fillmode": "overlay",
              "size": 10,
              "solidity": 0.2
             }
            },
            "type": "bar"
           }
          ],
          "barpolar": [
           {
            "marker": {
             "line": {
              "color": "#E5ECF6",
              "width": 0.5
             },
             "pattern": {
              "fillmode": "overlay",
              "size": 10,
              "solidity": 0.2
             }
            },
            "type": "barpolar"
           }
          ],
          "carpet": [
           {
            "aaxis": {
             "endlinecolor": "#2a3f5f",
             "gridcolor": "white",
             "linecolor": "white",
             "minorgridcolor": "white",
             "startlinecolor": "#2a3f5f"
            },
            "baxis": {
             "endlinecolor": "#2a3f5f",
             "gridcolor": "white",
             "linecolor": "white",
             "minorgridcolor": "white",
             "startlinecolor": "#2a3f5f"
            },
            "type": "carpet"
           }
          ],
          "choropleth": [
           {
            "colorbar": {
             "outlinewidth": 0,
             "ticks": ""
            },
            "type": "choropleth"
           }
          ],
          "contour": [
           {
            "colorbar": {
             "outlinewidth": 0,
             "ticks": ""
            },
            "colorscale": [
             [
              0,
              "#0d0887"
             ],
             [
              0.1111111111111111,
              "#46039f"
             ],
             [
              0.2222222222222222,
              "#7201a8"
             ],
             [
              0.3333333333333333,
              "#9c179e"
             ],
             [
              0.4444444444444444,
              "#bd3786"
             ],
             [
              0.5555555555555556,
              "#d8576b"
             ],
             [
              0.6666666666666666,
              "#ed7953"
             ],
             [
              0.7777777777777778,
              "#fb9f3a"
             ],
             [
              0.8888888888888888,
              "#fdca26"
             ],
             [
              1,
              "#f0f921"
             ]
            ],
            "type": "contour"
           }
          ],
          "contourcarpet": [
           {
            "colorbar": {
             "outlinewidth": 0,
             "ticks": ""
            },
            "type": "contourcarpet"
           }
          ],
          "heatmap": [
           {
            "colorbar": {
             "outlinewidth": 0,
             "ticks": ""
            },
            "colorscale": [
             [
              0,
              "#0d0887"
             ],
             [
              0.1111111111111111,
              "#46039f"
             ],
             [
              0.2222222222222222,
              "#7201a8"
             ],
             [
              0.3333333333333333,
              "#9c179e"
             ],
             [
              0.4444444444444444,
              "#bd3786"
             ],
             [
              0.5555555555555556,
              "#d8576b"
             ],
             [
              0.6666666666666666,
              "#ed7953"
             ],
             [
              0.7777777777777778,
              "#fb9f3a"
             ],
             [
              0.8888888888888888,
              "#fdca26"
             ],
             [
              1,
              "#f0f921"
             ]
            ],
            "type": "heatmap"
           }
          ],
          "heatmapgl": [
           {
            "colorbar": {
             "outlinewidth": 0,
             "ticks": ""
            },
            "colorscale": [
             [
              0,
              "#0d0887"
             ],
             [
              0.1111111111111111,
              "#46039f"
             ],
             [
              0.2222222222222222,
              "#7201a8"
             ],
             [
              0.3333333333333333,
              "#9c179e"
             ],
             [
              0.4444444444444444,
              "#bd3786"
             ],
             [
              0.5555555555555556,
              "#d8576b"
             ],
             [
              0.6666666666666666,
              "#ed7953"
             ],
             [
              0.7777777777777778,
              "#fb9f3a"
             ],
             [
              0.8888888888888888,
              "#fdca26"
             ],
             [
              1,
              "#f0f921"
             ]
            ],
            "type": "heatmapgl"
           }
          ],
          "histogram": [
           {
            "marker": {
             "pattern": {
              "fillmode": "overlay",
              "size": 10,
              "solidity": 0.2
             }
            },
            "type": "histogram"
           }
          ],
          "histogram2d": [
           {
            "colorbar": {
             "outlinewidth": 0,
             "ticks": ""
            },
            "colorscale": [
             [
              0,
              "#0d0887"
             ],
             [
              0.1111111111111111,
              "#46039f"
             ],
             [
              0.2222222222222222,
              "#7201a8"
             ],
             [
              0.3333333333333333,
              "#9c179e"
             ],
             [
              0.4444444444444444,
              "#bd3786"
             ],
             [
              0.5555555555555556,
              "#d8576b"
             ],
             [
              0.6666666666666666,
              "#ed7953"
             ],
             [
              0.7777777777777778,
              "#fb9f3a"
             ],
             [
              0.8888888888888888,
              "#fdca26"
             ],
             [
              1,
              "#f0f921"
             ]
            ],
            "type": "histogram2d"
           }
          ],
          "histogram2dcontour": [
           {
            "colorbar": {
             "outlinewidth": 0,
             "ticks": ""
            },
            "colorscale": [
             [
              0,
              "#0d0887"
             ],
             [
              0.1111111111111111,
              "#46039f"
             ],
             [
              0.2222222222222222,
              "#7201a8"
             ],
             [
              0.3333333333333333,
              "#9c179e"
             ],
             [
              0.4444444444444444,
              "#bd3786"
             ],
             [
              0.5555555555555556,
              "#d8576b"
             ],
             [
              0.6666666666666666,
              "#ed7953"
             ],
             [
              0.7777777777777778,
              "#fb9f3a"
             ],
             [
              0.8888888888888888,
              "#fdca26"
             ],
             [
              1,
              "#f0f921"
             ]
            ],
            "type": "histogram2dcontour"
           }
          ],
          "mesh3d": [
           {
            "colorbar": {
             "outlinewidth": 0,
             "ticks": ""
            },
            "type": "mesh3d"
           }
          ],
          "parcoords": [
           {
            "line": {
             "colorbar": {
              "outlinewidth": 0,
              "ticks": ""
             }
            },
            "type": "parcoords"
           }
          ],
          "pie": [
           {
            "automargin": true,
            "type": "pie"
           }
          ],
          "scatter": [
           {
            "marker": {
             "colorbar": {
              "outlinewidth": 0,
              "ticks": ""
             }
            },
            "type": "scatter"
           }
          ],
          "scatter3d": [
           {
            "line": {
             "colorbar": {
              "outlinewidth": 0,
              "ticks": ""
             }
            },
            "marker": {
             "colorbar": {
              "outlinewidth": 0,
              "ticks": ""
             }
            },
            "type": "scatter3d"
           }
          ],
          "scattercarpet": [
           {
            "marker": {
             "colorbar": {
              "outlinewidth": 0,
              "ticks": ""
             }
            },
            "type": "scattercarpet"
           }
          ],
          "scattergeo": [
           {
            "marker": {
             "colorbar": {
              "outlinewidth": 0,
              "ticks": ""
             }
            },
            "type": "scattergeo"
           }
          ],
          "scattergl": [
           {
            "marker": {
             "colorbar": {
              "outlinewidth": 0,
              "ticks": ""
             }
            },
            "type": "scattergl"
           }
          ],
          "scattermapbox": [
           {
            "marker": {
             "colorbar": {
              "outlinewidth": 0,
              "ticks": ""
             }
            },
            "type": "scattermapbox"
           }
          ],
          "scatterpolar": [
           {
            "marker": {
             "colorbar": {
              "outlinewidth": 0,
              "ticks": ""
             }
            },
            "type": "scatterpolar"
           }
          ],
          "scatterpolargl": [
           {
            "marker": {
             "colorbar": {
              "outlinewidth": 0,
              "ticks": ""
             }
            },
            "type": "scatterpolargl"
           }
          ],
          "scatterternary": [
           {
            "marker": {
             "colorbar": {
              "outlinewidth": 0,
              "ticks": ""
             }
            },
            "type": "scatterternary"
           }
          ],
          "surface": [
           {
            "colorbar": {
             "outlinewidth": 0,
             "ticks": ""
            },
            "colorscale": [
             [
              0,
              "#0d0887"
             ],
             [
              0.1111111111111111,
              "#46039f"
             ],
             [
              0.2222222222222222,
              "#7201a8"
             ],
             [
              0.3333333333333333,
              "#9c179e"
             ],
             [
              0.4444444444444444,
              "#bd3786"
             ],
             [
              0.5555555555555556,
              "#d8576b"
             ],
             [
              0.6666666666666666,
              "#ed7953"
             ],
             [
              0.7777777777777778,
              "#fb9f3a"
             ],
             [
              0.8888888888888888,
              "#fdca26"
             ],
             [
              1,
              "#f0f921"
             ]
            ],
            "type": "surface"
           }
          ],
          "table": [
           {
            "cells": {
             "fill": {
              "color": "#EBF0F8"
             },
             "line": {
              "color": "white"
             }
            },
            "header": {
             "fill": {
              "color": "#C8D4E3"
             },
             "line": {
              "color": "white"
             }
            },
            "type": "table"
           }
          ]
         },
         "layout": {
          "annotationdefaults": {
           "arrowcolor": "#2a3f5f",
           "arrowhead": 0,
           "arrowwidth": 1
          },
          "autotypenumbers": "strict",
          "coloraxis": {
           "colorbar": {
            "outlinewidth": 0,
            "ticks": ""
           }
          },
          "colorscale": {
           "diverging": [
            [
             0,
             "#8e0152"
            ],
            [
             0.1,
             "#c51b7d"
            ],
            [
             0.2,
             "#de77ae"
            ],
            [
             0.3,
             "#f1b6da"
            ],
            [
             0.4,
             "#fde0ef"
            ],
            [
             0.5,
             "#f7f7f7"
            ],
            [
             0.6,
             "#e6f5d0"
            ],
            [
             0.7,
             "#b8e186"
            ],
            [
             0.8,
             "#7fbc41"
            ],
            [
             0.9,
             "#4d9221"
            ],
            [
             1,
             "#276419"
            ]
           ],
           "sequential": [
            [
             0,
             "#0d0887"
            ],
            [
             0.1111111111111111,
             "#46039f"
            ],
            [
             0.2222222222222222,
             "#7201a8"
            ],
            [
             0.3333333333333333,
             "#9c179e"
            ],
            [
             0.4444444444444444,
             "#bd3786"
            ],
            [
             0.5555555555555556,
             "#d8576b"
            ],
            [
             0.6666666666666666,
             "#ed7953"
            ],
            [
             0.7777777777777778,
             "#fb9f3a"
            ],
            [
             0.8888888888888888,
             "#fdca26"
            ],
            [
             1,
             "#f0f921"
            ]
           ],
           "sequentialminus": [
            [
             0,
             "#0d0887"
            ],
            [
             0.1111111111111111,
             "#46039f"
            ],
            [
             0.2222222222222222,
             "#7201a8"
            ],
            [
             0.3333333333333333,
             "#9c179e"
            ],
            [
             0.4444444444444444,
             "#bd3786"
            ],
            [
             0.5555555555555556,
             "#d8576b"
            ],
            [
             0.6666666666666666,
             "#ed7953"
            ],
            [
             0.7777777777777778,
             "#fb9f3a"
            ],
            [
             0.8888888888888888,
             "#fdca26"
            ],
            [
             1,
             "#f0f921"
            ]
           ]
          },
          "colorway": [
           "#636efa",
           "#EF553B",
           "#00cc96",
           "#ab63fa",
           "#FFA15A",
           "#19d3f3",
           "#FF6692",
           "#B6E880",
           "#FF97FF",
           "#FECB52"
          ],
          "font": {
           "color": "#2a3f5f"
          },
          "geo": {
           "bgcolor": "white",
           "lakecolor": "white",
           "landcolor": "#E5ECF6",
           "showlakes": true,
           "showland": true,
           "subunitcolor": "white"
          },
          "hoverlabel": {
           "align": "left"
          },
          "hovermode": "closest",
          "mapbox": {
           "style": "light"
          },
          "paper_bgcolor": "white",
          "plot_bgcolor": "#E5ECF6",
          "polar": {
           "angularaxis": {
            "gridcolor": "white",
            "linecolor": "white",
            "ticks": ""
           },
           "bgcolor": "#E5ECF6",
           "radialaxis": {
            "gridcolor": "white",
            "linecolor": "white",
            "ticks": ""
           }
          },
          "scene": {
           "xaxis": {
            "backgroundcolor": "#E5ECF6",
            "gridcolor": "white",
            "gridwidth": 2,
            "linecolor": "white",
            "showbackground": true,
            "ticks": "",
            "zerolinecolor": "white"
           },
           "yaxis": {
            "backgroundcolor": "#E5ECF6",
            "gridcolor": "white",
            "gridwidth": 2,
            "linecolor": "white",
            "showbackground": true,
            "ticks": "",
            "zerolinecolor": "white"
           },
           "zaxis": {
            "backgroundcolor": "#E5ECF6",
            "gridcolor": "white",
            "gridwidth": 2,
            "linecolor": "white",
            "showbackground": true,
            "ticks": "",
            "zerolinecolor": "white"
           }
          },
          "shapedefaults": {
           "line": {
            "color": "#2a3f5f"
           }
          },
          "ternary": {
           "aaxis": {
            "gridcolor": "white",
            "linecolor": "white",
            "ticks": ""
           },
           "baxis": {
            "gridcolor": "white",
            "linecolor": "white",
            "ticks": ""
           },
           "bgcolor": "#E5ECF6",
           "caxis": {
            "gridcolor": "white",
            "linecolor": "white",
            "ticks": ""
           }
          },
          "title": {
           "x": 0.05
          },
          "xaxis": {
           "automargin": true,
           "gridcolor": "white",
           "linecolor": "white",
           "ticks": "",
           "title": {
            "standoff": 15
           },
           "zerolinecolor": "white",
           "zerolinewidth": 2
          },
          "yaxis": {
           "automargin": true,
           "gridcolor": "white",
           "linecolor": "white",
           "ticks": "",
           "title": {
            "standoff": 15
           },
           "zerolinecolor": "white",
           "zerolinewidth": 2
          }
         }
        },
        "title": {
         "text": "Heatmap sulle componenti pca JET"
        },
        "xaxis": {
         "anchor": "y",
         "domain": [
          0,
          1
         ]
        },
        "yaxis": {
         "anchor": "x",
         "autorange": "reversed",
         "domain": [
          0,
          1
         ],
         "title": {
          "text": "Name"
         }
        }
       }
      }
     },
     "metadata": {},
     "output_type": "display_data"
    }
   ],
   "source": [
    "px.imshow(df_pca[df_pca['Jet ']==1][df_pca.columns[:-2]],color_continuous_scale='RdBu_r',aspect='Auto',title=\"Heatmap sulle componenti pca JET\")"
   ]
  },
  {
   "cell_type": "code",
   "execution_count": 23,
   "metadata": {},
   "outputs": [
    {
     "data": {
      "text/html": [
       "<div>\n",
       "<style scoped>\n",
       "    .dataframe tbody tr th:only-of-type {\n",
       "        vertical-align: middle;\n",
       "    }\n",
       "\n",
       "    .dataframe tbody tr th {\n",
       "        vertical-align: top;\n",
       "    }\n",
       "\n",
       "    .dataframe thead th {\n",
       "        text-align: right;\n",
       "    }\n",
       "</style>\n",
       "<table border=\"1\" class=\"dataframe\">\n",
       "  <thead>\n",
       "    <tr style=\"text-align: right;\">\n",
       "      <th></th>\n",
       "      <th>(1)20s JH Married Burglar</th>\n",
       "      <th>(2)30s COL Married Pusher</th>\n",
       "      <th>(3)20s HS Pusher</th>\n",
       "      <th>(4)20s JH/COL Single Pusher</th>\n",
       "      <th>(5)30s JH/HS Divorced Pusher/Burglar</th>\n",
       "      <th>(6)40s JH/HS Married Pusher</th>\n",
       "    </tr>\n",
       "  </thead>\n",
       "  <tbody>\n",
       "    <tr>\n",
       "      <th>count</th>\n",
       "      <td>15.000000</td>\n",
       "      <td>15.000000</td>\n",
       "      <td>15.000000</td>\n",
       "      <td>15.000000</td>\n",
       "      <td>15.000000</td>\n",
       "      <td>15.000000</td>\n",
       "    </tr>\n",
       "    <tr>\n",
       "      <th>mean</th>\n",
       "      <td>0.070485</td>\n",
       "      <td>-0.374767</td>\n",
       "      <td>-0.091386</td>\n",
       "      <td>0.208443</td>\n",
       "      <td>-0.042275</td>\n",
       "      <td>0.020369</td>\n",
       "    </tr>\n",
       "    <tr>\n",
       "      <th>std</th>\n",
       "      <td>0.916168</td>\n",
       "      <td>0.432027</td>\n",
       "      <td>0.701035</td>\n",
       "      <td>0.508016</td>\n",
       "      <td>0.492679</td>\n",
       "      <td>0.507869</td>\n",
       "    </tr>\n",
       "    <tr>\n",
       "      <th>min</th>\n",
       "      <td>-1.168549</td>\n",
       "      <td>-0.922752</td>\n",
       "      <td>-1.176210</td>\n",
       "      <td>-0.735095</td>\n",
       "      <td>-1.054002</td>\n",
       "      <td>-0.816292</td>\n",
       "    </tr>\n",
       "    <tr>\n",
       "      <th>25%</th>\n",
       "      <td>-0.561166</td>\n",
       "      <td>-0.694447</td>\n",
       "      <td>-0.394590</td>\n",
       "      <td>-0.034861</td>\n",
       "      <td>-0.359828</td>\n",
       "      <td>-0.354494</td>\n",
       "    </tr>\n",
       "    <tr>\n",
       "      <th>50%</th>\n",
       "      <td>-0.356095</td>\n",
       "      <td>-0.429724</td>\n",
       "      <td>-0.200783</td>\n",
       "      <td>0.143974</td>\n",
       "      <td>0.042014</td>\n",
       "      <td>0.060284</td>\n",
       "    </tr>\n",
       "    <tr>\n",
       "      <th>75%</th>\n",
       "      <td>1.090675</td>\n",
       "      <td>-0.080455</td>\n",
       "      <td>0.192161</td>\n",
       "      <td>0.439043</td>\n",
       "      <td>0.287590</td>\n",
       "      <td>0.236665</td>\n",
       "    </tr>\n",
       "    <tr>\n",
       "      <th>max</th>\n",
       "      <td>1.406661</td>\n",
       "      <td>0.519467</td>\n",
       "      <td>1.236049</td>\n",
       "      <td>1.278428</td>\n",
       "      <td>0.789595</td>\n",
       "      <td>1.215309</td>\n",
       "    </tr>\n",
       "  </tbody>\n",
       "</table>\n",
       "</div>"
      ],
      "text/plain": [
       "       (1)20s JH Married Burglar  (2)30s COL Married Pusher  (3)20s HS Pusher  \\\n",
       "count                  15.000000                  15.000000         15.000000   \n",
       "mean                    0.070485                  -0.374767         -0.091386   \n",
       "std                     0.916168                   0.432027          0.701035   \n",
       "min                    -1.168549                  -0.922752         -1.176210   \n",
       "25%                    -0.561166                  -0.694447         -0.394590   \n",
       "50%                    -0.356095                  -0.429724         -0.200783   \n",
       "75%                     1.090675                  -0.080455          0.192161   \n",
       "max                     1.406661                   0.519467          1.236049   \n",
       "\n",
       "       (4)20s JH/COL Single Pusher  (5)30s JH/HS Divorced Pusher/Burglar  \\\n",
       "count                    15.000000                             15.000000   \n",
       "mean                      0.208443                             -0.042275   \n",
       "std                       0.508016                              0.492679   \n",
       "min                      -0.735095                             -1.054002   \n",
       "25%                      -0.034861                             -0.359828   \n",
       "50%                       0.143974                              0.042014   \n",
       "75%                       0.439043                              0.287590   \n",
       "max                       1.278428                              0.789595   \n",
       "\n",
       "       (6)40s JH/HS Married Pusher  \n",
       "count                    15.000000  \n",
       "mean                      0.020369  \n",
       "std                       0.507869  \n",
       "min                      -0.816292  \n",
       "25%                      -0.354494  \n",
       "50%                       0.060284  \n",
       "75%                       0.236665  \n",
       "max                       1.215309  "
      ]
     },
     "execution_count": 23,
     "metadata": {},
     "output_type": "execute_result"
    }
   ],
   "source": [
    "df_pca[df_pca['Jet ']==1][df_pca.columns[:-2]].describe()"
   ]
  },
  {
   "cell_type": "code",
   "execution_count": 24,
   "metadata": {},
   "outputs": [
    {
     "data": {
      "application/vnd.plotly.v1+json": {
       "config": {
        "plotlyServerURL": "https://plot.ly"
       },
       "data": [
        {
         "coloraxis": "coloraxis",
         "hovertemplate": "x: %{x}<br>Name: %{y}<br>color: %{z}<extra></extra>",
         "name": "0",
         "type": "heatmap",
         "x": [
          "(1)20s JH Married Burglar",
          "(2)30s COL Married Pusher",
          "(3)20s HS Pusher",
          "(4)20s JH/COL Single Pusher",
          "(5)30s JH/HS Divorced Pusher/Burglar",
          "(6)40s JH/HS Married Pusher"
         ],
         "xaxis": "x",
         "y": [
          "PHIL",
          "IKE",
          "NICK",
          "DON",
          "NED",
          "KARL",
          "KEN",
          "EARL",
          "RICK",
          "OL",
          "NEAL",
          "DAVE"
         ],
         "yaxis": "y",
         "z": [
          [
           0.12856579142298025,
           1.4646890134831434,
           0.154517794186038,
           0.6475168931574818,
           -0.1916740839693837,
           0.007224476796421206
          ],
          [
           -0.7662355112167649,
           -0.1873495552884313,
           -1.176210428575822,
           -0.004213484788285112,
           0.2005520304176095,
           -0.14087515976320725
          ],
          [
           -0.9479423721692174,
           0.32256456138096323,
           0.6057496414096089,
           0.13340818234003074,
           0.6976035532592851,
           0.1778552008871806
          ],
          [
           0.784728984753573,
           1.1381951561284147,
           -0.24529351276118008,
           -0.12776364004647914,
           -0.23346231758110872,
           -0.4660561455614521
          ],
          [
           -0.09204048680840392,
           1.1685639642202512,
           -0.535961350268855,
           -0.22098600193271614,
           -0.7807167874379276,
           -0.47215769471677677
          ],
          [
           -0.11505263158360444,
           0.1887074255336454,
           0.18274868806496428,
           -1.0925482789632057,
           -0.8536610304305512,
           0.8448707892572751
          ],
          [
           0.14038560271068581,
           -0.9531207442416065,
           0.7510421843682471,
           -0.3071191047139278,
           0.00022596643859351995,
           -0.36996417866290204
          ],
          [
           0.7617168399783725,
           0.15833861744180883,
           0.47341652557263914,
           -0.9993259170769688,
           -0.3064065605737323,
           0.8509723384125998
          ],
          [
           0.3723757082922125,
           0.25164915221139433,
           0.3455940393890928,
           -0.9216605532901299,
           1.0714947110975321,
           -0.45819104917290704
          ],
          [
           0.12856579142298025,
           1.4646890134831434,
           0.154517794186038,
           0.6475168931574818,
           -0.1916740839693837,
           0.007224476796421206
          ],
          [
           -1.1685486504006015,
           0.026439512118071176,
           -0.08472950304528412,
           -0.7350947127501672,
           0.10856084979074127,
           -0.30152697062601735
          ],
          [
           -0.28378748503838025,
           0.578143009566123,
           0.7454053463363108,
           -0.1463800200861687,
           1.1132829447092571,
           0.015089573184966253
          ]
         ]
        }
       ],
       "layout": {
        "coloraxis": {
         "colorscale": [
          [
           0,
           "rgb(5,48,97)"
          ],
          [
           0.1,
           "rgb(33,102,172)"
          ],
          [
           0.2,
           "rgb(67,147,195)"
          ],
          [
           0.3,
           "rgb(146,197,222)"
          ],
          [
           0.4,
           "rgb(209,229,240)"
          ],
          [
           0.5,
           "rgb(247,247,247)"
          ],
          [
           0.6,
           "rgb(253,219,199)"
          ],
          [
           0.7,
           "rgb(244,165,130)"
          ],
          [
           0.8,
           "rgb(214,96,77)"
          ],
          [
           0.9,
           "rgb(178,24,43)"
          ],
          [
           1,
           "rgb(103,0,31)"
          ]
         ]
        },
        "template": {
         "data": {
          "bar": [
           {
            "error_x": {
             "color": "#2a3f5f"
            },
            "error_y": {
             "color": "#2a3f5f"
            },
            "marker": {
             "line": {
              "color": "#E5ECF6",
              "width": 0.5
             },
             "pattern": {
              "fillmode": "overlay",
              "size": 10,
              "solidity": 0.2
             }
            },
            "type": "bar"
           }
          ],
          "barpolar": [
           {
            "marker": {
             "line": {
              "color": "#E5ECF6",
              "width": 0.5
             },
             "pattern": {
              "fillmode": "overlay",
              "size": 10,
              "solidity": 0.2
             }
            },
            "type": "barpolar"
           }
          ],
          "carpet": [
           {
            "aaxis": {
             "endlinecolor": "#2a3f5f",
             "gridcolor": "white",
             "linecolor": "white",
             "minorgridcolor": "white",
             "startlinecolor": "#2a3f5f"
            },
            "baxis": {
             "endlinecolor": "#2a3f5f",
             "gridcolor": "white",
             "linecolor": "white",
             "minorgridcolor": "white",
             "startlinecolor": "#2a3f5f"
            },
            "type": "carpet"
           }
          ],
          "choropleth": [
           {
            "colorbar": {
             "outlinewidth": 0,
             "ticks": ""
            },
            "type": "choropleth"
           }
          ],
          "contour": [
           {
            "colorbar": {
             "outlinewidth": 0,
             "ticks": ""
            },
            "colorscale": [
             [
              0,
              "#0d0887"
             ],
             [
              0.1111111111111111,
              "#46039f"
             ],
             [
              0.2222222222222222,
              "#7201a8"
             ],
             [
              0.3333333333333333,
              "#9c179e"
             ],
             [
              0.4444444444444444,
              "#bd3786"
             ],
             [
              0.5555555555555556,
              "#d8576b"
             ],
             [
              0.6666666666666666,
              "#ed7953"
             ],
             [
              0.7777777777777778,
              "#fb9f3a"
             ],
             [
              0.8888888888888888,
              "#fdca26"
             ],
             [
              1,
              "#f0f921"
             ]
            ],
            "type": "contour"
           }
          ],
          "contourcarpet": [
           {
            "colorbar": {
             "outlinewidth": 0,
             "ticks": ""
            },
            "type": "contourcarpet"
           }
          ],
          "heatmap": [
           {
            "colorbar": {
             "outlinewidth": 0,
             "ticks": ""
            },
            "colorscale": [
             [
              0,
              "#0d0887"
             ],
             [
              0.1111111111111111,
              "#46039f"
             ],
             [
              0.2222222222222222,
              "#7201a8"
             ],
             [
              0.3333333333333333,
              "#9c179e"
             ],
             [
              0.4444444444444444,
              "#bd3786"
             ],
             [
              0.5555555555555556,
              "#d8576b"
             ],
             [
              0.6666666666666666,
              "#ed7953"
             ],
             [
              0.7777777777777778,
              "#fb9f3a"
             ],
             [
              0.8888888888888888,
              "#fdca26"
             ],
             [
              1,
              "#f0f921"
             ]
            ],
            "type": "heatmap"
           }
          ],
          "heatmapgl": [
           {
            "colorbar": {
             "outlinewidth": 0,
             "ticks": ""
            },
            "colorscale": [
             [
              0,
              "#0d0887"
             ],
             [
              0.1111111111111111,
              "#46039f"
             ],
             [
              0.2222222222222222,
              "#7201a8"
             ],
             [
              0.3333333333333333,
              "#9c179e"
             ],
             [
              0.4444444444444444,
              "#bd3786"
             ],
             [
              0.5555555555555556,
              "#d8576b"
             ],
             [
              0.6666666666666666,
              "#ed7953"
             ],
             [
              0.7777777777777778,
              "#fb9f3a"
             ],
             [
              0.8888888888888888,
              "#fdca26"
             ],
             [
              1,
              "#f0f921"
             ]
            ],
            "type": "heatmapgl"
           }
          ],
          "histogram": [
           {
            "marker": {
             "pattern": {
              "fillmode": "overlay",
              "size": 10,
              "solidity": 0.2
             }
            },
            "type": "histogram"
           }
          ],
          "histogram2d": [
           {
            "colorbar": {
             "outlinewidth": 0,
             "ticks": ""
            },
            "colorscale": [
             [
              0,
              "#0d0887"
             ],
             [
              0.1111111111111111,
              "#46039f"
             ],
             [
              0.2222222222222222,
              "#7201a8"
             ],
             [
              0.3333333333333333,
              "#9c179e"
             ],
             [
              0.4444444444444444,
              "#bd3786"
             ],
             [
              0.5555555555555556,
              "#d8576b"
             ],
             [
              0.6666666666666666,
              "#ed7953"
             ],
             [
              0.7777777777777778,
              "#fb9f3a"
             ],
             [
              0.8888888888888888,
              "#fdca26"
             ],
             [
              1,
              "#f0f921"
             ]
            ],
            "type": "histogram2d"
           }
          ],
          "histogram2dcontour": [
           {
            "colorbar": {
             "outlinewidth": 0,
             "ticks": ""
            },
            "colorscale": [
             [
              0,
              "#0d0887"
             ],
             [
              0.1111111111111111,
              "#46039f"
             ],
             [
              0.2222222222222222,
              "#7201a8"
             ],
             [
              0.3333333333333333,
              "#9c179e"
             ],
             [
              0.4444444444444444,
              "#bd3786"
             ],
             [
              0.5555555555555556,
              "#d8576b"
             ],
             [
              0.6666666666666666,
              "#ed7953"
             ],
             [
              0.7777777777777778,
              "#fb9f3a"
             ],
             [
              0.8888888888888888,
              "#fdca26"
             ],
             [
              1,
              "#f0f921"
             ]
            ],
            "type": "histogram2dcontour"
           }
          ],
          "mesh3d": [
           {
            "colorbar": {
             "outlinewidth": 0,
             "ticks": ""
            },
            "type": "mesh3d"
           }
          ],
          "parcoords": [
           {
            "line": {
             "colorbar": {
              "outlinewidth": 0,
              "ticks": ""
             }
            },
            "type": "parcoords"
           }
          ],
          "pie": [
           {
            "automargin": true,
            "type": "pie"
           }
          ],
          "scatter": [
           {
            "marker": {
             "colorbar": {
              "outlinewidth": 0,
              "ticks": ""
             }
            },
            "type": "scatter"
           }
          ],
          "scatter3d": [
           {
            "line": {
             "colorbar": {
              "outlinewidth": 0,
              "ticks": ""
             }
            },
            "marker": {
             "colorbar": {
              "outlinewidth": 0,
              "ticks": ""
             }
            },
            "type": "scatter3d"
           }
          ],
          "scattercarpet": [
           {
            "marker": {
             "colorbar": {
              "outlinewidth": 0,
              "ticks": ""
             }
            },
            "type": "scattercarpet"
           }
          ],
          "scattergeo": [
           {
            "marker": {
             "colorbar": {
              "outlinewidth": 0,
              "ticks": ""
             }
            },
            "type": "scattergeo"
           }
          ],
          "scattergl": [
           {
            "marker": {
             "colorbar": {
              "outlinewidth": 0,
              "ticks": ""
             }
            },
            "type": "scattergl"
           }
          ],
          "scattermapbox": [
           {
            "marker": {
             "colorbar": {
              "outlinewidth": 0,
              "ticks": ""
             }
            },
            "type": "scattermapbox"
           }
          ],
          "scatterpolar": [
           {
            "marker": {
             "colorbar": {
              "outlinewidth": 0,
              "ticks": ""
             }
            },
            "type": "scatterpolar"
           }
          ],
          "scatterpolargl": [
           {
            "marker": {
             "colorbar": {
              "outlinewidth": 0,
              "ticks": ""
             }
            },
            "type": "scatterpolargl"
           }
          ],
          "scatterternary": [
           {
            "marker": {
             "colorbar": {
              "outlinewidth": 0,
              "ticks": ""
             }
            },
            "type": "scatterternary"
           }
          ],
          "surface": [
           {
            "colorbar": {
             "outlinewidth": 0,
             "ticks": ""
            },
            "colorscale": [
             [
              0,
              "#0d0887"
             ],
             [
              0.1111111111111111,
              "#46039f"
             ],
             [
              0.2222222222222222,
              "#7201a8"
             ],
             [
              0.3333333333333333,
              "#9c179e"
             ],
             [
              0.4444444444444444,
              "#bd3786"
             ],
             [
              0.5555555555555556,
              "#d8576b"
             ],
             [
              0.6666666666666666,
              "#ed7953"
             ],
             [
              0.7777777777777778,
              "#fb9f3a"
             ],
             [
              0.8888888888888888,
              "#fdca26"
             ],
             [
              1,
              "#f0f921"
             ]
            ],
            "type": "surface"
           }
          ],
          "table": [
           {
            "cells": {
             "fill": {
              "color": "#EBF0F8"
             },
             "line": {
              "color": "white"
             }
            },
            "header": {
             "fill": {
              "color": "#C8D4E3"
             },
             "line": {
              "color": "white"
             }
            },
            "type": "table"
           }
          ]
         },
         "layout": {
          "annotationdefaults": {
           "arrowcolor": "#2a3f5f",
           "arrowhead": 0,
           "arrowwidth": 1
          },
          "autotypenumbers": "strict",
          "coloraxis": {
           "colorbar": {
            "outlinewidth": 0,
            "ticks": ""
           }
          },
          "colorscale": {
           "diverging": [
            [
             0,
             "#8e0152"
            ],
            [
             0.1,
             "#c51b7d"
            ],
            [
             0.2,
             "#de77ae"
            ],
            [
             0.3,
             "#f1b6da"
            ],
            [
             0.4,
             "#fde0ef"
            ],
            [
             0.5,
             "#f7f7f7"
            ],
            [
             0.6,
             "#e6f5d0"
            ],
            [
             0.7,
             "#b8e186"
            ],
            [
             0.8,
             "#7fbc41"
            ],
            [
             0.9,
             "#4d9221"
            ],
            [
             1,
             "#276419"
            ]
           ],
           "sequential": [
            [
             0,
             "#0d0887"
            ],
            [
             0.1111111111111111,
             "#46039f"
            ],
            [
             0.2222222222222222,
             "#7201a8"
            ],
            [
             0.3333333333333333,
             "#9c179e"
            ],
            [
             0.4444444444444444,
             "#bd3786"
            ],
            [
             0.5555555555555556,
             "#d8576b"
            ],
            [
             0.6666666666666666,
             "#ed7953"
            ],
            [
             0.7777777777777778,
             "#fb9f3a"
            ],
            [
             0.8888888888888888,
             "#fdca26"
            ],
            [
             1,
             "#f0f921"
            ]
           ],
           "sequentialminus": [
            [
             0,
             "#0d0887"
            ],
            [
             0.1111111111111111,
             "#46039f"
            ],
            [
             0.2222222222222222,
             "#7201a8"
            ],
            [
             0.3333333333333333,
             "#9c179e"
            ],
            [
             0.4444444444444444,
             "#bd3786"
            ],
            [
             0.5555555555555556,
             "#d8576b"
            ],
            [
             0.6666666666666666,
             "#ed7953"
            ],
            [
             0.7777777777777778,
             "#fb9f3a"
            ],
            [
             0.8888888888888888,
             "#fdca26"
            ],
            [
             1,
             "#f0f921"
            ]
           ]
          },
          "colorway": [
           "#636efa",
           "#EF553B",
           "#00cc96",
           "#ab63fa",
           "#FFA15A",
           "#19d3f3",
           "#FF6692",
           "#B6E880",
           "#FF97FF",
           "#FECB52"
          ],
          "font": {
           "color": "#2a3f5f"
          },
          "geo": {
           "bgcolor": "white",
           "lakecolor": "white",
           "landcolor": "#E5ECF6",
           "showlakes": true,
           "showland": true,
           "subunitcolor": "white"
          },
          "hoverlabel": {
           "align": "left"
          },
          "hovermode": "closest",
          "mapbox": {
           "style": "light"
          },
          "paper_bgcolor": "white",
          "plot_bgcolor": "#E5ECF6",
          "polar": {
           "angularaxis": {
            "gridcolor": "white",
            "linecolor": "white",
            "ticks": ""
           },
           "bgcolor": "#E5ECF6",
           "radialaxis": {
            "gridcolor": "white",
            "linecolor": "white",
            "ticks": ""
           }
          },
          "scene": {
           "xaxis": {
            "backgroundcolor": "#E5ECF6",
            "gridcolor": "white",
            "gridwidth": 2,
            "linecolor": "white",
            "showbackground": true,
            "ticks": "",
            "zerolinecolor": "white"
           },
           "yaxis": {
            "backgroundcolor": "#E5ECF6",
            "gridcolor": "white",
            "gridwidth": 2,
            "linecolor": "white",
            "showbackground": true,
            "ticks": "",
            "zerolinecolor": "white"
           },
           "zaxis": {
            "backgroundcolor": "#E5ECF6",
            "gridcolor": "white",
            "gridwidth": 2,
            "linecolor": "white",
            "showbackground": true,
            "ticks": "",
            "zerolinecolor": "white"
           }
          },
          "shapedefaults": {
           "line": {
            "color": "#2a3f5f"
           }
          },
          "ternary": {
           "aaxis": {
            "gridcolor": "white",
            "linecolor": "white",
            "ticks": ""
           },
           "baxis": {
            "gridcolor": "white",
            "linecolor": "white",
            "ticks": ""
           },
           "bgcolor": "#E5ECF6",
           "caxis": {
            "gridcolor": "white",
            "linecolor": "white",
            "ticks": ""
           }
          },
          "title": {
           "x": 0.05
          },
          "xaxis": {
           "automargin": true,
           "gridcolor": "white",
           "linecolor": "white",
           "ticks": "",
           "title": {
            "standoff": 15
           },
           "zerolinecolor": "white",
           "zerolinewidth": 2
          },
          "yaxis": {
           "automargin": true,
           "gridcolor": "white",
           "linecolor": "white",
           "ticks": "",
           "title": {
            "standoff": 15
           },
           "zerolinecolor": "white",
           "zerolinewidth": 2
          }
         }
        },
        "title": {
         "text": "Heatmap sulle componenti pca SHARKS"
        },
        "xaxis": {
         "anchor": "y",
         "domain": [
          0,
          1
         ]
        },
        "yaxis": {
         "anchor": "x",
         "autorange": "reversed",
         "domain": [
          0,
          1
         ],
         "title": {
          "text": "Name"
         }
        }
       }
      }
     },
     "metadata": {},
     "output_type": "display_data"
    }
   ],
   "source": [
    "px.imshow(df_pca[df_pca['Sharks ']==1][df_pca.columns[:-2]],color_continuous_scale='RdBu_r',aspect='Auto',title=\"Heatmap sulle componenti pca SHARKS\")"
   ]
  },
  {
   "cell_type": "code",
   "execution_count": 25,
   "metadata": {},
   "outputs": [
    {
     "data": {
      "text/html": [
       "<div>\n",
       "<style scoped>\n",
       "    .dataframe tbody tr th:only-of-type {\n",
       "        vertical-align: middle;\n",
       "    }\n",
       "\n",
       "    .dataframe tbody tr th {\n",
       "        vertical-align: top;\n",
       "    }\n",
       "\n",
       "    .dataframe thead th {\n",
       "        text-align: right;\n",
       "    }\n",
       "</style>\n",
       "<table border=\"1\" class=\"dataframe\">\n",
       "  <thead>\n",
       "    <tr style=\"text-align: right;\">\n",
       "      <th></th>\n",
       "      <th>(1)20s JH Married Burglar</th>\n",
       "      <th>(2)30s COL Married Pusher</th>\n",
       "      <th>(3)20s HS Pusher</th>\n",
       "      <th>(4)20s JH/COL Single Pusher</th>\n",
       "      <th>(5)30s JH/HS Divorced Pusher/Burglar</th>\n",
       "      <th>(6)40s JH/HS Married Pusher</th>\n",
       "    </tr>\n",
       "  </thead>\n",
       "  <tbody>\n",
       "    <tr>\n",
       "      <th>count</th>\n",
       "      <td>12.000000</td>\n",
       "      <td>12.000000</td>\n",
       "      <td>12.000000</td>\n",
       "      <td>12.000000</td>\n",
       "      <td>12.000000</td>\n",
       "      <td>12.000000</td>\n",
       "    </tr>\n",
       "    <tr>\n",
       "      <th>mean</th>\n",
       "      <td>-0.088106</td>\n",
       "      <td>0.468459</td>\n",
       "      <td>0.114233</td>\n",
       "      <td>-0.260554</td>\n",
       "      <td>0.052844</td>\n",
       "      <td>-0.025461</td>\n",
       "    </tr>\n",
       "    <tr>\n",
       "      <th>std</th>\n",
       "      <td>0.621417</td>\n",
       "      <td>0.727683</td>\n",
       "      <td>0.563497</td>\n",
       "      <td>0.588121</td>\n",
       "      <td>0.636237</td>\n",
       "      <td>0.463177</td>\n",
       "    </tr>\n",
       "    <tr>\n",
       "      <th>min</th>\n",
       "      <td>-1.168549</td>\n",
       "      <td>-0.953121</td>\n",
       "      <td>-1.176210</td>\n",
       "      <td>-1.092548</td>\n",
       "      <td>-0.853661</td>\n",
       "      <td>-0.472158</td>\n",
       "    </tr>\n",
       "    <tr>\n",
       "      <th>25%</th>\n",
       "      <td>-0.404399</td>\n",
       "      <td>0.125364</td>\n",
       "      <td>-0.124871</td>\n",
       "      <td>-0.781736</td>\n",
       "      <td>-0.251698</td>\n",
       "      <td>-0.392021</td>\n",
       "    </tr>\n",
       "    <tr>\n",
       "      <th>50%</th>\n",
       "      <td>0.018263</td>\n",
       "      <td>0.287107</td>\n",
       "      <td>0.168633</td>\n",
       "      <td>-0.183683</td>\n",
       "      <td>-0.095724</td>\n",
       "      <td>-0.066825</td>\n",
       "    </tr>\n",
       "    <tr>\n",
       "      <th>75%</th>\n",
       "      <td>0.198383</td>\n",
       "      <td>1.145787</td>\n",
       "      <td>0.506500</td>\n",
       "      <td>0.030192</td>\n",
       "      <td>0.324815</td>\n",
       "      <td>0.055781</td>\n",
       "    </tr>\n",
       "    <tr>\n",
       "      <th>max</th>\n",
       "      <td>0.784729</td>\n",
       "      <td>1.464689</td>\n",
       "      <td>0.751042</td>\n",
       "      <td>0.647517</td>\n",
       "      <td>1.113283</td>\n",
       "      <td>0.850972</td>\n",
       "    </tr>\n",
       "  </tbody>\n",
       "</table>\n",
       "</div>"
      ],
      "text/plain": [
       "       (1)20s JH Married Burglar  (2)30s COL Married Pusher  (3)20s HS Pusher  \\\n",
       "count                  12.000000                  12.000000         12.000000   \n",
       "mean                   -0.088106                   0.468459          0.114233   \n",
       "std                     0.621417                   0.727683          0.563497   \n",
       "min                    -1.168549                  -0.953121         -1.176210   \n",
       "25%                    -0.404399                   0.125364         -0.124871   \n",
       "50%                     0.018263                   0.287107          0.168633   \n",
       "75%                     0.198383                   1.145787          0.506500   \n",
       "max                     0.784729                   1.464689          0.751042   \n",
       "\n",
       "       (4)20s JH/COL Single Pusher  (5)30s JH/HS Divorced Pusher/Burglar  \\\n",
       "count                    12.000000                             12.000000   \n",
       "mean                     -0.260554                              0.052844   \n",
       "std                       0.588121                              0.636237   \n",
       "min                      -1.092548                             -0.853661   \n",
       "25%                      -0.781736                             -0.251698   \n",
       "50%                      -0.183683                             -0.095724   \n",
       "75%                       0.030192                              0.324815   \n",
       "max                       0.647517                              1.113283   \n",
       "\n",
       "       (6)40s JH/HS Married Pusher  \n",
       "count                    12.000000  \n",
       "mean                     -0.025461  \n",
       "std                       0.463177  \n",
       "min                      -0.472158  \n",
       "25%                      -0.392021  \n",
       "50%                      -0.066825  \n",
       "75%                       0.055781  \n",
       "max                       0.850972  "
      ]
     },
     "execution_count": 25,
     "metadata": {},
     "output_type": "execute_result"
    }
   ],
   "source": [
    "df_pca[df_pca['Jet ']==0][df_pca.columns[:-2]].describe()"
   ]
  },
  {
   "cell_type": "markdown",
   "metadata": {},
   "source": [
    "#### Profilo medio JET"
   ]
  },
  {
   "cell_type": "code",
   "execution_count": 26,
   "metadata": {},
   "outputs": [
    {
     "data": {
      "text/html": [
       "<div>\n",
       "<style scoped>\n",
       "    .dataframe tbody tr th:only-of-type {\n",
       "        vertical-align: middle;\n",
       "    }\n",
       "\n",
       "    .dataframe tbody tr th {\n",
       "        vertical-align: top;\n",
       "    }\n",
       "\n",
       "    .dataframe thead th {\n",
       "        text-align: right;\n",
       "    }\n",
       "</style>\n",
       "<table border=\"1\" class=\"dataframe\">\n",
       "  <thead>\n",
       "    <tr style=\"text-align: right;\">\n",
       "      <th></th>\n",
       "      <th>(1)20s JH Married Burglar</th>\n",
       "      <th>(2)30s COL Married Pusher</th>\n",
       "      <th>(3)20s HS Pusher</th>\n",
       "      <th>(4)20s JH/COL Single Pusher</th>\n",
       "      <th>(5)30s JH/HS Divorced Pusher/Burglar</th>\n",
       "      <th>(6)40s JH/HS Married Pusher</th>\n",
       "    </tr>\n",
       "  </thead>\n",
       "  <tbody>\n",
       "    <tr>\n",
       "      <th>mean</th>\n",
       "      <td>0.070485</td>\n",
       "      <td>-0.374767</td>\n",
       "      <td>-0.091386</td>\n",
       "      <td>0.208443</td>\n",
       "      <td>-0.042275</td>\n",
       "      <td>0.020369</td>\n",
       "    </tr>\n",
       "  </tbody>\n",
       "</table>\n",
       "</div>"
      ],
      "text/plain": [
       "      (1)20s JH Married Burglar  (2)30s COL Married Pusher  (3)20s HS Pusher  \\\n",
       "mean                   0.070485                  -0.374767         -0.091386   \n",
       "\n",
       "      (4)20s JH/COL Single Pusher  (5)30s JH/HS Divorced Pusher/Burglar  \\\n",
       "mean                     0.208443                             -0.042275   \n",
       "\n",
       "      (6)40s JH/HS Married Pusher  \n",
       "mean                     0.020369  "
      ]
     },
     "execution_count": 26,
     "metadata": {},
     "output_type": "execute_result"
    }
   ],
   "source": [
    "df_jet_means = df_pca[df_pca['Jet ']==1][df_pca.columns[:-2]].describe().loc[['mean']]\n",
    "df_jet_means"
   ]
  },
  {
   "cell_type": "markdown",
   "metadata": {},
   "source": [
    "#### Profilo medio SHARKS"
   ]
  },
  {
   "cell_type": "code",
   "execution_count": 27,
   "metadata": {},
   "outputs": [
    {
     "data": {
      "text/html": [
       "<div>\n",
       "<style scoped>\n",
       "    .dataframe tbody tr th:only-of-type {\n",
       "        vertical-align: middle;\n",
       "    }\n",
       "\n",
       "    .dataframe tbody tr th {\n",
       "        vertical-align: top;\n",
       "    }\n",
       "\n",
       "    .dataframe thead th {\n",
       "        text-align: right;\n",
       "    }\n",
       "</style>\n",
       "<table border=\"1\" class=\"dataframe\">\n",
       "  <thead>\n",
       "    <tr style=\"text-align: right;\">\n",
       "      <th></th>\n",
       "      <th>(1)20s JH Married Burglar</th>\n",
       "      <th>(2)30s COL Married Pusher</th>\n",
       "      <th>(3)20s HS Pusher</th>\n",
       "      <th>(4)20s JH/COL Single Pusher</th>\n",
       "      <th>(5)30s JH/HS Divorced Pusher/Burglar</th>\n",
       "      <th>(6)40s JH/HS Married Pusher</th>\n",
       "    </tr>\n",
       "  </thead>\n",
       "  <tbody>\n",
       "    <tr>\n",
       "      <th>mean</th>\n",
       "      <td>-0.088106</td>\n",
       "      <td>0.468459</td>\n",
       "      <td>0.114233</td>\n",
       "      <td>-0.260554</td>\n",
       "      <td>0.052844</td>\n",
       "      <td>-0.025461</td>\n",
       "    </tr>\n",
       "  </tbody>\n",
       "</table>\n",
       "</div>"
      ],
      "text/plain": [
       "      (1)20s JH Married Burglar  (2)30s COL Married Pusher  (3)20s HS Pusher  \\\n",
       "mean                  -0.088106                   0.468459          0.114233   \n",
       "\n",
       "      (4)20s JH/COL Single Pusher  (5)30s JH/HS Divorced Pusher/Burglar  \\\n",
       "mean                    -0.260554                              0.052844   \n",
       "\n",
       "      (6)40s JH/HS Married Pusher  \n",
       "mean                    -0.025461  "
      ]
     },
     "execution_count": 27,
     "metadata": {},
     "output_type": "execute_result"
    }
   ],
   "source": [
    "df_sharks_means = df_pca[df_pca['Jet ']==0][df_pca.columns[:-2]].describe().loc[['mean']]\n",
    "df_sharks_means"
   ]
  },
  {
   "cell_type": "markdown",
   "metadata": {},
   "source": [
    "### Confronto profili"
   ]
  },
  {
   "cell_type": "code",
   "execution_count": 28,
   "metadata": {},
   "outputs": [
    {
     "data": {
      "text/html": [
       "<div>\n",
       "<style scoped>\n",
       "    .dataframe tbody tr th:only-of-type {\n",
       "        vertical-align: middle;\n",
       "    }\n",
       "\n",
       "    .dataframe tbody tr th {\n",
       "        vertical-align: top;\n",
       "    }\n",
       "\n",
       "    .dataframe thead th {\n",
       "        text-align: right;\n",
       "    }\n",
       "</style>\n",
       "<table border=\"1\" class=\"dataframe\">\n",
       "  <thead>\n",
       "    <tr style=\"text-align: right;\">\n",
       "      <th>6</th>\n",
       "      <th>Component</th>\n",
       "      <th>Jet</th>\n",
       "      <th>Sharks</th>\n",
       "    </tr>\n",
       "  </thead>\n",
       "  <tbody>\n",
       "    <tr>\n",
       "      <th>0</th>\n",
       "      <td>(1)20s JH Married Burglar</td>\n",
       "      <td>0.070485</td>\n",
       "      <td>-0.088106</td>\n",
       "    </tr>\n",
       "    <tr>\n",
       "      <th>1</th>\n",
       "      <td>(2)30s COL Married Pusher</td>\n",
       "      <td>-0.374767</td>\n",
       "      <td>0.468459</td>\n",
       "    </tr>\n",
       "    <tr>\n",
       "      <th>2</th>\n",
       "      <td>(3)20s HS Pusher</td>\n",
       "      <td>-0.091386</td>\n",
       "      <td>0.114233</td>\n",
       "    </tr>\n",
       "    <tr>\n",
       "      <th>3</th>\n",
       "      <td>(4)20s JH/COL Single Pusher</td>\n",
       "      <td>0.208443</td>\n",
       "      <td>-0.260554</td>\n",
       "    </tr>\n",
       "    <tr>\n",
       "      <th>4</th>\n",
       "      <td>(5)30s JH/HS Divorced Pusher/Burglar</td>\n",
       "      <td>-0.042275</td>\n",
       "      <td>0.052844</td>\n",
       "    </tr>\n",
       "    <tr>\n",
       "      <th>5</th>\n",
       "      <td>(6)40s JH/HS Married Pusher</td>\n",
       "      <td>0.020369</td>\n",
       "      <td>-0.025461</td>\n",
       "    </tr>\n",
       "  </tbody>\n",
       "</table>\n",
       "</div>"
      ],
      "text/plain": [
       "6                             Component       Jet    Sharks\n",
       "0             (1)20s JH Married Burglar  0.070485 -0.088106\n",
       "1             (2)30s COL Married Pusher -0.374767  0.468459\n",
       "2                      (3)20s HS Pusher -0.091386  0.114233\n",
       "3           (4)20s JH/COL Single Pusher  0.208443 -0.260554\n",
       "4  (5)30s JH/HS Divorced Pusher/Burglar -0.042275  0.052844\n",
       "5           (6)40s JH/HS Married Pusher  0.020369 -0.025461"
      ]
     },
     "execution_count": 28,
     "metadata": {},
     "output_type": "execute_result"
    }
   ],
   "source": [
    "df_means = pd.concat([df_jet_means,df_sharks_means])\n",
    "df_means['Component'] = [\"Jet\",\"Sharks\"]\n",
    "df_means.reset_index(drop=True,inplace=True)\n",
    "df_means = df_means.transpose()\n",
    "df_means.reset_index(inplace=True)\n",
    "df_means.columns = df_means.iloc[-1]\n",
    "df_means = df_means.iloc[:-1]\n",
    "df_means"
   ]
  },
  {
   "cell_type": "code",
   "execution_count": 29,
   "metadata": {},
   "outputs": [
    {
     "data": {
      "application/vnd.plotly.v1+json": {
       "config": {
        "plotlyServerURL": "https://plot.ly"
       },
       "data": [
        {
         "fill": "toself",
         "name": "Jet",
         "r": [
          0.07048456124241112,
          -0.3747672750691279,
          -0.09138648125745312,
          0.2084433163328703,
          -0.042275012783395384,
          0.020368956211226568
         ],
         "theta": [
          "(1)20s JH Married Burglar",
          "(2)30s COL Married Pusher",
          "(3)20s HS Pusher",
          "(4)20s JH/COL Single Pusher",
          "(5)30s JH/HS Divorced Pusher/Burglar",
          "(6)40s JH/HS Married Pusher"
         ],
         "type": "scatterpolar"
        },
        {
         "fill": "toself",
         "name": "Sharks",
         "r": [
          -0.088105701553014,
          0.4684590938364101,
          0.1142331015718165,
          -0.26055414541608785,
          0.052843765979244284,
          -0.025461195264033204
         ],
         "theta": [
          "(1)20s JH Married Burglar",
          "(2)30s COL Married Pusher",
          "(3)20s HS Pusher",
          "(4)20s JH/COL Single Pusher",
          "(5)30s JH/HS Divorced Pusher/Burglar",
          "(6)40s JH/HS Married Pusher"
         ],
         "type": "scatterpolar"
        }
       ],
       "layout": {
        "polar": {
         "radialaxis": {
          "visible": true
         }
        },
        "showlegend": true,
        "template": {
         "data": {
          "bar": [
           {
            "error_x": {
             "color": "#2a3f5f"
            },
            "error_y": {
             "color": "#2a3f5f"
            },
            "marker": {
             "line": {
              "color": "#E5ECF6",
              "width": 0.5
             },
             "pattern": {
              "fillmode": "overlay",
              "size": 10,
              "solidity": 0.2
             }
            },
            "type": "bar"
           }
          ],
          "barpolar": [
           {
            "marker": {
             "line": {
              "color": "#E5ECF6",
              "width": 0.5
             },
             "pattern": {
              "fillmode": "overlay",
              "size": 10,
              "solidity": 0.2
             }
            },
            "type": "barpolar"
           }
          ],
          "carpet": [
           {
            "aaxis": {
             "endlinecolor": "#2a3f5f",
             "gridcolor": "white",
             "linecolor": "white",
             "minorgridcolor": "white",
             "startlinecolor": "#2a3f5f"
            },
            "baxis": {
             "endlinecolor": "#2a3f5f",
             "gridcolor": "white",
             "linecolor": "white",
             "minorgridcolor": "white",
             "startlinecolor": "#2a3f5f"
            },
            "type": "carpet"
           }
          ],
          "choropleth": [
           {
            "colorbar": {
             "outlinewidth": 0,
             "ticks": ""
            },
            "type": "choropleth"
           }
          ],
          "contour": [
           {
            "colorbar": {
             "outlinewidth": 0,
             "ticks": ""
            },
            "colorscale": [
             [
              0,
              "#0d0887"
             ],
             [
              0.1111111111111111,
              "#46039f"
             ],
             [
              0.2222222222222222,
              "#7201a8"
             ],
             [
              0.3333333333333333,
              "#9c179e"
             ],
             [
              0.4444444444444444,
              "#bd3786"
             ],
             [
              0.5555555555555556,
              "#d8576b"
             ],
             [
              0.6666666666666666,
              "#ed7953"
             ],
             [
              0.7777777777777778,
              "#fb9f3a"
             ],
             [
              0.8888888888888888,
              "#fdca26"
             ],
             [
              1,
              "#f0f921"
             ]
            ],
            "type": "contour"
           }
          ],
          "contourcarpet": [
           {
            "colorbar": {
             "outlinewidth": 0,
             "ticks": ""
            },
            "type": "contourcarpet"
           }
          ],
          "heatmap": [
           {
            "colorbar": {
             "outlinewidth": 0,
             "ticks": ""
            },
            "colorscale": [
             [
              0,
              "#0d0887"
             ],
             [
              0.1111111111111111,
              "#46039f"
             ],
             [
              0.2222222222222222,
              "#7201a8"
             ],
             [
              0.3333333333333333,
              "#9c179e"
             ],
             [
              0.4444444444444444,
              "#bd3786"
             ],
             [
              0.5555555555555556,
              "#d8576b"
             ],
             [
              0.6666666666666666,
              "#ed7953"
             ],
             [
              0.7777777777777778,
              "#fb9f3a"
             ],
             [
              0.8888888888888888,
              "#fdca26"
             ],
             [
              1,
              "#f0f921"
             ]
            ],
            "type": "heatmap"
           }
          ],
          "heatmapgl": [
           {
            "colorbar": {
             "outlinewidth": 0,
             "ticks": ""
            },
            "colorscale": [
             [
              0,
              "#0d0887"
             ],
             [
              0.1111111111111111,
              "#46039f"
             ],
             [
              0.2222222222222222,
              "#7201a8"
             ],
             [
              0.3333333333333333,
              "#9c179e"
             ],
             [
              0.4444444444444444,
              "#bd3786"
             ],
             [
              0.5555555555555556,
              "#d8576b"
             ],
             [
              0.6666666666666666,
              "#ed7953"
             ],
             [
              0.7777777777777778,
              "#fb9f3a"
             ],
             [
              0.8888888888888888,
              "#fdca26"
             ],
             [
              1,
              "#f0f921"
             ]
            ],
            "type": "heatmapgl"
           }
          ],
          "histogram": [
           {
            "marker": {
             "pattern": {
              "fillmode": "overlay",
              "size": 10,
              "solidity": 0.2
             }
            },
            "type": "histogram"
           }
          ],
          "histogram2d": [
           {
            "colorbar": {
             "outlinewidth": 0,
             "ticks": ""
            },
            "colorscale": [
             [
              0,
              "#0d0887"
             ],
             [
              0.1111111111111111,
              "#46039f"
             ],
             [
              0.2222222222222222,
              "#7201a8"
             ],
             [
              0.3333333333333333,
              "#9c179e"
             ],
             [
              0.4444444444444444,
              "#bd3786"
             ],
             [
              0.5555555555555556,
              "#d8576b"
             ],
             [
              0.6666666666666666,
              "#ed7953"
             ],
             [
              0.7777777777777778,
              "#fb9f3a"
             ],
             [
              0.8888888888888888,
              "#fdca26"
             ],
             [
              1,
              "#f0f921"
             ]
            ],
            "type": "histogram2d"
           }
          ],
          "histogram2dcontour": [
           {
            "colorbar": {
             "outlinewidth": 0,
             "ticks": ""
            },
            "colorscale": [
             [
              0,
              "#0d0887"
             ],
             [
              0.1111111111111111,
              "#46039f"
             ],
             [
              0.2222222222222222,
              "#7201a8"
             ],
             [
              0.3333333333333333,
              "#9c179e"
             ],
             [
              0.4444444444444444,
              "#bd3786"
             ],
             [
              0.5555555555555556,
              "#d8576b"
             ],
             [
              0.6666666666666666,
              "#ed7953"
             ],
             [
              0.7777777777777778,
              "#fb9f3a"
             ],
             [
              0.8888888888888888,
              "#fdca26"
             ],
             [
              1,
              "#f0f921"
             ]
            ],
            "type": "histogram2dcontour"
           }
          ],
          "mesh3d": [
           {
            "colorbar": {
             "outlinewidth": 0,
             "ticks": ""
            },
            "type": "mesh3d"
           }
          ],
          "parcoords": [
           {
            "line": {
             "colorbar": {
              "outlinewidth": 0,
              "ticks": ""
             }
            },
            "type": "parcoords"
           }
          ],
          "pie": [
           {
            "automargin": true,
            "type": "pie"
           }
          ],
          "scatter": [
           {
            "marker": {
             "colorbar": {
              "outlinewidth": 0,
              "ticks": ""
             }
            },
            "type": "scatter"
           }
          ],
          "scatter3d": [
           {
            "line": {
             "colorbar": {
              "outlinewidth": 0,
              "ticks": ""
             }
            },
            "marker": {
             "colorbar": {
              "outlinewidth": 0,
              "ticks": ""
             }
            },
            "type": "scatter3d"
           }
          ],
          "scattercarpet": [
           {
            "marker": {
             "colorbar": {
              "outlinewidth": 0,
              "ticks": ""
             }
            },
            "type": "scattercarpet"
           }
          ],
          "scattergeo": [
           {
            "marker": {
             "colorbar": {
              "outlinewidth": 0,
              "ticks": ""
             }
            },
            "type": "scattergeo"
           }
          ],
          "scattergl": [
           {
            "marker": {
             "colorbar": {
              "outlinewidth": 0,
              "ticks": ""
             }
            },
            "type": "scattergl"
           }
          ],
          "scattermapbox": [
           {
            "marker": {
             "colorbar": {
              "outlinewidth": 0,
              "ticks": ""
             }
            },
            "type": "scattermapbox"
           }
          ],
          "scatterpolar": [
           {
            "marker": {
             "colorbar": {
              "outlinewidth": 0,
              "ticks": ""
             }
            },
            "type": "scatterpolar"
           }
          ],
          "scatterpolargl": [
           {
            "marker": {
             "colorbar": {
              "outlinewidth": 0,
              "ticks": ""
             }
            },
            "type": "scatterpolargl"
           }
          ],
          "scatterternary": [
           {
            "marker": {
             "colorbar": {
              "outlinewidth": 0,
              "ticks": ""
             }
            },
            "type": "scatterternary"
           }
          ],
          "surface": [
           {
            "colorbar": {
             "outlinewidth": 0,
             "ticks": ""
            },
            "colorscale": [
             [
              0,
              "#0d0887"
             ],
             [
              0.1111111111111111,
              "#46039f"
             ],
             [
              0.2222222222222222,
              "#7201a8"
             ],
             [
              0.3333333333333333,
              "#9c179e"
             ],
             [
              0.4444444444444444,
              "#bd3786"
             ],
             [
              0.5555555555555556,
              "#d8576b"
             ],
             [
              0.6666666666666666,
              "#ed7953"
             ],
             [
              0.7777777777777778,
              "#fb9f3a"
             ],
             [
              0.8888888888888888,
              "#fdca26"
             ],
             [
              1,
              "#f0f921"
             ]
            ],
            "type": "surface"
           }
          ],
          "table": [
           {
            "cells": {
             "fill": {
              "color": "#EBF0F8"
             },
             "line": {
              "color": "white"
             }
            },
            "header": {
             "fill": {
              "color": "#C8D4E3"
             },
             "line": {
              "color": "white"
             }
            },
            "type": "table"
           }
          ]
         },
         "layout": {
          "annotationdefaults": {
           "arrowcolor": "#2a3f5f",
           "arrowhead": 0,
           "arrowwidth": 1
          },
          "autotypenumbers": "strict",
          "coloraxis": {
           "colorbar": {
            "outlinewidth": 0,
            "ticks": ""
           }
          },
          "colorscale": {
           "diverging": [
            [
             0,
             "#8e0152"
            ],
            [
             0.1,
             "#c51b7d"
            ],
            [
             0.2,
             "#de77ae"
            ],
            [
             0.3,
             "#f1b6da"
            ],
            [
             0.4,
             "#fde0ef"
            ],
            [
             0.5,
             "#f7f7f7"
            ],
            [
             0.6,
             "#e6f5d0"
            ],
            [
             0.7,
             "#b8e186"
            ],
            [
             0.8,
             "#7fbc41"
            ],
            [
             0.9,
             "#4d9221"
            ],
            [
             1,
             "#276419"
            ]
           ],
           "sequential": [
            [
             0,
             "#0d0887"
            ],
            [
             0.1111111111111111,
             "#46039f"
            ],
            [
             0.2222222222222222,
             "#7201a8"
            ],
            [
             0.3333333333333333,
             "#9c179e"
            ],
            [
             0.4444444444444444,
             "#bd3786"
            ],
            [
             0.5555555555555556,
             "#d8576b"
            ],
            [
             0.6666666666666666,
             "#ed7953"
            ],
            [
             0.7777777777777778,
             "#fb9f3a"
            ],
            [
             0.8888888888888888,
             "#fdca26"
            ],
            [
             1,
             "#f0f921"
            ]
           ],
           "sequentialminus": [
            [
             0,
             "#0d0887"
            ],
            [
             0.1111111111111111,
             "#46039f"
            ],
            [
             0.2222222222222222,
             "#7201a8"
            ],
            [
             0.3333333333333333,
             "#9c179e"
            ],
            [
             0.4444444444444444,
             "#bd3786"
            ],
            [
             0.5555555555555556,
             "#d8576b"
            ],
            [
             0.6666666666666666,
             "#ed7953"
            ],
            [
             0.7777777777777778,
             "#fb9f3a"
            ],
            [
             0.8888888888888888,
             "#fdca26"
            ],
            [
             1,
             "#f0f921"
            ]
           ]
          },
          "colorway": [
           "#636efa",
           "#EF553B",
           "#00cc96",
           "#ab63fa",
           "#FFA15A",
           "#19d3f3",
           "#FF6692",
           "#B6E880",
           "#FF97FF",
           "#FECB52"
          ],
          "font": {
           "color": "#2a3f5f"
          },
          "geo": {
           "bgcolor": "white",
           "lakecolor": "white",
           "landcolor": "#E5ECF6",
           "showlakes": true,
           "showland": true,
           "subunitcolor": "white"
          },
          "hoverlabel": {
           "align": "left"
          },
          "hovermode": "closest",
          "mapbox": {
           "style": "light"
          },
          "paper_bgcolor": "white",
          "plot_bgcolor": "#E5ECF6",
          "polar": {
           "angularaxis": {
            "gridcolor": "white",
            "linecolor": "white",
            "ticks": ""
           },
           "bgcolor": "#E5ECF6",
           "radialaxis": {
            "gridcolor": "white",
            "linecolor": "white",
            "ticks": ""
           }
          },
          "scene": {
           "xaxis": {
            "backgroundcolor": "#E5ECF6",
            "gridcolor": "white",
            "gridwidth": 2,
            "linecolor": "white",
            "showbackground": true,
            "ticks": "",
            "zerolinecolor": "white"
           },
           "yaxis": {
            "backgroundcolor": "#E5ECF6",
            "gridcolor": "white",
            "gridwidth": 2,
            "linecolor": "white",
            "showbackground": true,
            "ticks": "",
            "zerolinecolor": "white"
           },
           "zaxis": {
            "backgroundcolor": "#E5ECF6",
            "gridcolor": "white",
            "gridwidth": 2,
            "linecolor": "white",
            "showbackground": true,
            "ticks": "",
            "zerolinecolor": "white"
           }
          },
          "shapedefaults": {
           "line": {
            "color": "#2a3f5f"
           }
          },
          "ternary": {
           "aaxis": {
            "gridcolor": "white",
            "linecolor": "white",
            "ticks": ""
           },
           "baxis": {
            "gridcolor": "white",
            "linecolor": "white",
            "ticks": ""
           },
           "bgcolor": "#E5ECF6",
           "caxis": {
            "gridcolor": "white",
            "linecolor": "white",
            "ticks": ""
           }
          },
          "title": {
           "x": 0.05
          },
          "xaxis": {
           "automargin": true,
           "gridcolor": "white",
           "linecolor": "white",
           "ticks": "",
           "title": {
            "standoff": 15
           },
           "zerolinecolor": "white",
           "zerolinewidth": 2
          },
          "yaxis": {
           "automargin": true,
           "gridcolor": "white",
           "linecolor": "white",
           "ticks": "",
           "title": {
            "standoff": 15
           },
           "zerolinecolor": "white",
           "zerolinewidth": 2
          }
         }
        },
        "title": {
         "text": "Confronto profilo Jet e Sharks"
        }
       }
      }
     },
     "metadata": {},
     "output_type": "display_data"
    }
   ],
   "source": [
    "title = \"Confronto profilo Jet e Sharks\"\n",
    "fig = go.Figure()\n",
    "\n",
    "fig.add_trace(go.Scatterpolar(\n",
    "      r=df_means['Jet'],\n",
    "      theta=df_means['Component'],\n",
    "      fill='toself',\n",
    "      name='Jet'\n",
    "))\n",
    "fig.add_trace(go.Scatterpolar(\n",
    "      r=df_means['Sharks'],\n",
    "      theta=df_means['Component'],\n",
    "      fill='toself',\n",
    "      name='Sharks'\n",
    "))\n",
    "\n",
    "fig.update_layout(\n",
    "  polar=dict(\n",
    "    radialaxis=dict(\n",
    "      visible=True,\n",
    "    )),\n",
    "  showlegend=True,\n",
    "  title = title,\n",
    ")\n",
    "\n",
    "fig.show()\n",
    "fig.write_html(title+'.html')"
   ]
  },
  {
   "cell_type": "markdown",
   "metadata": {},
   "source": [
    "### Commento profili\n",
    "#### Dal grafico si evince che le componenti discriminanti fra le due bande sono principalmente la 2 e la 4\n",
    "#### DISTINZIONI PRINCIPALI MEDIE:\n",
    "#### I Jet sono sui 20, single e con istruzione alta o bassa\n",
    "#### Gli Sharks sono sui 30, sposati con istruzione alta"
   ]
  },
  {
   "cell_type": "markdown",
   "metadata": {},
   "source": [
    "### Visualizzazione su 2 e 3 dimensioni"
   ]
  },
  {
   "cell_type": "code",
   "execution_count": 30,
   "metadata": {},
   "outputs": [],
   "source": [
    "df_pca['Gang'] = df_pca['Jet '].apply(lambda x : 'Jet' if x==1 else 'Sharks')\n",
    "df_pca.drop(columns=['Jet ','Sharks '],inplace=True)"
   ]
  },
  {
   "cell_type": "code",
   "execution_count": 31,
   "metadata": {},
   "outputs": [],
   "source": [
    "# aggiungo un po' di rumore bianco per migliorare la visualizzazione\n",
    "df_pca_no_noise = df_pca.copy()\n",
    "df_pca_noise = df_pca.copy()\n",
    "for col in df_pca_noise.columns[:-1]:\n",
    "    df_pca_noise[col] = df_pca_noise[col] + (np.random.randn( len(df_pca_noise[col]) ) /25.0)"
   ]
  },
  {
   "cell_type": "code",
   "execution_count": 32,
   "metadata": {},
   "outputs": [
    {
     "data": {
      "text/html": [
       "<div>\n",
       "<style scoped>\n",
       "    .dataframe tbody tr th:only-of-type {\n",
       "        vertical-align: middle;\n",
       "    }\n",
       "\n",
       "    .dataframe tbody tr th {\n",
       "        vertical-align: top;\n",
       "    }\n",
       "\n",
       "    .dataframe thead th {\n",
       "        text-align: right;\n",
       "    }\n",
       "</style>\n",
       "<table border=\"1\" class=\"dataframe\">\n",
       "  <thead>\n",
       "    <tr style=\"text-align: right;\">\n",
       "      <th></th>\n",
       "      <th>(1)20s JH Married Burglar</th>\n",
       "      <th>(2)30s COL Married Pusher</th>\n",
       "      <th>(3)20s HS Pusher</th>\n",
       "      <th>(4)20s JH/COL Single Pusher</th>\n",
       "      <th>(5)30s JH/HS Divorced Pusher/Burglar</th>\n",
       "      <th>(6)40s JH/HS Married Pusher</th>\n",
       "      <th>Gang</th>\n",
       "    </tr>\n",
       "    <tr>\n",
       "      <th>Name</th>\n",
       "      <th></th>\n",
       "      <th></th>\n",
       "      <th></th>\n",
       "      <th></th>\n",
       "      <th></th>\n",
       "      <th></th>\n",
       "      <th></th>\n",
       "    </tr>\n",
       "  </thead>\n",
       "  <tbody>\n",
       "    <tr>\n",
       "      <th>ART</th>\n",
       "      <td>-0.414226</td>\n",
       "      <td>-0.417047</td>\n",
       "      <td>-0.283107</td>\n",
       "      <td>0.809142</td>\n",
       "      <td>0.243055</td>\n",
       "      <td>1.235089</td>\n",
       "      <td>Jet</td>\n",
       "    </tr>\n",
       "    <tr>\n",
       "      <th>AL</th>\n",
       "      <td>0.910524</td>\n",
       "      <td>0.567564</td>\n",
       "      <td>-0.742251</td>\n",
       "      <td>-0.181237</td>\n",
       "      <td>0.418761</td>\n",
       "      <td>0.208499</td>\n",
       "      <td>Jet</td>\n",
       "    </tr>\n",
       "    <tr>\n",
       "      <th>SAM</th>\n",
       "      <td>-0.505891</td>\n",
       "      <td>-0.442293</td>\n",
       "      <td>-0.045620</td>\n",
       "      <td>0.396558</td>\n",
       "      <td>-1.046997</td>\n",
       "      <td>-0.802395</td>\n",
       "      <td>Jet</td>\n",
       "    </tr>\n",
       "    <tr>\n",
       "      <th>CLYDE</th>\n",
       "      <td>-0.590409</td>\n",
       "      <td>-0.743009</td>\n",
       "      <td>-0.975250</td>\n",
       "      <td>-0.093332</td>\n",
       "      <td>-0.369638</td>\n",
       "      <td>0.747178</td>\n",
       "      <td>Jet</td>\n",
       "    </tr>\n",
       "    <tr>\n",
       "      <th>MIKE</th>\n",
       "      <td>-0.800403</td>\n",
       "      <td>-0.170318</td>\n",
       "      <td>-1.169424</td>\n",
       "      <td>-0.031838</td>\n",
       "      <td>0.216422</td>\n",
       "      <td>-0.101868</td>\n",
       "      <td>Jet</td>\n",
       "    </tr>\n",
       "  </tbody>\n",
       "</table>\n",
       "</div>"
      ],
      "text/plain": [
       "       (1)20s JH Married Burglar  (2)30s COL Married Pusher  (3)20s HS Pusher  \\\n",
       "Name                                                                            \n",
       "ART                    -0.414226                  -0.417047         -0.283107   \n",
       "AL                      0.910524                   0.567564         -0.742251   \n",
       "SAM                    -0.505891                  -0.442293         -0.045620   \n",
       "CLYDE                  -0.590409                  -0.743009         -0.975250   \n",
       "MIKE                   -0.800403                  -0.170318         -1.169424   \n",
       "\n",
       "       (4)20s JH/COL Single Pusher  (5)30s JH/HS Divorced Pusher/Burglar  \\\n",
       "Name                                                                       \n",
       "ART                       0.809142                              0.243055   \n",
       "AL                       -0.181237                              0.418761   \n",
       "SAM                       0.396558                             -1.046997   \n",
       "CLYDE                    -0.093332                             -0.369638   \n",
       "MIKE                     -0.031838                              0.216422   \n",
       "\n",
       "       (6)40s JH/HS Married Pusher Gang  \n",
       "Name                                     \n",
       "ART                       1.235089  Jet  \n",
       "AL                        0.208499  Jet  \n",
       "SAM                      -0.802395  Jet  \n",
       "CLYDE                     0.747178  Jet  \n",
       "MIKE                     -0.101868  Jet  "
      ]
     },
     "execution_count": 32,
     "metadata": {},
     "output_type": "execute_result"
    }
   ],
   "source": [
    "df_pca_noise.head()"
   ]
  },
  {
   "cell_type": "code",
   "execution_count": 33,
   "metadata": {},
   "outputs": [
    {
     "data": {
      "application/vnd.plotly.v1+json": {
       "config": {
        "plotlyServerURL": "https://plot.ly"
       },
       "data": [
        {
         "hovertemplate": "Gang=Jet<br>(1)20s JH Married Burglar=%{x}<br>(2)30s COL Married Pusher=%{y}<br>Name=%{text}<extra></extra>",
         "legendgroup": "Jet",
         "marker": {
          "color": "#636efa",
          "symbol": "circle"
         },
         "mode": "markers+text",
         "name": "Jet",
         "orientation": "v",
         "showlegend": true,
         "text": [
          "ART",
          "AL",
          "SAM",
          "CLYDE",
          "MIKE",
          "JIM",
          "GREG",
          "JOHN",
          "DOUG",
          "LANCE",
          "GEORGE",
          "PETE",
          "FRED",
          "GENE",
          "RALPH"
         ],
         "textposition": "top center",
         "type": "scatter",
         "x": [
          -0.4142258731800647,
          0.910523976383455,
          -0.5058912601375005,
          -0.5904093449992446,
          -0.8004025076061576,
          1.2061436535364771,
          0.2879093643828018,
          1.374218446284405,
          -1.1066090938726825,
          1.403563127738573,
          1.218872891776153,
          -0.778156507728118,
          -0.5110687498946658,
          -0.2642979174579059,
          -0.6450306141874079
         ],
         "xaxis": "x",
         "y": [
          -0.4170471170498248,
          0.5675638682821951,
          -0.4422934051879655,
          -0.7430094151159286,
          -0.1703181586631693,
          -0.9292902971307923,
          0.006389457834913417,
          -0.36021428316471016,
          0.032573707176761696,
          -0.3944554157611137,
          -0.9563213385926057,
          -0.959376154359504,
          -0.5216581217718106,
          -0.20920196975240582,
          0.1319965184218695
         ],
         "yaxis": "y"
        },
        {
         "hovertemplate": "Gang=Sharks<br>(1)20s JH Married Burglar=%{x}<br>(2)30s COL Married Pusher=%{y}<br>Name=%{text}<extra></extra>",
         "legendgroup": "Sharks",
         "marker": {
          "color": "#EF553B",
          "symbol": "circle"
         },
         "mode": "markers+text",
         "name": "Sharks",
         "orientation": "v",
         "showlegend": true,
         "text": [
          "PHIL",
          "IKE",
          "NICK",
          "DON",
          "NED",
          "KARL",
          "KEN",
          "EARL",
          "RICK",
          "OL",
          "NEAL",
          "DAVE"
         ],
         "textposition": "top center",
         "type": "scatter",
         "x": [
          0.10597828185503327,
          -0.7933532784886016,
          -1.0178650295292822,
          0.8147698727239431,
          -0.05729222260793763,
          -0.07776142400996253,
          0.08997862354147637,
          0.7530966360874608,
          0.42385505742366336,
          0.1596630113066015,
          -1.1395867002624405,
          -0.21943597558881112
         ],
         "xaxis": "x",
         "y": [
          1.4710636399569765,
          -0.21967123071367334,
          0.28543594027825636,
          1.1368636676043842,
          1.1116254376670478,
          0.21381925677183297,
          -1.0102540329392748,
          0.17942674118618765,
          0.24032947470279292,
          1.451973181681395,
          0.04309178621858317,
          0.552676181405622
         ],
         "yaxis": "y"
        }
       ],
       "layout": {
        "legend": {
         "title": {
          "text": "Gang"
         },
         "tracegroupgap": 0
        },
        "template": {
         "data": {
          "bar": [
           {
            "error_x": {
             "color": "#2a3f5f"
            },
            "error_y": {
             "color": "#2a3f5f"
            },
            "marker": {
             "line": {
              "color": "#E5ECF6",
              "width": 0.5
             },
             "pattern": {
              "fillmode": "overlay",
              "size": 10,
              "solidity": 0.2
             }
            },
            "type": "bar"
           }
          ],
          "barpolar": [
           {
            "marker": {
             "line": {
              "color": "#E5ECF6",
              "width": 0.5
             },
             "pattern": {
              "fillmode": "overlay",
              "size": 10,
              "solidity": 0.2
             }
            },
            "type": "barpolar"
           }
          ],
          "carpet": [
           {
            "aaxis": {
             "endlinecolor": "#2a3f5f",
             "gridcolor": "white",
             "linecolor": "white",
             "minorgridcolor": "white",
             "startlinecolor": "#2a3f5f"
            },
            "baxis": {
             "endlinecolor": "#2a3f5f",
             "gridcolor": "white",
             "linecolor": "white",
             "minorgridcolor": "white",
             "startlinecolor": "#2a3f5f"
            },
            "type": "carpet"
           }
          ],
          "choropleth": [
           {
            "colorbar": {
             "outlinewidth": 0,
             "ticks": ""
            },
            "type": "choropleth"
           }
          ],
          "contour": [
           {
            "colorbar": {
             "outlinewidth": 0,
             "ticks": ""
            },
            "colorscale": [
             [
              0,
              "#0d0887"
             ],
             [
              0.1111111111111111,
              "#46039f"
             ],
             [
              0.2222222222222222,
              "#7201a8"
             ],
             [
              0.3333333333333333,
              "#9c179e"
             ],
             [
              0.4444444444444444,
              "#bd3786"
             ],
             [
              0.5555555555555556,
              "#d8576b"
             ],
             [
              0.6666666666666666,
              "#ed7953"
             ],
             [
              0.7777777777777778,
              "#fb9f3a"
             ],
             [
              0.8888888888888888,
              "#fdca26"
             ],
             [
              1,
              "#f0f921"
             ]
            ],
            "type": "contour"
           }
          ],
          "contourcarpet": [
           {
            "colorbar": {
             "outlinewidth": 0,
             "ticks": ""
            },
            "type": "contourcarpet"
           }
          ],
          "heatmap": [
           {
            "colorbar": {
             "outlinewidth": 0,
             "ticks": ""
            },
            "colorscale": [
             [
              0,
              "#0d0887"
             ],
             [
              0.1111111111111111,
              "#46039f"
             ],
             [
              0.2222222222222222,
              "#7201a8"
             ],
             [
              0.3333333333333333,
              "#9c179e"
             ],
             [
              0.4444444444444444,
              "#bd3786"
             ],
             [
              0.5555555555555556,
              "#d8576b"
             ],
             [
              0.6666666666666666,
              "#ed7953"
             ],
             [
              0.7777777777777778,
              "#fb9f3a"
             ],
             [
              0.8888888888888888,
              "#fdca26"
             ],
             [
              1,
              "#f0f921"
             ]
            ],
            "type": "heatmap"
           }
          ],
          "heatmapgl": [
           {
            "colorbar": {
             "outlinewidth": 0,
             "ticks": ""
            },
            "colorscale": [
             [
              0,
              "#0d0887"
             ],
             [
              0.1111111111111111,
              "#46039f"
             ],
             [
              0.2222222222222222,
              "#7201a8"
             ],
             [
              0.3333333333333333,
              "#9c179e"
             ],
             [
              0.4444444444444444,
              "#bd3786"
             ],
             [
              0.5555555555555556,
              "#d8576b"
             ],
             [
              0.6666666666666666,
              "#ed7953"
             ],
             [
              0.7777777777777778,
              "#fb9f3a"
             ],
             [
              0.8888888888888888,
              "#fdca26"
             ],
             [
              1,
              "#f0f921"
             ]
            ],
            "type": "heatmapgl"
           }
          ],
          "histogram": [
           {
            "marker": {
             "pattern": {
              "fillmode": "overlay",
              "size": 10,
              "solidity": 0.2
             }
            },
            "type": "histogram"
           }
          ],
          "histogram2d": [
           {
            "colorbar": {
             "outlinewidth": 0,
             "ticks": ""
            },
            "colorscale": [
             [
              0,
              "#0d0887"
             ],
             [
              0.1111111111111111,
              "#46039f"
             ],
             [
              0.2222222222222222,
              "#7201a8"
             ],
             [
              0.3333333333333333,
              "#9c179e"
             ],
             [
              0.4444444444444444,
              "#bd3786"
             ],
             [
              0.5555555555555556,
              "#d8576b"
             ],
             [
              0.6666666666666666,
              "#ed7953"
             ],
             [
              0.7777777777777778,
              "#fb9f3a"
             ],
             [
              0.8888888888888888,
              "#fdca26"
             ],
             [
              1,
              "#f0f921"
             ]
            ],
            "type": "histogram2d"
           }
          ],
          "histogram2dcontour": [
           {
            "colorbar": {
             "outlinewidth": 0,
             "ticks": ""
            },
            "colorscale": [
             [
              0,
              "#0d0887"
             ],
             [
              0.1111111111111111,
              "#46039f"
             ],
             [
              0.2222222222222222,
              "#7201a8"
             ],
             [
              0.3333333333333333,
              "#9c179e"
             ],
             [
              0.4444444444444444,
              "#bd3786"
             ],
             [
              0.5555555555555556,
              "#d8576b"
             ],
             [
              0.6666666666666666,
              "#ed7953"
             ],
             [
              0.7777777777777778,
              "#fb9f3a"
             ],
             [
              0.8888888888888888,
              "#fdca26"
             ],
             [
              1,
              "#f0f921"
             ]
            ],
            "type": "histogram2dcontour"
           }
          ],
          "mesh3d": [
           {
            "colorbar": {
             "outlinewidth": 0,
             "ticks": ""
            },
            "type": "mesh3d"
           }
          ],
          "parcoords": [
           {
            "line": {
             "colorbar": {
              "outlinewidth": 0,
              "ticks": ""
             }
            },
            "type": "parcoords"
           }
          ],
          "pie": [
           {
            "automargin": true,
            "type": "pie"
           }
          ],
          "scatter": [
           {
            "marker": {
             "colorbar": {
              "outlinewidth": 0,
              "ticks": ""
             }
            },
            "type": "scatter"
           }
          ],
          "scatter3d": [
           {
            "line": {
             "colorbar": {
              "outlinewidth": 0,
              "ticks": ""
             }
            },
            "marker": {
             "colorbar": {
              "outlinewidth": 0,
              "ticks": ""
             }
            },
            "type": "scatter3d"
           }
          ],
          "scattercarpet": [
           {
            "marker": {
             "colorbar": {
              "outlinewidth": 0,
              "ticks": ""
             }
            },
            "type": "scattercarpet"
           }
          ],
          "scattergeo": [
           {
            "marker": {
             "colorbar": {
              "outlinewidth": 0,
              "ticks": ""
             }
            },
            "type": "scattergeo"
           }
          ],
          "scattergl": [
           {
            "marker": {
             "colorbar": {
              "outlinewidth": 0,
              "ticks": ""
             }
            },
            "type": "scattergl"
           }
          ],
          "scattermapbox": [
           {
            "marker": {
             "colorbar": {
              "outlinewidth": 0,
              "ticks": ""
             }
            },
            "type": "scattermapbox"
           }
          ],
          "scatterpolar": [
           {
            "marker": {
             "colorbar": {
              "outlinewidth": 0,
              "ticks": ""
             }
            },
            "type": "scatterpolar"
           }
          ],
          "scatterpolargl": [
           {
            "marker": {
             "colorbar": {
              "outlinewidth": 0,
              "ticks": ""
             }
            },
            "type": "scatterpolargl"
           }
          ],
          "scatterternary": [
           {
            "marker": {
             "colorbar": {
              "outlinewidth": 0,
              "ticks": ""
             }
            },
            "type": "scatterternary"
           }
          ],
          "surface": [
           {
            "colorbar": {
             "outlinewidth": 0,
             "ticks": ""
            },
            "colorscale": [
             [
              0,
              "#0d0887"
             ],
             [
              0.1111111111111111,
              "#46039f"
             ],
             [
              0.2222222222222222,
              "#7201a8"
             ],
             [
              0.3333333333333333,
              "#9c179e"
             ],
             [
              0.4444444444444444,
              "#bd3786"
             ],
             [
              0.5555555555555556,
              "#d8576b"
             ],
             [
              0.6666666666666666,
              "#ed7953"
             ],
             [
              0.7777777777777778,
              "#fb9f3a"
             ],
             [
              0.8888888888888888,
              "#fdca26"
             ],
             [
              1,
              "#f0f921"
             ]
            ],
            "type": "surface"
           }
          ],
          "table": [
           {
            "cells": {
             "fill": {
              "color": "#EBF0F8"
             },
             "line": {
              "color": "white"
             }
            },
            "header": {
             "fill": {
              "color": "#C8D4E3"
             },
             "line": {
              "color": "white"
             }
            },
            "type": "table"
           }
          ]
         },
         "layout": {
          "annotationdefaults": {
           "arrowcolor": "#2a3f5f",
           "arrowhead": 0,
           "arrowwidth": 1
          },
          "autotypenumbers": "strict",
          "coloraxis": {
           "colorbar": {
            "outlinewidth": 0,
            "ticks": ""
           }
          },
          "colorscale": {
           "diverging": [
            [
             0,
             "#8e0152"
            ],
            [
             0.1,
             "#c51b7d"
            ],
            [
             0.2,
             "#de77ae"
            ],
            [
             0.3,
             "#f1b6da"
            ],
            [
             0.4,
             "#fde0ef"
            ],
            [
             0.5,
             "#f7f7f7"
            ],
            [
             0.6,
             "#e6f5d0"
            ],
            [
             0.7,
             "#b8e186"
            ],
            [
             0.8,
             "#7fbc41"
            ],
            [
             0.9,
             "#4d9221"
            ],
            [
             1,
             "#276419"
            ]
           ],
           "sequential": [
            [
             0,
             "#0d0887"
            ],
            [
             0.1111111111111111,
             "#46039f"
            ],
            [
             0.2222222222222222,
             "#7201a8"
            ],
            [
             0.3333333333333333,
             "#9c179e"
            ],
            [
             0.4444444444444444,
             "#bd3786"
            ],
            [
             0.5555555555555556,
             "#d8576b"
            ],
            [
             0.6666666666666666,
             "#ed7953"
            ],
            [
             0.7777777777777778,
             "#fb9f3a"
            ],
            [
             0.8888888888888888,
             "#fdca26"
            ],
            [
             1,
             "#f0f921"
            ]
           ],
           "sequentialminus": [
            [
             0,
             "#0d0887"
            ],
            [
             0.1111111111111111,
             "#46039f"
            ],
            [
             0.2222222222222222,
             "#7201a8"
            ],
            [
             0.3333333333333333,
             "#9c179e"
            ],
            [
             0.4444444444444444,
             "#bd3786"
            ],
            [
             0.5555555555555556,
             "#d8576b"
            ],
            [
             0.6666666666666666,
             "#ed7953"
            ],
            [
             0.7777777777777778,
             "#fb9f3a"
            ],
            [
             0.8888888888888888,
             "#fdca26"
            ],
            [
             1,
             "#f0f921"
            ]
           ]
          },
          "colorway": [
           "#636efa",
           "#EF553B",
           "#00cc96",
           "#ab63fa",
           "#FFA15A",
           "#19d3f3",
           "#FF6692",
           "#B6E880",
           "#FF97FF",
           "#FECB52"
          ],
          "font": {
           "color": "#2a3f5f"
          },
          "geo": {
           "bgcolor": "white",
           "lakecolor": "white",
           "landcolor": "#E5ECF6",
           "showlakes": true,
           "showland": true,
           "subunitcolor": "white"
          },
          "hoverlabel": {
           "align": "left"
          },
          "hovermode": "closest",
          "mapbox": {
           "style": "light"
          },
          "paper_bgcolor": "white",
          "plot_bgcolor": "#E5ECF6",
          "polar": {
           "angularaxis": {
            "gridcolor": "white",
            "linecolor": "white",
            "ticks": ""
           },
           "bgcolor": "#E5ECF6",
           "radialaxis": {
            "gridcolor": "white",
            "linecolor": "white",
            "ticks": ""
           }
          },
          "scene": {
           "xaxis": {
            "backgroundcolor": "#E5ECF6",
            "gridcolor": "white",
            "gridwidth": 2,
            "linecolor": "white",
            "showbackground": true,
            "ticks": "",
            "zerolinecolor": "white"
           },
           "yaxis": {
            "backgroundcolor": "#E5ECF6",
            "gridcolor": "white",
            "gridwidth": 2,
            "linecolor": "white",
            "showbackground": true,
            "ticks": "",
            "zerolinecolor": "white"
           },
           "zaxis": {
            "backgroundcolor": "#E5ECF6",
            "gridcolor": "white",
            "gridwidth": 2,
            "linecolor": "white",
            "showbackground": true,
            "ticks": "",
            "zerolinecolor": "white"
           }
          },
          "shapedefaults": {
           "line": {
            "color": "#2a3f5f"
           }
          },
          "ternary": {
           "aaxis": {
            "gridcolor": "white",
            "linecolor": "white",
            "ticks": ""
           },
           "baxis": {
            "gridcolor": "white",
            "linecolor": "white",
            "ticks": ""
           },
           "bgcolor": "#E5ECF6",
           "caxis": {
            "gridcolor": "white",
            "linecolor": "white",
            "ticks": ""
           }
          },
          "title": {
           "x": 0.05
          },
          "xaxis": {
           "automargin": true,
           "gridcolor": "white",
           "linecolor": "white",
           "ticks": "",
           "title": {
            "standoff": 15
           },
           "zerolinecolor": "white",
           "zerolinewidth": 2
          },
          "yaxis": {
           "automargin": true,
           "gridcolor": "white",
           "linecolor": "white",
           "ticks": "",
           "title": {
            "standoff": 15
           },
           "zerolinecolor": "white",
           "zerolinewidth": 2
          }
         }
        },
        "title": {
         "text": "Visualizzazione su componenti principali 1 e 2"
        },
        "xaxis": {
         "anchor": "y",
         "domain": [
          0,
          1
         ],
         "title": {
          "text": "(1)20s JH Married Burglar"
         }
        },
        "yaxis": {
         "anchor": "x",
         "domain": [
          0,
          1
         ],
         "title": {
          "text": "(2)30s COL Married Pusher"
         }
        }
       }
      }
     },
     "metadata": {},
     "output_type": "display_data"
    }
   ],
   "source": [
    "title = \"Visualizzazione su componenti principali 1 e 2\"\n",
    "fig = px.scatter(df_pca_noise.reset_index(),x=cod_componenti[0],y=cod_componenti[1],text=\"Name\",color=\"Gang\", title=title)\n",
    "fig.update_traces(textposition=\"top center\")\n",
    "fig.write_html(title+'.html')\n",
    "fig.show()"
   ]
  },
  {
   "cell_type": "code",
   "execution_count": 34,
   "metadata": {},
   "outputs": [
    {
     "data": {
      "application/vnd.plotly.v1+json": {
       "config": {
        "plotlyServerURL": "https://plot.ly"
       },
       "data": [
        {
         "hovertemplate": "Gang=Jet<br>(2)30s COL Married Pusher=%{x}<br>(4)20s JH/COL Single Pusher=%{y}<br>Name=%{text}<extra></extra>",
         "legendgroup": "Jet",
         "marker": {
          "color": "#636efa",
          "symbol": "circle"
         },
         "mode": "markers+text",
         "name": "Jet",
         "orientation": "v",
         "showlegend": true,
         "text": [
          "ART",
          "AL",
          "SAM",
          "CLYDE",
          "MIKE",
          "JIM",
          "GREG",
          "JOHN",
          "DOUG",
          "LANCE",
          "GEORGE",
          "PETE",
          "FRED",
          "GENE",
          "RALPH"
         ],
         "textposition": "top center",
         "type": "scatter",
         "x": [
          -0.4170471170498248,
          0.5675638682821951,
          -0.4422934051879655,
          -0.7430094151159286,
          -0.1703181586631693,
          -0.9292902971307923,
          0.006389457834913417,
          -0.36021428316471016,
          0.032573707176761696,
          -0.3944554157611137,
          -0.9563213385926057,
          -0.959376154359504,
          -0.5216581217718106,
          -0.20920196975240582,
          0.1319965184218695
         ],
         "xaxis": "x",
         "y": [
          0.8091420454418011,
          -0.18123702795134583,
          0.39655754271418686,
          -0.09333186078581909,
          -0.031837679420080006,
          0.24867443933454075,
          0.1547488446817859,
          0.03940699690080181,
          -0.7454839381038031,
          0.08331773462977413,
          0.1577490795404618,
          -0.3793008737370274,
          0.4303106771665718,
          1.2736913339083733,
          0.9159383547249794
         ],
         "yaxis": "y"
        },
        {
         "hovertemplate": "Gang=Sharks<br>(2)30s COL Married Pusher=%{x}<br>(4)20s JH/COL Single Pusher=%{y}<br>Name=%{text}<extra></extra>",
         "legendgroup": "Sharks",
         "marker": {
          "color": "#EF553B",
          "symbol": "circle"
         },
         "mode": "markers+text",
         "name": "Sharks",
         "orientation": "v",
         "showlegend": true,
         "text": [
          "PHIL",
          "IKE",
          "NICK",
          "DON",
          "NED",
          "KARL",
          "KEN",
          "EARL",
          "RICK",
          "OL",
          "NEAL",
          "DAVE"
         ],
         "textposition": "top center",
         "type": "scatter",
         "x": [
          1.4710636399569765,
          -0.21967123071367334,
          0.28543594027825636,
          1.1368636676043842,
          1.1116254376670478,
          0.21381925677183297,
          -1.0102540329392748,
          0.17942674118618765,
          0.24032947470279292,
          1.451973181681395,
          0.04309178621858317,
          0.552676181405622
         ],
         "xaxis": "x",
         "y": [
          0.6593107379256107,
          -0.0006146412770620178,
          0.14561993134481613,
          -0.06695503094502318,
          -0.2164315258821145,
          -1.0589560339308248,
          -0.32029993874688356,
          -1.0233764993388486,
          -0.9153194654530543,
          0.5870182723683176,
          -0.7316020357112664,
          -0.18469135266647
         ],
         "yaxis": "y"
        }
       ],
       "layout": {
        "legend": {
         "title": {
          "text": "Gang"
         },
         "tracegroupgap": 0
        },
        "template": {
         "data": {
          "bar": [
           {
            "error_x": {
             "color": "#2a3f5f"
            },
            "error_y": {
             "color": "#2a3f5f"
            },
            "marker": {
             "line": {
              "color": "#E5ECF6",
              "width": 0.5
             },
             "pattern": {
              "fillmode": "overlay",
              "size": 10,
              "solidity": 0.2
             }
            },
            "type": "bar"
           }
          ],
          "barpolar": [
           {
            "marker": {
             "line": {
              "color": "#E5ECF6",
              "width": 0.5
             },
             "pattern": {
              "fillmode": "overlay",
              "size": 10,
              "solidity": 0.2
             }
            },
            "type": "barpolar"
           }
          ],
          "carpet": [
           {
            "aaxis": {
             "endlinecolor": "#2a3f5f",
             "gridcolor": "white",
             "linecolor": "white",
             "minorgridcolor": "white",
             "startlinecolor": "#2a3f5f"
            },
            "baxis": {
             "endlinecolor": "#2a3f5f",
             "gridcolor": "white",
             "linecolor": "white",
             "minorgridcolor": "white",
             "startlinecolor": "#2a3f5f"
            },
            "type": "carpet"
           }
          ],
          "choropleth": [
           {
            "colorbar": {
             "outlinewidth": 0,
             "ticks": ""
            },
            "type": "choropleth"
           }
          ],
          "contour": [
           {
            "colorbar": {
             "outlinewidth": 0,
             "ticks": ""
            },
            "colorscale": [
             [
              0,
              "#0d0887"
             ],
             [
              0.1111111111111111,
              "#46039f"
             ],
             [
              0.2222222222222222,
              "#7201a8"
             ],
             [
              0.3333333333333333,
              "#9c179e"
             ],
             [
              0.4444444444444444,
              "#bd3786"
             ],
             [
              0.5555555555555556,
              "#d8576b"
             ],
             [
              0.6666666666666666,
              "#ed7953"
             ],
             [
              0.7777777777777778,
              "#fb9f3a"
             ],
             [
              0.8888888888888888,
              "#fdca26"
             ],
             [
              1,
              "#f0f921"
             ]
            ],
            "type": "contour"
           }
          ],
          "contourcarpet": [
           {
            "colorbar": {
             "outlinewidth": 0,
             "ticks": ""
            },
            "type": "contourcarpet"
           }
          ],
          "heatmap": [
           {
            "colorbar": {
             "outlinewidth": 0,
             "ticks": ""
            },
            "colorscale": [
             [
              0,
              "#0d0887"
             ],
             [
              0.1111111111111111,
              "#46039f"
             ],
             [
              0.2222222222222222,
              "#7201a8"
             ],
             [
              0.3333333333333333,
              "#9c179e"
             ],
             [
              0.4444444444444444,
              "#bd3786"
             ],
             [
              0.5555555555555556,
              "#d8576b"
             ],
             [
              0.6666666666666666,
              "#ed7953"
             ],
             [
              0.7777777777777778,
              "#fb9f3a"
             ],
             [
              0.8888888888888888,
              "#fdca26"
             ],
             [
              1,
              "#f0f921"
             ]
            ],
            "type": "heatmap"
           }
          ],
          "heatmapgl": [
           {
            "colorbar": {
             "outlinewidth": 0,
             "ticks": ""
            },
            "colorscale": [
             [
              0,
              "#0d0887"
             ],
             [
              0.1111111111111111,
              "#46039f"
             ],
             [
              0.2222222222222222,
              "#7201a8"
             ],
             [
              0.3333333333333333,
              "#9c179e"
             ],
             [
              0.4444444444444444,
              "#bd3786"
             ],
             [
              0.5555555555555556,
              "#d8576b"
             ],
             [
              0.6666666666666666,
              "#ed7953"
             ],
             [
              0.7777777777777778,
              "#fb9f3a"
             ],
             [
              0.8888888888888888,
              "#fdca26"
             ],
             [
              1,
              "#f0f921"
             ]
            ],
            "type": "heatmapgl"
           }
          ],
          "histogram": [
           {
            "marker": {
             "pattern": {
              "fillmode": "overlay",
              "size": 10,
              "solidity": 0.2
             }
            },
            "type": "histogram"
           }
          ],
          "histogram2d": [
           {
            "colorbar": {
             "outlinewidth": 0,
             "ticks": ""
            },
            "colorscale": [
             [
              0,
              "#0d0887"
             ],
             [
              0.1111111111111111,
              "#46039f"
             ],
             [
              0.2222222222222222,
              "#7201a8"
             ],
             [
              0.3333333333333333,
              "#9c179e"
             ],
             [
              0.4444444444444444,
              "#bd3786"
             ],
             [
              0.5555555555555556,
              "#d8576b"
             ],
             [
              0.6666666666666666,
              "#ed7953"
             ],
             [
              0.7777777777777778,
              "#fb9f3a"
             ],
             [
              0.8888888888888888,
              "#fdca26"
             ],
             [
              1,
              "#f0f921"
             ]
            ],
            "type": "histogram2d"
           }
          ],
          "histogram2dcontour": [
           {
            "colorbar": {
             "outlinewidth": 0,
             "ticks": ""
            },
            "colorscale": [
             [
              0,
              "#0d0887"
             ],
             [
              0.1111111111111111,
              "#46039f"
             ],
             [
              0.2222222222222222,
              "#7201a8"
             ],
             [
              0.3333333333333333,
              "#9c179e"
             ],
             [
              0.4444444444444444,
              "#bd3786"
             ],
             [
              0.5555555555555556,
              "#d8576b"
             ],
             [
              0.6666666666666666,
              "#ed7953"
             ],
             [
              0.7777777777777778,
              "#fb9f3a"
             ],
             [
              0.8888888888888888,
              "#fdca26"
             ],
             [
              1,
              "#f0f921"
             ]
            ],
            "type": "histogram2dcontour"
           }
          ],
          "mesh3d": [
           {
            "colorbar": {
             "outlinewidth": 0,
             "ticks": ""
            },
            "type": "mesh3d"
           }
          ],
          "parcoords": [
           {
            "line": {
             "colorbar": {
              "outlinewidth": 0,
              "ticks": ""
             }
            },
            "type": "parcoords"
           }
          ],
          "pie": [
           {
            "automargin": true,
            "type": "pie"
           }
          ],
          "scatter": [
           {
            "marker": {
             "colorbar": {
              "outlinewidth": 0,
              "ticks": ""
             }
            },
            "type": "scatter"
           }
          ],
          "scatter3d": [
           {
            "line": {
             "colorbar": {
              "outlinewidth": 0,
              "ticks": ""
             }
            },
            "marker": {
             "colorbar": {
              "outlinewidth": 0,
              "ticks": ""
             }
            },
            "type": "scatter3d"
           }
          ],
          "scattercarpet": [
           {
            "marker": {
             "colorbar": {
              "outlinewidth": 0,
              "ticks": ""
             }
            },
            "type": "scattercarpet"
           }
          ],
          "scattergeo": [
           {
            "marker": {
             "colorbar": {
              "outlinewidth": 0,
              "ticks": ""
             }
            },
            "type": "scattergeo"
           }
          ],
          "scattergl": [
           {
            "marker": {
             "colorbar": {
              "outlinewidth": 0,
              "ticks": ""
             }
            },
            "type": "scattergl"
           }
          ],
          "scattermapbox": [
           {
            "marker": {
             "colorbar": {
              "outlinewidth": 0,
              "ticks": ""
             }
            },
            "type": "scattermapbox"
           }
          ],
          "scatterpolar": [
           {
            "marker": {
             "colorbar": {
              "outlinewidth": 0,
              "ticks": ""
             }
            },
            "type": "scatterpolar"
           }
          ],
          "scatterpolargl": [
           {
            "marker": {
             "colorbar": {
              "outlinewidth": 0,
              "ticks": ""
             }
            },
            "type": "scatterpolargl"
           }
          ],
          "scatterternary": [
           {
            "marker": {
             "colorbar": {
              "outlinewidth": 0,
              "ticks": ""
             }
            },
            "type": "scatterternary"
           }
          ],
          "surface": [
           {
            "colorbar": {
             "outlinewidth": 0,
             "ticks": ""
            },
            "colorscale": [
             [
              0,
              "#0d0887"
             ],
             [
              0.1111111111111111,
              "#46039f"
             ],
             [
              0.2222222222222222,
              "#7201a8"
             ],
             [
              0.3333333333333333,
              "#9c179e"
             ],
             [
              0.4444444444444444,
              "#bd3786"
             ],
             [
              0.5555555555555556,
              "#d8576b"
             ],
             [
              0.6666666666666666,
              "#ed7953"
             ],
             [
              0.7777777777777778,
              "#fb9f3a"
             ],
             [
              0.8888888888888888,
              "#fdca26"
             ],
             [
              1,
              "#f0f921"
             ]
            ],
            "type": "surface"
           }
          ],
          "table": [
           {
            "cells": {
             "fill": {
              "color": "#EBF0F8"
             },
             "line": {
              "color": "white"
             }
            },
            "header": {
             "fill": {
              "color": "#C8D4E3"
             },
             "line": {
              "color": "white"
             }
            },
            "type": "table"
           }
          ]
         },
         "layout": {
          "annotationdefaults": {
           "arrowcolor": "#2a3f5f",
           "arrowhead": 0,
           "arrowwidth": 1
          },
          "autotypenumbers": "strict",
          "coloraxis": {
           "colorbar": {
            "outlinewidth": 0,
            "ticks": ""
           }
          },
          "colorscale": {
           "diverging": [
            [
             0,
             "#8e0152"
            ],
            [
             0.1,
             "#c51b7d"
            ],
            [
             0.2,
             "#de77ae"
            ],
            [
             0.3,
             "#f1b6da"
            ],
            [
             0.4,
             "#fde0ef"
            ],
            [
             0.5,
             "#f7f7f7"
            ],
            [
             0.6,
             "#e6f5d0"
            ],
            [
             0.7,
             "#b8e186"
            ],
            [
             0.8,
             "#7fbc41"
            ],
            [
             0.9,
             "#4d9221"
            ],
            [
             1,
             "#276419"
            ]
           ],
           "sequential": [
            [
             0,
             "#0d0887"
            ],
            [
             0.1111111111111111,
             "#46039f"
            ],
            [
             0.2222222222222222,
             "#7201a8"
            ],
            [
             0.3333333333333333,
             "#9c179e"
            ],
            [
             0.4444444444444444,
             "#bd3786"
            ],
            [
             0.5555555555555556,
             "#d8576b"
            ],
            [
             0.6666666666666666,
             "#ed7953"
            ],
            [
             0.7777777777777778,
             "#fb9f3a"
            ],
            [
             0.8888888888888888,
             "#fdca26"
            ],
            [
             1,
             "#f0f921"
            ]
           ],
           "sequentialminus": [
            [
             0,
             "#0d0887"
            ],
            [
             0.1111111111111111,
             "#46039f"
            ],
            [
             0.2222222222222222,
             "#7201a8"
            ],
            [
             0.3333333333333333,
             "#9c179e"
            ],
            [
             0.4444444444444444,
             "#bd3786"
            ],
            [
             0.5555555555555556,
             "#d8576b"
            ],
            [
             0.6666666666666666,
             "#ed7953"
            ],
            [
             0.7777777777777778,
             "#fb9f3a"
            ],
            [
             0.8888888888888888,
             "#fdca26"
            ],
            [
             1,
             "#f0f921"
            ]
           ]
          },
          "colorway": [
           "#636efa",
           "#EF553B",
           "#00cc96",
           "#ab63fa",
           "#FFA15A",
           "#19d3f3",
           "#FF6692",
           "#B6E880",
           "#FF97FF",
           "#FECB52"
          ],
          "font": {
           "color": "#2a3f5f"
          },
          "geo": {
           "bgcolor": "white",
           "lakecolor": "white",
           "landcolor": "#E5ECF6",
           "showlakes": true,
           "showland": true,
           "subunitcolor": "white"
          },
          "hoverlabel": {
           "align": "left"
          },
          "hovermode": "closest",
          "mapbox": {
           "style": "light"
          },
          "paper_bgcolor": "white",
          "plot_bgcolor": "#E5ECF6",
          "polar": {
           "angularaxis": {
            "gridcolor": "white",
            "linecolor": "white",
            "ticks": ""
           },
           "bgcolor": "#E5ECF6",
           "radialaxis": {
            "gridcolor": "white",
            "linecolor": "white",
            "ticks": ""
           }
          },
          "scene": {
           "xaxis": {
            "backgroundcolor": "#E5ECF6",
            "gridcolor": "white",
            "gridwidth": 2,
            "linecolor": "white",
            "showbackground": true,
            "ticks": "",
            "zerolinecolor": "white"
           },
           "yaxis": {
            "backgroundcolor": "#E5ECF6",
            "gridcolor": "white",
            "gridwidth": 2,
            "linecolor": "white",
            "showbackground": true,
            "ticks": "",
            "zerolinecolor": "white"
           },
           "zaxis": {
            "backgroundcolor": "#E5ECF6",
            "gridcolor": "white",
            "gridwidth": 2,
            "linecolor": "white",
            "showbackground": true,
            "ticks": "",
            "zerolinecolor": "white"
           }
          },
          "shapedefaults": {
           "line": {
            "color": "#2a3f5f"
           }
          },
          "ternary": {
           "aaxis": {
            "gridcolor": "white",
            "linecolor": "white",
            "ticks": ""
           },
           "baxis": {
            "gridcolor": "white",
            "linecolor": "white",
            "ticks": ""
           },
           "bgcolor": "#E5ECF6",
           "caxis": {
            "gridcolor": "white",
            "linecolor": "white",
            "ticks": ""
           }
          },
          "title": {
           "x": 0.05
          },
          "xaxis": {
           "automargin": true,
           "gridcolor": "white",
           "linecolor": "white",
           "ticks": "",
           "title": {
            "standoff": 15
           },
           "zerolinecolor": "white",
           "zerolinewidth": 2
          },
          "yaxis": {
           "automargin": true,
           "gridcolor": "white",
           "linecolor": "white",
           "ticks": "",
           "title": {
            "standoff": 15
           },
           "zerolinecolor": "white",
           "zerolinewidth": 2
          }
         }
        },
        "title": {
         "text": "Visualizzazione su componenti discriminanti 4 e 2"
        },
        "xaxis": {
         "anchor": "y",
         "domain": [
          0,
          1
         ],
         "title": {
          "text": "(2)30s COL Married Pusher"
         }
        },
        "yaxis": {
         "anchor": "x",
         "domain": [
          0,
          1
         ],
         "title": {
          "text": "(4)20s JH/COL Single Pusher"
         }
        }
       }
      }
     },
     "metadata": {},
     "output_type": "display_data"
    }
   ],
   "source": [
    "title=\"Visualizzazione su componenti discriminanti 4 e 2\"\n",
    "fig = px.scatter(df_pca_noise.reset_index(),x=cod_componenti[1],y=cod_componenti[3],text=\"Name\",color=\"Gang\",title=title)\n",
    "fig.update_traces(textposition='top center')\n",
    "fig.write_html(title+'.html')\n",
    "fig.show()"
   ]
  },
  {
   "cell_type": "code",
   "execution_count": 35,
   "metadata": {},
   "outputs": [
    {
     "data": {
      "application/vnd.plotly.v1+json": {
       "config": {
        "plotlyServerURL": "https://plot.ly"
       },
       "data": [
        {
         "hovertemplate": "Gang=Jet<br>(1)20s JH Married Burglar=%{x}<br>(2)30s COL Married Pusher=%{y}<br>(3)20s HS Pusher=%{z}<br>Name=%{text}<extra></extra>",
         "legendgroup": "Jet",
         "marker": {
          "color": "#636efa",
          "symbol": "circle"
         },
         "mode": "markers+text",
         "name": "Jet",
         "scene": "scene",
         "showlegend": true,
         "text": [
          "ART",
          "AL",
          "SAM",
          "CLYDE",
          "MIKE",
          "JIM",
          "GREG",
          "JOHN",
          "DOUG",
          "LANCE",
          "GEORGE",
          "PETE",
          "FRED",
          "GENE",
          "RALPH"
         ],
         "textposition": "top center",
         "type": "scatter3d",
         "x": [
          -0.4142258731800647,
          0.910523976383455,
          -0.5058912601375005,
          -0.5904093449992446,
          -0.8004025076061576,
          1.2061436535364771,
          0.2879093643828018,
          1.374218446284405,
          -1.1066090938726825,
          1.403563127738573,
          1.218872891776153,
          -0.778156507728118,
          -0.5110687498946658,
          -0.2642979174579059,
          -0.6450306141874079
         ],
         "y": [
          -0.4170471170498248,
          0.5675638682821951,
          -0.4422934051879655,
          -0.7430094151159286,
          -0.1703181586631693,
          -0.9292902971307923,
          0.006389457834913417,
          -0.36021428316471016,
          0.032573707176761696,
          -0.3944554157611137,
          -0.9563213385926057,
          -0.959376154359504,
          -0.5216581217718106,
          -0.20920196975240582,
          0.1319965184218695
         ],
         "z": [
          -0.28310661719975344,
          -0.7422505831143855,
          -0.04562005983767094,
          -0.9752502701576545,
          -1.1694241524096307,
          -0.1724485440712994,
          1.2385928053008466,
          -0.2692604193129261,
          -0.07052684630449728,
          -0.23671265921787354,
          -0.16942223852501748,
          0.46337927559665476,
          1.1605205086029333,
          0.6345543946868986,
          -0.45347888205616466
         ]
        },
        {
         "hovertemplate": "Gang=Sharks<br>(1)20s JH Married Burglar=%{x}<br>(2)30s COL Married Pusher=%{y}<br>(3)20s HS Pusher=%{z}<br>Name=%{text}<extra></extra>",
         "legendgroup": "Sharks",
         "marker": {
          "color": "#EF553B",
          "symbol": "circle"
         },
         "mode": "markers+text",
         "name": "Sharks",
         "scene": "scene",
         "showlegend": true,
         "text": [
          "PHIL",
          "IKE",
          "NICK",
          "DON",
          "NED",
          "KARL",
          "KEN",
          "EARL",
          "RICK",
          "OL",
          "NEAL",
          "DAVE"
         ],
         "textposition": "top center",
         "type": "scatter3d",
         "x": [
          0.10597828185503327,
          -0.7933532784886016,
          -1.0178650295292822,
          0.8147698727239431,
          -0.05729222260793763,
          -0.07776142400996253,
          0.08997862354147637,
          0.7530966360874608,
          0.42385505742366336,
          0.1596630113066015,
          -1.1395867002624405,
          -0.21943597558881112
         ],
         "y": [
          1.4710636399569765,
          -0.21967123071367334,
          0.28543594027825636,
          1.1368636676043842,
          1.1116254376670478,
          0.21381925677183297,
          -1.0102540329392748,
          0.17942674118618765,
          0.24032947470279292,
          1.451973181681395,
          0.04309178621858317,
          0.552676181405622
         ],
         "z": [
          0.1420453550977169,
          -1.157883156399012,
          0.604991949850243,
          -0.2549067165849536,
          -0.5665538489960743,
          0.11388338440900345,
          0.7978251978571835,
          0.430039836533911,
          0.23411749495780887,
          0.12400783527055964,
          -0.05687717973893386,
          0.8312168995022504
         ]
        }
       ],
       "layout": {
        "legend": {
         "title": {
          "text": "Gang"
         },
         "tracegroupgap": 0
        },
        "scene": {
         "domain": {
          "x": [
           0,
           1
          ],
          "y": [
           0,
           1
          ]
         },
         "xaxis": {
          "range": [
           -2,
           3
          ],
          "title": {
           "text": "(1)20s JH Married Burglar"
          }
         },
         "yaxis": {
          "range": [
           -2,
           2
          ],
          "title": {
           "text": "(2)30s COL Married Pusher"
          }
         },
         "zaxis": {
          "range": [
           -2,
           2
          ],
          "title": {
           "text": "(3)20s HS Pusher"
          }
         }
        },
        "template": {
         "data": {
          "bar": [
           {
            "error_x": {
             "color": "#2a3f5f"
            },
            "error_y": {
             "color": "#2a3f5f"
            },
            "marker": {
             "line": {
              "color": "#E5ECF6",
              "width": 0.5
             },
             "pattern": {
              "fillmode": "overlay",
              "size": 10,
              "solidity": 0.2
             }
            },
            "type": "bar"
           }
          ],
          "barpolar": [
           {
            "marker": {
             "line": {
              "color": "#E5ECF6",
              "width": 0.5
             },
             "pattern": {
              "fillmode": "overlay",
              "size": 10,
              "solidity": 0.2
             }
            },
            "type": "barpolar"
           }
          ],
          "carpet": [
           {
            "aaxis": {
             "endlinecolor": "#2a3f5f",
             "gridcolor": "white",
             "linecolor": "white",
             "minorgridcolor": "white",
             "startlinecolor": "#2a3f5f"
            },
            "baxis": {
             "endlinecolor": "#2a3f5f",
             "gridcolor": "white",
             "linecolor": "white",
             "minorgridcolor": "white",
             "startlinecolor": "#2a3f5f"
            },
            "type": "carpet"
           }
          ],
          "choropleth": [
           {
            "colorbar": {
             "outlinewidth": 0,
             "ticks": ""
            },
            "type": "choropleth"
           }
          ],
          "contour": [
           {
            "colorbar": {
             "outlinewidth": 0,
             "ticks": ""
            },
            "colorscale": [
             [
              0,
              "#0d0887"
             ],
             [
              0.1111111111111111,
              "#46039f"
             ],
             [
              0.2222222222222222,
              "#7201a8"
             ],
             [
              0.3333333333333333,
              "#9c179e"
             ],
             [
              0.4444444444444444,
              "#bd3786"
             ],
             [
              0.5555555555555556,
              "#d8576b"
             ],
             [
              0.6666666666666666,
              "#ed7953"
             ],
             [
              0.7777777777777778,
              "#fb9f3a"
             ],
             [
              0.8888888888888888,
              "#fdca26"
             ],
             [
              1,
              "#f0f921"
             ]
            ],
            "type": "contour"
           }
          ],
          "contourcarpet": [
           {
            "colorbar": {
             "outlinewidth": 0,
             "ticks": ""
            },
            "type": "contourcarpet"
           }
          ],
          "heatmap": [
           {
            "colorbar": {
             "outlinewidth": 0,
             "ticks": ""
            },
            "colorscale": [
             [
              0,
              "#0d0887"
             ],
             [
              0.1111111111111111,
              "#46039f"
             ],
             [
              0.2222222222222222,
              "#7201a8"
             ],
             [
              0.3333333333333333,
              "#9c179e"
             ],
             [
              0.4444444444444444,
              "#bd3786"
             ],
             [
              0.5555555555555556,
              "#d8576b"
             ],
             [
              0.6666666666666666,
              "#ed7953"
             ],
             [
              0.7777777777777778,
              "#fb9f3a"
             ],
             [
              0.8888888888888888,
              "#fdca26"
             ],
             [
              1,
              "#f0f921"
             ]
            ],
            "type": "heatmap"
           }
          ],
          "heatmapgl": [
           {
            "colorbar": {
             "outlinewidth": 0,
             "ticks": ""
            },
            "colorscale": [
             [
              0,
              "#0d0887"
             ],
             [
              0.1111111111111111,
              "#46039f"
             ],
             [
              0.2222222222222222,
              "#7201a8"
             ],
             [
              0.3333333333333333,
              "#9c179e"
             ],
             [
              0.4444444444444444,
              "#bd3786"
             ],
             [
              0.5555555555555556,
              "#d8576b"
             ],
             [
              0.6666666666666666,
              "#ed7953"
             ],
             [
              0.7777777777777778,
              "#fb9f3a"
             ],
             [
              0.8888888888888888,
              "#fdca26"
             ],
             [
              1,
              "#f0f921"
             ]
            ],
            "type": "heatmapgl"
           }
          ],
          "histogram": [
           {
            "marker": {
             "pattern": {
              "fillmode": "overlay",
              "size": 10,
              "solidity": 0.2
             }
            },
            "type": "histogram"
           }
          ],
          "histogram2d": [
           {
            "colorbar": {
             "outlinewidth": 0,
             "ticks": ""
            },
            "colorscale": [
             [
              0,
              "#0d0887"
             ],
             [
              0.1111111111111111,
              "#46039f"
             ],
             [
              0.2222222222222222,
              "#7201a8"
             ],
             [
              0.3333333333333333,
              "#9c179e"
             ],
             [
              0.4444444444444444,
              "#bd3786"
             ],
             [
              0.5555555555555556,
              "#d8576b"
             ],
             [
              0.6666666666666666,
              "#ed7953"
             ],
             [
              0.7777777777777778,
              "#fb9f3a"
             ],
             [
              0.8888888888888888,
              "#fdca26"
             ],
             [
              1,
              "#f0f921"
             ]
            ],
            "type": "histogram2d"
           }
          ],
          "histogram2dcontour": [
           {
            "colorbar": {
             "outlinewidth": 0,
             "ticks": ""
            },
            "colorscale": [
             [
              0,
              "#0d0887"
             ],
             [
              0.1111111111111111,
              "#46039f"
             ],
             [
              0.2222222222222222,
              "#7201a8"
             ],
             [
              0.3333333333333333,
              "#9c179e"
             ],
             [
              0.4444444444444444,
              "#bd3786"
             ],
             [
              0.5555555555555556,
              "#d8576b"
             ],
             [
              0.6666666666666666,
              "#ed7953"
             ],
             [
              0.7777777777777778,
              "#fb9f3a"
             ],
             [
              0.8888888888888888,
              "#fdca26"
             ],
             [
              1,
              "#f0f921"
             ]
            ],
            "type": "histogram2dcontour"
           }
          ],
          "mesh3d": [
           {
            "colorbar": {
             "outlinewidth": 0,
             "ticks": ""
            },
            "type": "mesh3d"
           }
          ],
          "parcoords": [
           {
            "line": {
             "colorbar": {
              "outlinewidth": 0,
              "ticks": ""
             }
            },
            "type": "parcoords"
           }
          ],
          "pie": [
           {
            "automargin": true,
            "type": "pie"
           }
          ],
          "scatter": [
           {
            "marker": {
             "colorbar": {
              "outlinewidth": 0,
              "ticks": ""
             }
            },
            "type": "scatter"
           }
          ],
          "scatter3d": [
           {
            "line": {
             "colorbar": {
              "outlinewidth": 0,
              "ticks": ""
             }
            },
            "marker": {
             "colorbar": {
              "outlinewidth": 0,
              "ticks": ""
             }
            },
            "type": "scatter3d"
           }
          ],
          "scattercarpet": [
           {
            "marker": {
             "colorbar": {
              "outlinewidth": 0,
              "ticks": ""
             }
            },
            "type": "scattercarpet"
           }
          ],
          "scattergeo": [
           {
            "marker": {
             "colorbar": {
              "outlinewidth": 0,
              "ticks": ""
             }
            },
            "type": "scattergeo"
           }
          ],
          "scattergl": [
           {
            "marker": {
             "colorbar": {
              "outlinewidth": 0,
              "ticks": ""
             }
            },
            "type": "scattergl"
           }
          ],
          "scattermapbox": [
           {
            "marker": {
             "colorbar": {
              "outlinewidth": 0,
              "ticks": ""
             }
            },
            "type": "scattermapbox"
           }
          ],
          "scatterpolar": [
           {
            "marker": {
             "colorbar": {
              "outlinewidth": 0,
              "ticks": ""
             }
            },
            "type": "scatterpolar"
           }
          ],
          "scatterpolargl": [
           {
            "marker": {
             "colorbar": {
              "outlinewidth": 0,
              "ticks": ""
             }
            },
            "type": "scatterpolargl"
           }
          ],
          "scatterternary": [
           {
            "marker": {
             "colorbar": {
              "outlinewidth": 0,
              "ticks": ""
             }
            },
            "type": "scatterternary"
           }
          ],
          "surface": [
           {
            "colorbar": {
             "outlinewidth": 0,
             "ticks": ""
            },
            "colorscale": [
             [
              0,
              "#0d0887"
             ],
             [
              0.1111111111111111,
              "#46039f"
             ],
             [
              0.2222222222222222,
              "#7201a8"
             ],
             [
              0.3333333333333333,
              "#9c179e"
             ],
             [
              0.4444444444444444,
              "#bd3786"
             ],
             [
              0.5555555555555556,
              "#d8576b"
             ],
             [
              0.6666666666666666,
              "#ed7953"
             ],
             [
              0.7777777777777778,
              "#fb9f3a"
             ],
             [
              0.8888888888888888,
              "#fdca26"
             ],
             [
              1,
              "#f0f921"
             ]
            ],
            "type": "surface"
           }
          ],
          "table": [
           {
            "cells": {
             "fill": {
              "color": "#EBF0F8"
             },
             "line": {
              "color": "white"
             }
            },
            "header": {
             "fill": {
              "color": "#C8D4E3"
             },
             "line": {
              "color": "white"
             }
            },
            "type": "table"
           }
          ]
         },
         "layout": {
          "annotationdefaults": {
           "arrowcolor": "#2a3f5f",
           "arrowhead": 0,
           "arrowwidth": 1
          },
          "autotypenumbers": "strict",
          "coloraxis": {
           "colorbar": {
            "outlinewidth": 0,
            "ticks": ""
           }
          },
          "colorscale": {
           "diverging": [
            [
             0,
             "#8e0152"
            ],
            [
             0.1,
             "#c51b7d"
            ],
            [
             0.2,
             "#de77ae"
            ],
            [
             0.3,
             "#f1b6da"
            ],
            [
             0.4,
             "#fde0ef"
            ],
            [
             0.5,
             "#f7f7f7"
            ],
            [
             0.6,
             "#e6f5d0"
            ],
            [
             0.7,
             "#b8e186"
            ],
            [
             0.8,
             "#7fbc41"
            ],
            [
             0.9,
             "#4d9221"
            ],
            [
             1,
             "#276419"
            ]
           ],
           "sequential": [
            [
             0,
             "#0d0887"
            ],
            [
             0.1111111111111111,
             "#46039f"
            ],
            [
             0.2222222222222222,
             "#7201a8"
            ],
            [
             0.3333333333333333,
             "#9c179e"
            ],
            [
             0.4444444444444444,
             "#bd3786"
            ],
            [
             0.5555555555555556,
             "#d8576b"
            ],
            [
             0.6666666666666666,
             "#ed7953"
            ],
            [
             0.7777777777777778,
             "#fb9f3a"
            ],
            [
             0.8888888888888888,
             "#fdca26"
            ],
            [
             1,
             "#f0f921"
            ]
           ],
           "sequentialminus": [
            [
             0,
             "#0d0887"
            ],
            [
             0.1111111111111111,
             "#46039f"
            ],
            [
             0.2222222222222222,
             "#7201a8"
            ],
            [
             0.3333333333333333,
             "#9c179e"
            ],
            [
             0.4444444444444444,
             "#bd3786"
            ],
            [
             0.5555555555555556,
             "#d8576b"
            ],
            [
             0.6666666666666666,
             "#ed7953"
            ],
            [
             0.7777777777777778,
             "#fb9f3a"
            ],
            [
             0.8888888888888888,
             "#fdca26"
            ],
            [
             1,
             "#f0f921"
            ]
           ]
          },
          "colorway": [
           "#636efa",
           "#EF553B",
           "#00cc96",
           "#ab63fa",
           "#FFA15A",
           "#19d3f3",
           "#FF6692",
           "#B6E880",
           "#FF97FF",
           "#FECB52"
          ],
          "font": {
           "color": "#2a3f5f"
          },
          "geo": {
           "bgcolor": "white",
           "lakecolor": "white",
           "landcolor": "#E5ECF6",
           "showlakes": true,
           "showland": true,
           "subunitcolor": "white"
          },
          "hoverlabel": {
           "align": "left"
          },
          "hovermode": "closest",
          "mapbox": {
           "style": "light"
          },
          "paper_bgcolor": "white",
          "plot_bgcolor": "#E5ECF6",
          "polar": {
           "angularaxis": {
            "gridcolor": "white",
            "linecolor": "white",
            "ticks": ""
           },
           "bgcolor": "#E5ECF6",
           "radialaxis": {
            "gridcolor": "white",
            "linecolor": "white",
            "ticks": ""
           }
          },
          "scene": {
           "xaxis": {
            "backgroundcolor": "#E5ECF6",
            "gridcolor": "white",
            "gridwidth": 2,
            "linecolor": "white",
            "showbackground": true,
            "ticks": "",
            "zerolinecolor": "white"
           },
           "yaxis": {
            "backgroundcolor": "#E5ECF6",
            "gridcolor": "white",
            "gridwidth": 2,
            "linecolor": "white",
            "showbackground": true,
            "ticks": "",
            "zerolinecolor": "white"
           },
           "zaxis": {
            "backgroundcolor": "#E5ECF6",
            "gridcolor": "white",
            "gridwidth": 2,
            "linecolor": "white",
            "showbackground": true,
            "ticks": "",
            "zerolinecolor": "white"
           }
          },
          "shapedefaults": {
           "line": {
            "color": "#2a3f5f"
           }
          },
          "ternary": {
           "aaxis": {
            "gridcolor": "white",
            "linecolor": "white",
            "ticks": ""
           },
           "baxis": {
            "gridcolor": "white",
            "linecolor": "white",
            "ticks": ""
           },
           "bgcolor": "#E5ECF6",
           "caxis": {
            "gridcolor": "white",
            "linecolor": "white",
            "ticks": ""
           }
          },
          "title": {
           "x": 0.05
          },
          "xaxis": {
           "automargin": true,
           "gridcolor": "white",
           "linecolor": "white",
           "ticks": "",
           "title": {
            "standoff": 15
           },
           "zerolinecolor": "white",
           "zerolinewidth": 2
          },
          "yaxis": {
           "automargin": true,
           "gridcolor": "white",
           "linecolor": "white",
           "ticks": "",
           "title": {
            "standoff": 15
           },
           "zerolinecolor": "white",
           "zerolinewidth": 2
          }
         }
        },
        "title": {
         "text": "Visualizzazione su componenti principali: 1,2,3"
        }
       }
      }
     },
     "metadata": {},
     "output_type": "display_data"
    }
   ],
   "source": [
    "title = \"Visualizzazione su componenti principali: 1,2,3\"\n",
    "fig = px.scatter_3d(df_pca_noise.reset_index(),x=cod_componenti[0],y=cod_componenti[1],z=cod_componenti[2],text=\"Name\"\n",
    "                  ,range_x=(-2,3),range_y=(-2,2),range_z = (-2,2), color=\"Gang\", title  = title)\n",
    "fig.update_traces(textposition='top center')\n",
    "fig.write_html(title+'.html')\n",
    "fig.show()"
   ]
  },
  {
   "cell_type": "code",
   "execution_count": 36,
   "metadata": {},
   "outputs": [
    {
     "data": {
      "application/vnd.plotly.v1+json": {
       "config": {
        "plotlyServerURL": "https://plot.ly"
       },
       "data": [
        {
         "hovertemplate": "Gang=Jet<br>(2)30s COL Married Pusher=%{x}<br>(4)20s JH/COL Single Pusher=%{y}<br>(3)20s HS Pusher=%{z}<br>Name=%{text}<extra></extra>",
         "legendgroup": "Jet",
         "marker": {
          "color": "#636efa",
          "symbol": "circle"
         },
         "mode": "markers+text",
         "name": "Jet",
         "scene": "scene",
         "showlegend": true,
         "text": [
          "ART",
          "AL",
          "SAM",
          "CLYDE",
          "MIKE",
          "JIM",
          "GREG",
          "JOHN",
          "DOUG",
          "LANCE",
          "GEORGE",
          "PETE",
          "FRED",
          "GENE",
          "RALPH"
         ],
         "textposition": "top center",
         "type": "scatter3d",
         "x": [
          -0.4170471170498248,
          0.5675638682821951,
          -0.4422934051879655,
          -0.7430094151159286,
          -0.1703181586631693,
          -0.9292902971307923,
          0.006389457834913417,
          -0.36021428316471016,
          0.032573707176761696,
          -0.3944554157611137,
          -0.9563213385926057,
          -0.959376154359504,
          -0.5216581217718106,
          -0.20920196975240582,
          0.1319965184218695
         ],
         "y": [
          0.8091420454418011,
          -0.18123702795134583,
          0.39655754271418686,
          -0.09333186078581909,
          -0.031837679420080006,
          0.24867443933454075,
          0.1547488446817859,
          0.03940699690080181,
          -0.7454839381038031,
          0.08331773462977413,
          0.1577490795404618,
          -0.3793008737370274,
          0.4303106771665718,
          1.2736913339083733,
          0.9159383547249794
         ],
         "z": [
          -0.28310661719975344,
          -0.7422505831143855,
          -0.04562005983767094,
          -0.9752502701576545,
          -1.1694241524096307,
          -0.1724485440712994,
          1.2385928053008466,
          -0.2692604193129261,
          -0.07052684630449728,
          -0.23671265921787354,
          -0.16942223852501748,
          0.46337927559665476,
          1.1605205086029333,
          0.6345543946868986,
          -0.45347888205616466
         ]
        },
        {
         "hovertemplate": "Gang=Sharks<br>(2)30s COL Married Pusher=%{x}<br>(4)20s JH/COL Single Pusher=%{y}<br>(3)20s HS Pusher=%{z}<br>Name=%{text}<extra></extra>",
         "legendgroup": "Sharks",
         "marker": {
          "color": "#EF553B",
          "symbol": "circle"
         },
         "mode": "markers+text",
         "name": "Sharks",
         "scene": "scene",
         "showlegend": true,
         "text": [
          "PHIL",
          "IKE",
          "NICK",
          "DON",
          "NED",
          "KARL",
          "KEN",
          "EARL",
          "RICK",
          "OL",
          "NEAL",
          "DAVE"
         ],
         "textposition": "top center",
         "type": "scatter3d",
         "x": [
          1.4710636399569765,
          -0.21967123071367334,
          0.28543594027825636,
          1.1368636676043842,
          1.1116254376670478,
          0.21381925677183297,
          -1.0102540329392748,
          0.17942674118618765,
          0.24032947470279292,
          1.451973181681395,
          0.04309178621858317,
          0.552676181405622
         ],
         "y": [
          0.6593107379256107,
          -0.0006146412770620178,
          0.14561993134481613,
          -0.06695503094502318,
          -0.2164315258821145,
          -1.0589560339308248,
          -0.32029993874688356,
          -1.0233764993388486,
          -0.9153194654530543,
          0.5870182723683176,
          -0.7316020357112664,
          -0.18469135266647
         ],
         "z": [
          0.1420453550977169,
          -1.157883156399012,
          0.604991949850243,
          -0.2549067165849536,
          -0.5665538489960743,
          0.11388338440900345,
          0.7978251978571835,
          0.430039836533911,
          0.23411749495780887,
          0.12400783527055964,
          -0.05687717973893386,
          0.8312168995022504
         ]
        }
       ],
       "layout": {
        "legend": {
         "title": {
          "text": "Gang"
         },
         "tracegroupgap": 0
        },
        "scene": {
         "domain": {
          "x": [
           0,
           1
          ],
          "y": [
           0,
           1
          ]
         },
         "xaxis": {
          "range": [
           -1.8,
           2.8
          ],
          "title": {
           "text": "(2)30s COL Married Pusher"
          }
         },
         "yaxis": {
          "range": [
           -1.8,
           1.8
          ],
          "title": {
           "text": "(4)20s JH/COL Single Pusher"
          }
         },
         "zaxis": {
          "range": [
           -1.8,
           1.8
          ],
          "title": {
           "text": "(3)20s HS Pusher"
          }
         }
        },
        "template": {
         "data": {
          "bar": [
           {
            "error_x": {
             "color": "#2a3f5f"
            },
            "error_y": {
             "color": "#2a3f5f"
            },
            "marker": {
             "line": {
              "color": "#E5ECF6",
              "width": 0.5
             },
             "pattern": {
              "fillmode": "overlay",
              "size": 10,
              "solidity": 0.2
             }
            },
            "type": "bar"
           }
          ],
          "barpolar": [
           {
            "marker": {
             "line": {
              "color": "#E5ECF6",
              "width": 0.5
             },
             "pattern": {
              "fillmode": "overlay",
              "size": 10,
              "solidity": 0.2
             }
            },
            "type": "barpolar"
           }
          ],
          "carpet": [
           {
            "aaxis": {
             "endlinecolor": "#2a3f5f",
             "gridcolor": "white",
             "linecolor": "white",
             "minorgridcolor": "white",
             "startlinecolor": "#2a3f5f"
            },
            "baxis": {
             "endlinecolor": "#2a3f5f",
             "gridcolor": "white",
             "linecolor": "white",
             "minorgridcolor": "white",
             "startlinecolor": "#2a3f5f"
            },
            "type": "carpet"
           }
          ],
          "choropleth": [
           {
            "colorbar": {
             "outlinewidth": 0,
             "ticks": ""
            },
            "type": "choropleth"
           }
          ],
          "contour": [
           {
            "colorbar": {
             "outlinewidth": 0,
             "ticks": ""
            },
            "colorscale": [
             [
              0,
              "#0d0887"
             ],
             [
              0.1111111111111111,
              "#46039f"
             ],
             [
              0.2222222222222222,
              "#7201a8"
             ],
             [
              0.3333333333333333,
              "#9c179e"
             ],
             [
              0.4444444444444444,
              "#bd3786"
             ],
             [
              0.5555555555555556,
              "#d8576b"
             ],
             [
              0.6666666666666666,
              "#ed7953"
             ],
             [
              0.7777777777777778,
              "#fb9f3a"
             ],
             [
              0.8888888888888888,
              "#fdca26"
             ],
             [
              1,
              "#f0f921"
             ]
            ],
            "type": "contour"
           }
          ],
          "contourcarpet": [
           {
            "colorbar": {
             "outlinewidth": 0,
             "ticks": ""
            },
            "type": "contourcarpet"
           }
          ],
          "heatmap": [
           {
            "colorbar": {
             "outlinewidth": 0,
             "ticks": ""
            },
            "colorscale": [
             [
              0,
              "#0d0887"
             ],
             [
              0.1111111111111111,
              "#46039f"
             ],
             [
              0.2222222222222222,
              "#7201a8"
             ],
             [
              0.3333333333333333,
              "#9c179e"
             ],
             [
              0.4444444444444444,
              "#bd3786"
             ],
             [
              0.5555555555555556,
              "#d8576b"
             ],
             [
              0.6666666666666666,
              "#ed7953"
             ],
             [
              0.7777777777777778,
              "#fb9f3a"
             ],
             [
              0.8888888888888888,
              "#fdca26"
             ],
             [
              1,
              "#f0f921"
             ]
            ],
            "type": "heatmap"
           }
          ],
          "heatmapgl": [
           {
            "colorbar": {
             "outlinewidth": 0,
             "ticks": ""
            },
            "colorscale": [
             [
              0,
              "#0d0887"
             ],
             [
              0.1111111111111111,
              "#46039f"
             ],
             [
              0.2222222222222222,
              "#7201a8"
             ],
             [
              0.3333333333333333,
              "#9c179e"
             ],
             [
              0.4444444444444444,
              "#bd3786"
             ],
             [
              0.5555555555555556,
              "#d8576b"
             ],
             [
              0.6666666666666666,
              "#ed7953"
             ],
             [
              0.7777777777777778,
              "#fb9f3a"
             ],
             [
              0.8888888888888888,
              "#fdca26"
             ],
             [
              1,
              "#f0f921"
             ]
            ],
            "type": "heatmapgl"
           }
          ],
          "histogram": [
           {
            "marker": {
             "pattern": {
              "fillmode": "overlay",
              "size": 10,
              "solidity": 0.2
             }
            },
            "type": "histogram"
           }
          ],
          "histogram2d": [
           {
            "colorbar": {
             "outlinewidth": 0,
             "ticks": ""
            },
            "colorscale": [
             [
              0,
              "#0d0887"
             ],
             [
              0.1111111111111111,
              "#46039f"
             ],
             [
              0.2222222222222222,
              "#7201a8"
             ],
             [
              0.3333333333333333,
              "#9c179e"
             ],
             [
              0.4444444444444444,
              "#bd3786"
             ],
             [
              0.5555555555555556,
              "#d8576b"
             ],
             [
              0.6666666666666666,
              "#ed7953"
             ],
             [
              0.7777777777777778,
              "#fb9f3a"
             ],
             [
              0.8888888888888888,
              "#fdca26"
             ],
             [
              1,
              "#f0f921"
             ]
            ],
            "type": "histogram2d"
           }
          ],
          "histogram2dcontour": [
           {
            "colorbar": {
             "outlinewidth": 0,
             "ticks": ""
            },
            "colorscale": [
             [
              0,
              "#0d0887"
             ],
             [
              0.1111111111111111,
              "#46039f"
             ],
             [
              0.2222222222222222,
              "#7201a8"
             ],
             [
              0.3333333333333333,
              "#9c179e"
             ],
             [
              0.4444444444444444,
              "#bd3786"
             ],
             [
              0.5555555555555556,
              "#d8576b"
             ],
             [
              0.6666666666666666,
              "#ed7953"
             ],
             [
              0.7777777777777778,
              "#fb9f3a"
             ],
             [
              0.8888888888888888,
              "#fdca26"
             ],
             [
              1,
              "#f0f921"
             ]
            ],
            "type": "histogram2dcontour"
           }
          ],
          "mesh3d": [
           {
            "colorbar": {
             "outlinewidth": 0,
             "ticks": ""
            },
            "type": "mesh3d"
           }
          ],
          "parcoords": [
           {
            "line": {
             "colorbar": {
              "outlinewidth": 0,
              "ticks": ""
             }
            },
            "type": "parcoords"
           }
          ],
          "pie": [
           {
            "automargin": true,
            "type": "pie"
           }
          ],
          "scatter": [
           {
            "marker": {
             "colorbar": {
              "outlinewidth": 0,
              "ticks": ""
             }
            },
            "type": "scatter"
           }
          ],
          "scatter3d": [
           {
            "line": {
             "colorbar": {
              "outlinewidth": 0,
              "ticks": ""
             }
            },
            "marker": {
             "colorbar": {
              "outlinewidth": 0,
              "ticks": ""
             }
            },
            "type": "scatter3d"
           }
          ],
          "scattercarpet": [
           {
            "marker": {
             "colorbar": {
              "outlinewidth": 0,
              "ticks": ""
             }
            },
            "type": "scattercarpet"
           }
          ],
          "scattergeo": [
           {
            "marker": {
             "colorbar": {
              "outlinewidth": 0,
              "ticks": ""
             }
            },
            "type": "scattergeo"
           }
          ],
          "scattergl": [
           {
            "marker": {
             "colorbar": {
              "outlinewidth": 0,
              "ticks": ""
             }
            },
            "type": "scattergl"
           }
          ],
          "scattermapbox": [
           {
            "marker": {
             "colorbar": {
              "outlinewidth": 0,
              "ticks": ""
             }
            },
            "type": "scattermapbox"
           }
          ],
          "scatterpolar": [
           {
            "marker": {
             "colorbar": {
              "outlinewidth": 0,
              "ticks": ""
             }
            },
            "type": "scatterpolar"
           }
          ],
          "scatterpolargl": [
           {
            "marker": {
             "colorbar": {
              "outlinewidth": 0,
              "ticks": ""
             }
            },
            "type": "scatterpolargl"
           }
          ],
          "scatterternary": [
           {
            "marker": {
             "colorbar": {
              "outlinewidth": 0,
              "ticks": ""
             }
            },
            "type": "scatterternary"
           }
          ],
          "surface": [
           {
            "colorbar": {
             "outlinewidth": 0,
             "ticks": ""
            },
            "colorscale": [
             [
              0,
              "#0d0887"
             ],
             [
              0.1111111111111111,
              "#46039f"
             ],
             [
              0.2222222222222222,
              "#7201a8"
             ],
             [
              0.3333333333333333,
              "#9c179e"
             ],
             [
              0.4444444444444444,
              "#bd3786"
             ],
             [
              0.5555555555555556,
              "#d8576b"
             ],
             [
              0.6666666666666666,
              "#ed7953"
             ],
             [
              0.7777777777777778,
              "#fb9f3a"
             ],
             [
              0.8888888888888888,
              "#fdca26"
             ],
             [
              1,
              "#f0f921"
             ]
            ],
            "type": "surface"
           }
          ],
          "table": [
           {
            "cells": {
             "fill": {
              "color": "#EBF0F8"
             },
             "line": {
              "color": "white"
             }
            },
            "header": {
             "fill": {
              "color": "#C8D4E3"
             },
             "line": {
              "color": "white"
             }
            },
            "type": "table"
           }
          ]
         },
         "layout": {
          "annotationdefaults": {
           "arrowcolor": "#2a3f5f",
           "arrowhead": 0,
           "arrowwidth": 1
          },
          "autotypenumbers": "strict",
          "coloraxis": {
           "colorbar": {
            "outlinewidth": 0,
            "ticks": ""
           }
          },
          "colorscale": {
           "diverging": [
            [
             0,
             "#8e0152"
            ],
            [
             0.1,
             "#c51b7d"
            ],
            [
             0.2,
             "#de77ae"
            ],
            [
             0.3,
             "#f1b6da"
            ],
            [
             0.4,
             "#fde0ef"
            ],
            [
             0.5,
             "#f7f7f7"
            ],
            [
             0.6,
             "#e6f5d0"
            ],
            [
             0.7,
             "#b8e186"
            ],
            [
             0.8,
             "#7fbc41"
            ],
            [
             0.9,
             "#4d9221"
            ],
            [
             1,
             "#276419"
            ]
           ],
           "sequential": [
            [
             0,
             "#0d0887"
            ],
            [
             0.1111111111111111,
             "#46039f"
            ],
            [
             0.2222222222222222,
             "#7201a8"
            ],
            [
             0.3333333333333333,
             "#9c179e"
            ],
            [
             0.4444444444444444,
             "#bd3786"
            ],
            [
             0.5555555555555556,
             "#d8576b"
            ],
            [
             0.6666666666666666,
             "#ed7953"
            ],
            [
             0.7777777777777778,
             "#fb9f3a"
            ],
            [
             0.8888888888888888,
             "#fdca26"
            ],
            [
             1,
             "#f0f921"
            ]
           ],
           "sequentialminus": [
            [
             0,
             "#0d0887"
            ],
            [
             0.1111111111111111,
             "#46039f"
            ],
            [
             0.2222222222222222,
             "#7201a8"
            ],
            [
             0.3333333333333333,
             "#9c179e"
            ],
            [
             0.4444444444444444,
             "#bd3786"
            ],
            [
             0.5555555555555556,
             "#d8576b"
            ],
            [
             0.6666666666666666,
             "#ed7953"
            ],
            [
             0.7777777777777778,
             "#fb9f3a"
            ],
            [
             0.8888888888888888,
             "#fdca26"
            ],
            [
             1,
             "#f0f921"
            ]
           ]
          },
          "colorway": [
           "#636efa",
           "#EF553B",
           "#00cc96",
           "#ab63fa",
           "#FFA15A",
           "#19d3f3",
           "#FF6692",
           "#B6E880",
           "#FF97FF",
           "#FECB52"
          ],
          "font": {
           "color": "#2a3f5f"
          },
          "geo": {
           "bgcolor": "white",
           "lakecolor": "white",
           "landcolor": "#E5ECF6",
           "showlakes": true,
           "showland": true,
           "subunitcolor": "white"
          },
          "hoverlabel": {
           "align": "left"
          },
          "hovermode": "closest",
          "mapbox": {
           "style": "light"
          },
          "paper_bgcolor": "white",
          "plot_bgcolor": "#E5ECF6",
          "polar": {
           "angularaxis": {
            "gridcolor": "white",
            "linecolor": "white",
            "ticks": ""
           },
           "bgcolor": "#E5ECF6",
           "radialaxis": {
            "gridcolor": "white",
            "linecolor": "white",
            "ticks": ""
           }
          },
          "scene": {
           "xaxis": {
            "backgroundcolor": "#E5ECF6",
            "gridcolor": "white",
            "gridwidth": 2,
            "linecolor": "white",
            "showbackground": true,
            "ticks": "",
            "zerolinecolor": "white"
           },
           "yaxis": {
            "backgroundcolor": "#E5ECF6",
            "gridcolor": "white",
            "gridwidth": 2,
            "linecolor": "white",
            "showbackground": true,
            "ticks": "",
            "zerolinecolor": "white"
           },
           "zaxis": {
            "backgroundcolor": "#E5ECF6",
            "gridcolor": "white",
            "gridwidth": 2,
            "linecolor": "white",
            "showbackground": true,
            "ticks": "",
            "zerolinecolor": "white"
           }
          },
          "shapedefaults": {
           "line": {
            "color": "#2a3f5f"
           }
          },
          "ternary": {
           "aaxis": {
            "gridcolor": "white",
            "linecolor": "white",
            "ticks": ""
           },
           "baxis": {
            "gridcolor": "white",
            "linecolor": "white",
            "ticks": ""
           },
           "bgcolor": "#E5ECF6",
           "caxis": {
            "gridcolor": "white",
            "linecolor": "white",
            "ticks": ""
           }
          },
          "title": {
           "x": 0.05
          },
          "xaxis": {
           "automargin": true,
           "gridcolor": "white",
           "linecolor": "white",
           "ticks": "",
           "title": {
            "standoff": 15
           },
           "zerolinecolor": "white",
           "zerolinewidth": 2
          },
          "yaxis": {
           "automargin": true,
           "gridcolor": "white",
           "linecolor": "white",
           "ticks": "",
           "title": {
            "standoff": 15
           },
           "zerolinecolor": "white",
           "zerolinewidth": 2
          }
         }
        },
        "title": {
         "text": "Visualizzazione su componenti discriminanti: 2,4,3"
        }
       }
      }
     },
     "metadata": {},
     "output_type": "display_data"
    }
   ],
   "source": [
    "title = \"Visualizzazione su componenti discriminanti: 2,4,3\"\n",
    "fig = px.scatter_3d(df_pca_noise.reset_index(),x=cod_componenti[1],y=cod_componenti[3],z=cod_componenti[2],text=\"Name\"\n",
    "                  ,range_x=(-1.8,2.8),range_y=(-1.8,1.8),range_z = (-1.8,1.8), color=\"Gang\", title = title)\n",
    "fig.update_traces(textposition='top center')\n",
    "fig.write_html(title+'.html')\n",
    "fig.show()"
   ]
  },
  {
   "cell_type": "markdown",
   "metadata": {},
   "source": [
    "### Albero costo minimo"
   ]
  },
  {
   "cell_type": "code",
   "execution_count": 37,
   "metadata": {},
   "outputs": [
    {
     "data": {
      "text/html": [
       "<div>\n",
       "<style scoped>\n",
       "    .dataframe tbody tr th:only-of-type {\n",
       "        vertical-align: middle;\n",
       "    }\n",
       "\n",
       "    .dataframe tbody tr th {\n",
       "        vertical-align: top;\n",
       "    }\n",
       "\n",
       "    .dataframe thead th {\n",
       "        text-align: right;\n",
       "    }\n",
       "</style>\n",
       "<table border=\"1\" class=\"dataframe\">\n",
       "  <thead>\n",
       "    <tr style=\"text-align: right;\">\n",
       "      <th></th>\n",
       "      <th>(1)20s JH Married Burglar</th>\n",
       "      <th>(2)30s COL Married Pusher</th>\n",
       "      <th>(3)20s HS Pusher</th>\n",
       "      <th>(4)20s JH/COL Single Pusher</th>\n",
       "      <th>(5)30s JH/HS Divorced Pusher/Burglar</th>\n",
       "      <th>(6)40s JH/HS Married Pusher</th>\n",
       "    </tr>\n",
       "    <tr>\n",
       "      <th>Name</th>\n",
       "      <th></th>\n",
       "      <th></th>\n",
       "      <th></th>\n",
       "      <th></th>\n",
       "      <th></th>\n",
       "      <th></th>\n",
       "    </tr>\n",
       "  </thead>\n",
       "  <tbody>\n",
       "    <tr>\n",
       "      <th>ART</th>\n",
       "      <td>-0.356095</td>\n",
       "      <td>-0.466142</td>\n",
       "      <td>-0.303449</td>\n",
       "      <td>0.802994</td>\n",
       "      <td>0.209677</td>\n",
       "      <td>1.215309</td>\n",
       "    </tr>\n",
       "    <tr>\n",
       "      <th>AL</th>\n",
       "      <td>0.974496</td>\n",
       "      <td>0.519467</td>\n",
       "      <td>-0.800347</td>\n",
       "      <td>-0.207149</td>\n",
       "      <td>0.365502</td>\n",
       "      <td>0.134822</td>\n",
       "    </tr>\n",
       "    <tr>\n",
       "      <th>SAM</th>\n",
       "      <td>-0.523838</td>\n",
       "      <td>-0.517813</td>\n",
       "      <td>-0.076053</td>\n",
       "      <td>0.409925</td>\n",
       "      <td>-1.054002</td>\n",
       "      <td>-0.816292</td>\n",
       "    </tr>\n",
       "    <tr>\n",
       "      <th>CLYDE</th>\n",
       "      <td>-0.576702</td>\n",
       "      <td>-0.762267</td>\n",
       "      <td>-0.993928</td>\n",
       "      <td>-0.065509</td>\n",
       "      <td>-0.379366</td>\n",
       "      <td>0.735927</td>\n",
       "    </tr>\n",
       "    <tr>\n",
       "      <th>MIKE</th>\n",
       "      <td>-0.766236</td>\n",
       "      <td>-0.187350</td>\n",
       "      <td>-1.176210</td>\n",
       "      <td>-0.004213</td>\n",
       "      <td>0.200552</td>\n",
       "      <td>-0.140875</td>\n",
       "    </tr>\n",
       "    <tr>\n",
       "      <th>JIM</th>\n",
       "      <td>1.206854</td>\n",
       "      <td>-0.911331</td>\n",
       "      <td>-0.200783</td>\n",
       "      <td>0.143974</td>\n",
       "      <td>0.507897</td>\n",
       "      <td>-0.372078</td>\n",
       "    </tr>\n",
       "    <tr>\n",
       "      <th>GREG</th>\n",
       "      <td>0.348185</td>\n",
       "      <td>0.110559</td>\n",
       "      <td>1.236049</td>\n",
       "      <td>0.172003</td>\n",
       "      <td>-0.340290</td>\n",
       "      <td>0.372912</td>\n",
       "    </tr>\n",
       "    <tr>\n",
       "      <th>JOHN</th>\n",
       "      <td>1.406661</td>\n",
       "      <td>-0.429724</td>\n",
       "      <td>-0.255243</td>\n",
       "      <td>0.127604</td>\n",
       "      <td>-0.290087</td>\n",
       "      <td>0.060284</td>\n",
       "    </tr>\n",
       "    <tr>\n",
       "      <th>DOUG</th>\n",
       "      <td>-1.168549</td>\n",
       "      <td>0.026440</td>\n",
       "      <td>-0.084730</td>\n",
       "      <td>-0.735095</td>\n",
       "      <td>0.108561</td>\n",
       "      <td>-0.301527</td>\n",
       "    </tr>\n",
       "    <tr>\n",
       "      <th>LANCE</th>\n",
       "      <td>1.406661</td>\n",
       "      <td>-0.429724</td>\n",
       "      <td>-0.255243</td>\n",
       "      <td>0.127604</td>\n",
       "      <td>-0.290087</td>\n",
       "      <td>0.060284</td>\n",
       "    </tr>\n",
       "    <tr>\n",
       "      <th>GEORGE</th>\n",
       "      <td>1.206854</td>\n",
       "      <td>-0.911331</td>\n",
       "      <td>-0.200783</td>\n",
       "      <td>0.143974</td>\n",
       "      <td>0.507897</td>\n",
       "      <td>-0.372078</td>\n",
       "    </tr>\n",
       "    <tr>\n",
       "      <th>PETE</th>\n",
       "      <td>-0.736384</td>\n",
       "      <td>-0.922752</td>\n",
       "      <td>0.460374</td>\n",
       "      <td>-0.400341</td>\n",
       "      <td>-0.547029</td>\n",
       "      <td>-0.376066</td>\n",
       "    </tr>\n",
       "    <tr>\n",
       "      <th>FRED</th>\n",
       "      <td>-0.515778</td>\n",
       "      <td>-0.626627</td>\n",
       "      <td>1.150853</td>\n",
       "      <td>0.468161</td>\n",
       "      <td>0.042014</td>\n",
       "      <td>0.103316</td>\n",
       "    </tr>\n",
       "    <tr>\n",
       "      <th>GENE</th>\n",
       "      <td>-0.303232</td>\n",
       "      <td>-0.221688</td>\n",
       "      <td>0.614426</td>\n",
       "      <td>1.278428</td>\n",
       "      <td>-0.464959</td>\n",
       "      <td>-0.336910</td>\n",
       "    </tr>\n",
       "    <tr>\n",
       "      <th>RALPH</th>\n",
       "      <td>-0.545629</td>\n",
       "      <td>0.108775</td>\n",
       "      <td>-0.485731</td>\n",
       "      <td>0.864289</td>\n",
       "      <td>0.789595</td>\n",
       "      <td>0.338507</td>\n",
       "    </tr>\n",
       "    <tr>\n",
       "      <th>PHIL</th>\n",
       "      <td>0.128566</td>\n",
       "      <td>1.464689</td>\n",
       "      <td>0.154518</td>\n",
       "      <td>0.647517</td>\n",
       "      <td>-0.191674</td>\n",
       "      <td>0.007224</td>\n",
       "    </tr>\n",
       "    <tr>\n",
       "      <th>IKE</th>\n",
       "      <td>-0.766236</td>\n",
       "      <td>-0.187350</td>\n",
       "      <td>-1.176210</td>\n",
       "      <td>-0.004213</td>\n",
       "      <td>0.200552</td>\n",
       "      <td>-0.140875</td>\n",
       "    </tr>\n",
       "    <tr>\n",
       "      <th>NICK</th>\n",
       "      <td>-0.947942</td>\n",
       "      <td>0.322565</td>\n",
       "      <td>0.605750</td>\n",
       "      <td>0.133408</td>\n",
       "      <td>0.697604</td>\n",
       "      <td>0.177855</td>\n",
       "    </tr>\n",
       "    <tr>\n",
       "      <th>DON</th>\n",
       "      <td>0.784729</td>\n",
       "      <td>1.138195</td>\n",
       "      <td>-0.245294</td>\n",
       "      <td>-0.127764</td>\n",
       "      <td>-0.233462</td>\n",
       "      <td>-0.466056</td>\n",
       "    </tr>\n",
       "    <tr>\n",
       "      <th>NED</th>\n",
       "      <td>-0.092040</td>\n",
       "      <td>1.168564</td>\n",
       "      <td>-0.535961</td>\n",
       "      <td>-0.220986</td>\n",
       "      <td>-0.780717</td>\n",
       "      <td>-0.472158</td>\n",
       "    </tr>\n",
       "    <tr>\n",
       "      <th>KARL</th>\n",
       "      <td>-0.115053</td>\n",
       "      <td>0.188707</td>\n",
       "      <td>0.182749</td>\n",
       "      <td>-1.092548</td>\n",
       "      <td>-0.853661</td>\n",
       "      <td>0.844871</td>\n",
       "    </tr>\n",
       "    <tr>\n",
       "      <th>KEN</th>\n",
       "      <td>0.140386</td>\n",
       "      <td>-0.953121</td>\n",
       "      <td>0.751042</td>\n",
       "      <td>-0.307119</td>\n",
       "      <td>0.000226</td>\n",
       "      <td>-0.369964</td>\n",
       "    </tr>\n",
       "    <tr>\n",
       "      <th>EARL</th>\n",
       "      <td>0.761717</td>\n",
       "      <td>0.158339</td>\n",
       "      <td>0.473417</td>\n",
       "      <td>-0.999326</td>\n",
       "      <td>-0.306407</td>\n",
       "      <td>0.850972</td>\n",
       "    </tr>\n",
       "    <tr>\n",
       "      <th>RICK</th>\n",
       "      <td>0.372376</td>\n",
       "      <td>0.251649</td>\n",
       "      <td>0.345594</td>\n",
       "      <td>-0.921661</td>\n",
       "      <td>1.071495</td>\n",
       "      <td>-0.458191</td>\n",
       "    </tr>\n",
       "    <tr>\n",
       "      <th>OL</th>\n",
       "      <td>0.128566</td>\n",
       "      <td>1.464689</td>\n",
       "      <td>0.154518</td>\n",
       "      <td>0.647517</td>\n",
       "      <td>-0.191674</td>\n",
       "      <td>0.007224</td>\n",
       "    </tr>\n",
       "    <tr>\n",
       "      <th>NEAL</th>\n",
       "      <td>-1.168549</td>\n",
       "      <td>0.026440</td>\n",
       "      <td>-0.084730</td>\n",
       "      <td>-0.735095</td>\n",
       "      <td>0.108561</td>\n",
       "      <td>-0.301527</td>\n",
       "    </tr>\n",
       "    <tr>\n",
       "      <th>DAVE</th>\n",
       "      <td>-0.283787</td>\n",
       "      <td>0.578143</td>\n",
       "      <td>0.745405</td>\n",
       "      <td>-0.146380</td>\n",
       "      <td>1.113283</td>\n",
       "      <td>0.015090</td>\n",
       "    </tr>\n",
       "  </tbody>\n",
       "</table>\n",
       "</div>"
      ],
      "text/plain": [
       "        (1)20s JH Married Burglar  (2)30s COL Married Pusher  \\\n",
       "Name                                                           \n",
       "ART                     -0.356095                  -0.466142   \n",
       "AL                       0.974496                   0.519467   \n",
       "SAM                     -0.523838                  -0.517813   \n",
       "CLYDE                   -0.576702                  -0.762267   \n",
       "MIKE                    -0.766236                  -0.187350   \n",
       "JIM                      1.206854                  -0.911331   \n",
       "GREG                     0.348185                   0.110559   \n",
       "JOHN                     1.406661                  -0.429724   \n",
       "DOUG                    -1.168549                   0.026440   \n",
       "LANCE                    1.406661                  -0.429724   \n",
       "GEORGE                   1.206854                  -0.911331   \n",
       "PETE                    -0.736384                  -0.922752   \n",
       "FRED                    -0.515778                  -0.626627   \n",
       "GENE                    -0.303232                  -0.221688   \n",
       "RALPH                   -0.545629                   0.108775   \n",
       "PHIL                     0.128566                   1.464689   \n",
       "IKE                     -0.766236                  -0.187350   \n",
       "NICK                    -0.947942                   0.322565   \n",
       "DON                      0.784729                   1.138195   \n",
       "NED                     -0.092040                   1.168564   \n",
       "KARL                    -0.115053                   0.188707   \n",
       "KEN                      0.140386                  -0.953121   \n",
       "EARL                     0.761717                   0.158339   \n",
       "RICK                     0.372376                   0.251649   \n",
       "OL                       0.128566                   1.464689   \n",
       "NEAL                    -1.168549                   0.026440   \n",
       "DAVE                    -0.283787                   0.578143   \n",
       "\n",
       "        (3)20s HS Pusher  (4)20s JH/COL Single Pusher  \\\n",
       "Name                                                    \n",
       "ART            -0.303449                     0.802994   \n",
       "AL             -0.800347                    -0.207149   \n",
       "SAM            -0.076053                     0.409925   \n",
       "CLYDE          -0.993928                    -0.065509   \n",
       "MIKE           -1.176210                    -0.004213   \n",
       "JIM            -0.200783                     0.143974   \n",
       "GREG            1.236049                     0.172003   \n",
       "JOHN           -0.255243                     0.127604   \n",
       "DOUG           -0.084730                    -0.735095   \n",
       "LANCE          -0.255243                     0.127604   \n",
       "GEORGE         -0.200783                     0.143974   \n",
       "PETE            0.460374                    -0.400341   \n",
       "FRED            1.150853                     0.468161   \n",
       "GENE            0.614426                     1.278428   \n",
       "RALPH          -0.485731                     0.864289   \n",
       "PHIL            0.154518                     0.647517   \n",
       "IKE            -1.176210                    -0.004213   \n",
       "NICK            0.605750                     0.133408   \n",
       "DON            -0.245294                    -0.127764   \n",
       "NED            -0.535961                    -0.220986   \n",
       "KARL            0.182749                    -1.092548   \n",
       "KEN             0.751042                    -0.307119   \n",
       "EARL            0.473417                    -0.999326   \n",
       "RICK            0.345594                    -0.921661   \n",
       "OL              0.154518                     0.647517   \n",
       "NEAL           -0.084730                    -0.735095   \n",
       "DAVE            0.745405                    -0.146380   \n",
       "\n",
       "        (5)30s JH/HS Divorced Pusher/Burglar  (6)40s JH/HS Married Pusher  \n",
       "Name                                                                       \n",
       "ART                                 0.209677                     1.215309  \n",
       "AL                                  0.365502                     0.134822  \n",
       "SAM                                -1.054002                    -0.816292  \n",
       "CLYDE                              -0.379366                     0.735927  \n",
       "MIKE                                0.200552                    -0.140875  \n",
       "JIM                                 0.507897                    -0.372078  \n",
       "GREG                               -0.340290                     0.372912  \n",
       "JOHN                               -0.290087                     0.060284  \n",
       "DOUG                                0.108561                    -0.301527  \n",
       "LANCE                              -0.290087                     0.060284  \n",
       "GEORGE                              0.507897                    -0.372078  \n",
       "PETE                               -0.547029                    -0.376066  \n",
       "FRED                                0.042014                     0.103316  \n",
       "GENE                               -0.464959                    -0.336910  \n",
       "RALPH                               0.789595                     0.338507  \n",
       "PHIL                               -0.191674                     0.007224  \n",
       "IKE                                 0.200552                    -0.140875  \n",
       "NICK                                0.697604                     0.177855  \n",
       "DON                                -0.233462                    -0.466056  \n",
       "NED                                -0.780717                    -0.472158  \n",
       "KARL                               -0.853661                     0.844871  \n",
       "KEN                                 0.000226                    -0.369964  \n",
       "EARL                               -0.306407                     0.850972  \n",
       "RICK                                1.071495                    -0.458191  \n",
       "OL                                 -0.191674                     0.007224  \n",
       "NEAL                                0.108561                    -0.301527  \n",
       "DAVE                                1.113283                     0.015090  "
      ]
     },
     "execution_count": 37,
     "metadata": {},
     "output_type": "execute_result"
    }
   ],
   "source": [
    "df_pca_no_noise[df_pca_no_noise.columns[:-1]]"
   ]
  },
  {
   "cell_type": "code",
   "execution_count": 38,
   "metadata": {},
   "outputs": [],
   "source": [
    "# calcolo distanze euclidee\n",
    "df_in_graph = df_pca_no_noise[df_pca_no_noise.columns[:-1]]\n",
    "components = df_in_graph.values\n",
    "adj_matrix = []\n",
    "for i in range (0,df_in_graph.shape[0]):\n",
    "    adj_row = []\n",
    "    for j in range (0, df_in_graph.shape[0]):\n",
    "        adj_row.append(euclidean(components[i],components[j]))\n",
    "    adj_matrix.append(adj_row)\n",
    "adj_matrix\n",
    "components = df_in_graph.index\n",
    "df_adj = pd.DataFrame(data = adj_matrix, columns=components, index=components)"
   ]
  },
  {
   "cell_type": "code",
   "execution_count": 39,
   "metadata": {},
   "outputs": [],
   "source": [
    "#G = nx.from_pandas_adjacency(df_adj)\n",
    "#MST = nx.minimum_spanning_tree(G)\n",
    "#plt.figure(figsize=(18,10))\n",
    "#nx.draw_networkx(MST)"
   ]
  },
  {
   "cell_type": "code",
   "execution_count": 40,
   "metadata": {},
   "outputs": [],
   "source": [
    "#nt = Network('900px', '1600px')\n",
    "#nt.from_nx(MST)\n",
    "#nt.show_buttons(filter_=['physics'])\n",
    "#nt.show('MST_PCA.html')"
   ]
  }
 ],
 "metadata": {
  "interpreter": {
   "hash": "916dbcbb3f70747c44a77c7bcd40155683ae19c65e1c03b4aa3499c5328201f1"
  },
  "kernelspec": {
   "display_name": "Python 3.8.10 64-bit",
   "language": "python",
   "name": "python3"
  },
  "language_info": {
   "codemirror_mode": {
    "name": "ipython",
    "version": 3
   },
   "file_extension": ".py",
   "mimetype": "text/x-python",
   "name": "python",
   "nbconvert_exporter": "python",
   "pygments_lexer": "ipython3",
   "version": "3.8.10"
  },
  "orig_nbformat": 4
 },
 "nbformat": 4,
 "nbformat_minor": 2
}
